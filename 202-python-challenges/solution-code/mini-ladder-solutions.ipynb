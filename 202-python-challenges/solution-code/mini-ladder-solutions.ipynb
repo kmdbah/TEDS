{
 "cells": [
  {
   "cell_type": "markdown",
   "metadata": {},
   "source": [
    "<img src=\"http://imgur.com/1ZcRyrc.png\" style=\"float: left; margin: 20px\" width=\"50\" height=\"50\">\n",
    "\n",
    "# Mini Python Ladder\n",
    "\n",
    "---\n",
    "\n",
    "## Python Exercises\n",
    "How many can you get through?"
   ]
  },
  {
   "cell_type": "markdown",
   "metadata": {},
   "source": [
    "## Variables: Basic\n",
    "\n",
    "1. Create an `int` called `my_int` and set it equal to `5`\n",
    "2. Add `4` to `my_int` and call this new object `my_int2`"
   ]
  },
  {
   "cell_type": "code",
   "execution_count": 1,
   "metadata": {},
   "outputs": [],
   "source": [
    "# Starter Code\n",
    "my_int = 5\n",
    "my_int2 = my_int + 4"
   ]
  },
  {
   "cell_type": "markdown",
   "metadata": {},
   "source": [
    "## Variables: Data Types\n",
    "\n",
    "The goal of this exercise is to create 3 different kinds of variables and set their specific values.\n",
    "\n",
    "1. Create a `float` called `my_float` and set it to `3.2`\n",
    "2. Create a `string` called `my_string` and set it to `\"hello\"`\n",
    "3. Create a `boolean` called `my_bool` and set it equal to `True`"
   ]
  },
  {
   "cell_type": "code",
   "execution_count": 2,
   "metadata": {},
   "outputs": [],
   "source": [
    "my_float = 3.2\n",
    "my_string = 'hello'\n",
    "my_bool = True"
   ]
  },
  {
   "cell_type": "markdown",
   "metadata": {},
   "source": [
    "## Variables: Casting\n",
    "\n",
    "1. Add `my_int` to `my_float` and call this new object `my_int_float`.\n",
    "2. Add `my_int` to `my_string` and call this new object `my_in_string`. Don't forget to cast the appropriate values in order to make the code work."
   ]
  },
  {
   "cell_type": "code",
   "execution_count": 3,
   "metadata": {},
   "outputs": [
    {
     "name": "stdout",
     "output_type": "stream",
     "text": [
      "8.2\n",
      "5hello\n"
     ]
    }
   ],
   "source": [
    "# Starter Code\n",
    "my_int = 5\n",
    "my_float = 3.2\n",
    "my_string = \"hello\"\n",
    "\n",
    "my_int_float = my_int + my_float\n",
    "my_int_string = str(my_int) + my_string\n",
    "\n",
    "print(my_int_float)\n",
    "print(my_int_string)"
   ]
  },
  {
   "cell_type": "markdown",
   "metadata": {},
   "source": [
    "## Variables: Conversions\n",
    "\n",
    "Building on the previous two exercises, your goal is to now work with both sets of variables to create new variables using the python syntax.\n",
    "\n",
    "1. Add `my_bool` to `my_int` and call this object `my_bool_int`.\n",
    "2. Add `my_bool` to `my_float` and call this new object `my_bool_float`.\n",
    "3. Change `my_bool` to `False` and add it to `my_float` and call this object `my_bool_float2`."
   ]
  },
  {
   "cell_type": "code",
   "execution_count": 4,
   "metadata": {},
   "outputs": [
    {
     "name": "stdout",
     "output_type": "stream",
     "text": [
      "6\n",
      "4.2\n",
      "3.2\n"
     ]
    }
   ],
   "source": [
    "# Starter Code\n",
    "my_int = 5\n",
    "my_float = 3.2\n",
    "my_bool = True\n",
    "\n",
    "my_bool_int = my_bool + my_int\n",
    "my_bool_float = my_bool + my_float\n",
    "\n",
    "my_bool = False\n",
    "my_bool_float2 = my_bool + my_float\n",
    "\n",
    "print(my_bool_int)\n",
    "print(my_bool_float)\n",
    "print(my_bool_float2)"
   ]
  },
  {
   "cell_type": "markdown",
   "metadata": {},
   "source": [
    "---\n",
    "\n",
    "## Lists: Basic\n",
    "\n",
    "1. Create an empty list called `my_list`\n",
    "2. Insert the `int` `4` into the list and save it to a variable `my_list_2`.\n",
    "3. Prepend the `int` `3` to the front of `my_list_2` and save the result to the variable `my_list_3`.\n",
    "4. Print all 3 variables one per line. If you've done this exercise correctly, their values should all be identical."
   ]
  },
  {
   "cell_type": "code",
   "execution_count": 5,
   "metadata": {},
   "outputs": [
    {
     "name": "stdout",
     "output_type": "stream",
     "text": [
      "[3, 4]\n",
      "[3, 4]\n",
      "[3, 4]\n"
     ]
    }
   ],
   "source": [
    "# Starter Code\n",
    "my_list = []\n",
    "my_list.append(4)\n",
    "my_list_2 = my_list\n",
    "my_list.insert(0, 3)\n",
    "my_list_3 = my_list_2\n",
    "\n",
    "print(my_list)\n",
    "print(my_list_2)\n",
    "print(my_list_3)"
   ]
  },
  {
   "cell_type": "markdown",
   "metadata": {},
   "source": [
    "## Lists: Reverse\n",
    "\n",
    "Using the provided list called `my_list`:\n",
    "\n",
    "1. Remove the last element from `my_list`.\n",
    "2. Reverse the list using `list(reversed(my_list))` and store the result as `my_list_reversed`.\n",
    "3. Reverse the list using `my_list.reverse()` without storing the result in a new variable.\n",
    "4. Print both lists and consider why the lists are identical."
   ]
  },
  {
   "cell_type": "code",
   "execution_count": 6,
   "metadata": {},
   "outputs": [
    {
     "name": "stdout",
     "output_type": "stream",
     "text": [
      "[3, 1, 4, 70, 2, 6, 1]\n",
      "[3, 1, 4, 70, 2, 6, 1]\n"
     ]
    }
   ],
   "source": [
    "# Starter Code\n",
    "my_list = [1,6,2,70,4,1,3,4]\n",
    "\n",
    "my_list.pop()\n",
    "my_list_reversed = list(reversed(my_list))\n",
    "my_list.reverse()\n",
    "\n",
    "# Identical because they both reverse the result of my_list.pop()\n",
    "#  - reversed() always returns a new list and does not modify the original\n",
    "print(my_list)\n",
    "print(my_list_reversed)"
   ]
  },
  {
   "cell_type": "markdown",
   "metadata": {},
   "source": [
    "## Lists: Sorting\n",
    "\n",
    "Using the provided list called `my_list`:\n",
    "\n",
    "1. Sort `my_list` in ascending order using `sorted` and save the result as `sorted_my_list`.\n",
    "2. Remove the first occurence of `4` from `my_list`.\n",
    "3. Remove the first occurence of `4` from `sorted_my_list`.\n",
    "4. Print both lists, one per line. If you've done this exercise correctly, they should not be identical."
   ]
  },
  {
   "cell_type": "code",
   "execution_count": 7,
   "metadata": {},
   "outputs": [
    {
     "name": "stdout",
     "output_type": "stream",
     "text": [
      "[1, 6, 2, 70, 1, 3, 4]\n",
      "[1, 1, 2, 3, 4, 6, 70]\n"
     ]
    }
   ],
   "source": [
    "# Starter Code\n",
    "my_list = [1,6,2,70,4,1,3,4]\n",
    "\n",
    "sorted_my_list = sorted(my_list)\n",
    "\n",
    "my_list.remove(4)\n",
    "sorted_my_list.remove(4)\n",
    "\n",
    "# Sorted returns a new list and does not modify the original.\n",
    "print(my_list)\n",
    "print(sorted_my_list)"
   ]
  },
  {
   "cell_type": "markdown",
   "metadata": {},
   "source": [
    "---\n",
    "\n",
    "## Dictionaries: Basic\n",
    "\n",
    "Using the provided dictionary called `week_list`:\n",
    "\n",
    "1. Collect all the keys in `week_dict` into a list called `weekdays`.\n",
    "2. Remove the key `Monday` from `week_dict`.\n",
    "3. Remove the element `Monday` from `weekdays`.\n",
    "4. Print the `week_dict` and the list `weekdays`."
   ]
  },
  {
   "cell_type": "code",
   "execution_count": 8,
   "metadata": {},
   "outputs": [
    {
     "name": "stdout",
     "output_type": "stream",
     "text": [
      "{'Tuesday': False, 'Wednesday': False, 'Thursday': False, 'Friday': False, 'Saturday': True, 'Sunday': True}\n",
      "['Tuesday', 'Wednesday', 'Thursday', 'Friday', 'Saturday', 'Sunday']\n"
     ]
    }
   ],
   "source": [
    "# Starter Code\n",
    "week_dict = {'Monday': False, 'Tuesday': False,\n",
    "             'Wednesday': False, 'Thursday': False,\n",
    "             'Friday': False, 'Saturday': True,\n",
    "             'Sunday': True}\n",
    "\n",
    "weekdays = list(week_dict.keys())\n",
    "\n",
    "del week_dict['Monday']\n",
    "weekdays.remove('Monday')\n",
    "\n",
    "print(week_dict)\n",
    "print(weekdays)"
   ]
  },
  {
   "cell_type": "markdown",
   "metadata": {},
   "source": [
    "---\n",
    "\n",
    "## Functions: Keyword Parameters\n",
    "\n",
    "Define the function `calc_default_add`, which — when given two numeric inputs and the string `\"add\"` or `\"sub\"` — either adds or subtracts the two numbers appropriately. If the string is not provided as a third parameter, make the default operation `add`.\n",
    "\n",
    "Also make sure that, if any other operation is provided as the third parameter, you print the string `\"Valid operations: add, sub\"`."
   ]
  },
  {
   "cell_type": "code",
   "execution_count": 9,
   "metadata": {},
   "outputs": [
    {
     "name": "stdout",
     "output_type": "stream",
     "text": [
      "Valid operations: add, sub\n"
     ]
    }
   ],
   "source": [
    "# Starter Code\n",
    "def calc_default_add(x, y, op='add'):\n",
    "    if op == 'add':\n",
    "        return x + y\n",
    "    elif op == 'sub':\n",
    "        return x - y\n",
    "    else:\n",
    "        print('Valid operations: add, sub')\n",
    "\n",
    "assert calc_default_add(1, 2) == 3\n",
    "assert calc_default_add(-2, 2, 'add') == 0\n",
    "assert calc_default_add(10, 8, 'sub') == 2\n",
    "assert calc_default_add(1, 1, 'none') == None"
   ]
  },
  {
   "cell_type": "markdown",
   "metadata": {},
   "source": [
    "## Functions: Leap Year\n",
    "\n",
    "Define the function `is_leap`, which checks whether or not a given four-digit year is a leap year in the Gregorian calendar.\n",
    "\n",
    "In the Gregorian calendar, three criteria must be taken into account to identify leap years:\n",
    "\n",
    "* If the year can be evenly divided by 400, it is a leap year.\n",
    "* If the year can be divided by 100 and not 400, it is not a leap year.\n",
    "* If the year can be divided by 4 but not by 100, it is a leap year.\n",
    "* Otherwise, it is not a leap year."
   ]
  },
  {
   "cell_type": "code",
   "execution_count": 10,
   "metadata": {},
   "outputs": [],
   "source": [
    "# Starter Code\n",
    "def is_leap(year):\n",
    "    if year % 400 == 0: return True    # divisible by 400\n",
    "    if year % 100 == 0: return False   # divisible by 100 but not 400\n",
    "    if year % 4 == 0: return True      # divisible by 4 but not 100\n",
    "    \n",
    "    return False\n",
    "\n",
    "assert is_leap(2000) == True\n",
    "assert is_leap(1900) == False\n",
    "assert is_leap(1600) == True\n",
    "assert is_leap(2004) == True\n",
    "assert is_leap(2021) == False"
   ]
  },
  {
   "cell_type": "markdown",
   "metadata": {},
   "source": [
    "---\n",
    "\n",
    "## Classes: Basic\n",
    "\n",
    "**Prompt:** Recall that a class is essentially the blueprint of a provided object and that it is created using the process of instantiation.\n",
    "\n",
    "Imagine that you are working with music data of all different types of genres and want to ultimately define three different classes of music (pop, country, and rock). Each class should have three attributes (number of members in the band, number of albums released, and number of records sold) that describe the object being assigned to that class.\n",
    "\n",
    "For this challenge, you are to write the code needed to define and initiate a class for a rock music band and return the printed stats of the provided rock band once it has been assigned to that class.\n",
    "\n",
    "```\n",
    "band: Queen \n",
    "members: 4\n",
    "albums: 15\n",
    "sold: 105000000\n",
    "genre: Rock\n",
    "```"
   ]
  },
  {
   "cell_type": "code",
   "execution_count": 11,
   "metadata": {},
   "outputs": [
    {
     "name": "stdout",
     "output_type": "stream",
     "text": [
      "band: Queen\n",
      "members: 4\n",
      "albums: 15\n",
      "sold: 105000000\n",
      "genre: Rock\n"
     ]
    }
   ],
   "source": [
    "class Genre(object):\n",
    "    def __init__(self, band, members, albums, sold, genre):\n",
    "        self.band = band\n",
    "        self.members = members\n",
    "        self.albums = albums\n",
    "        self.sold = sold\n",
    "        self.genre = genre\n",
    "\n",
    "    def print_stats(self):\n",
    "        stats = []\n",
    "        stats.append(f'band: {self.band}')\n",
    "        stats.append(f'members: {self.members}')\n",
    "        stats.append(f'albums: {self.albums}')\n",
    "        stats.append(f'sold: {self.sold}')\n",
    "        stats.append(f'genre: {self.genre}')\n",
    "        \n",
    "        return '\\n'.join(stats)\n",
    "\n",
    "Queen = Genre('Queen', 4, 15, 105000000, 'Rock')\n",
    "print(Queen.print_stats())"
   ]
  },
  {
   "cell_type": "markdown",
   "metadata": {},
   "source": [
    "## Classes: Complex\n",
    "\n",
    "For this challenge you are given two complex numbers. This time, your task is to create a `class` that can print the result of subtracting and multiplying complex values.\n",
    "\n",
    "In order to do so, you must complete the class `Complex`, defined below.\n",
    "\n",
    "Methods with a double underscore before and after their name are considered built-in methods. They are used by interpreters and are generally included in the implementation of overloaded operators or other built-in functionality.\n",
    "\n",
    "So, to overwrite a given class' string method — which treats how it is represented on screen — or when you cast it to a string, you overload its __str__ method, as we have done below.\n",
    "\n",
    "Thus, in order for you to implement subtraction and multiplication between two objects of the class `Complex`, overload (write) the following __sub__ and __mul__ methods.\n",
    "\n",
    "As a reminder, to subtract one complex number from another, simply subtract their real parts and imaginary parts separately.\n",
    "\n",
    "So:\n",
    "\n",
    "```\n",
    "(1 + 2i) - (3 + 4i) = -2 - 2i\n",
    "```\n",
    "\n",
    "Or:\n",
    "\n",
    "```\n",
    "print(Complex(1,2)-Complex(3,4))\n",
    "-2.00-2.00i\n",
    "```\n",
    "\n",
    "Multiplication with complex numbers is a bit more challenging. Remember that multiplying `i` by itself  `= -1`, so multiplying complex numbers involves multiplying the real and complex components with each other and subtracting and adding appropriately.\n",
    "\n",
    "So:\n",
    "\n",
    "```\n",
    "(1 + 2i) * (3 + 4i)\n",
    "((1 * 3) - (2 * 4)) + (1*4 + 2*3)i\n",
    "(-5) + (10)i\n",
    "-5 + 10i\n",
    "```\n",
    "\n",
    "Or:\n",
    "\n",
    "```\n",
    "print(Complex(1,2)*Complex(3,4))\n",
    "-5.00+10.00i \n",
    "```"
   ]
  },
  {
   "cell_type": "code",
   "execution_count": 3,
   "metadata": {},
   "outputs": [],
   "source": [
    "class Complex(object):\n",
    "    def __init__(self, real, imaginary):\n",
    "        self.real = real\n",
    "        self.imaginary = imaginary\n",
    "\n",
    "    def __sub__(self, other):\n",
    "        return Complex(self.real - other.real, \n",
    "                       self.imaginary - other.imaginary)\n",
    "\n",
    "    def __mul__(self, other):\n",
    "        return Complex(self.real*other.real - self.imaginary*other.imaginary,\n",
    "                       self.real*other.imaginary + self.imaginary*other.real)\n",
    "\n",
    "    def __str__(self):\n",
    "        if self.imaginary == 0:\n",
    "            result = \"%.2f+0.00i\" % (self.real)\n",
    "        elif self.real == 0:\n",
    "            if self.imaginary >= 0:\n",
    "                result = \"0.00+%.2fi\" % (self.imaginary)\n",
    "            else:\n",
    "                result = \"0.00-%.2fi\" % (abs(self.imaginary))\n",
    "        elif self.imaginary > 0:\n",
    "            result = \"%.2f+%.2fi\" % (self.real, self.imaginary)\n",
    "        else:\n",
    "            result = \"%.2f-%.2fi\" % (self.real, abs(self.imaginary))\n",
    "        return result"
   ]
  },
  {
   "cell_type": "code",
   "execution_count": 4,
   "metadata": {},
   "outputs": [
    {
     "name": "stdout",
     "output_type": "stream",
     "text": [
      "-2.00-2.00i\n",
      "-5.00+10.00i\n"
     ]
    }
   ],
   "source": [
    "print(Complex(1,2)-Complex(3,4))  # -2.00-2.00i\n",
    "print(Complex(1,2)*Complex(3,4))  # -5.00+10.00i "
   ]
  },
  {
   "cell_type": "code",
   "execution_count": null,
   "metadata": {},
   "outputs": [],
   "source": []
  }
 ],
 "metadata": {
  "kernelspec": {
   "display_name": "Python 3",
   "language": "python",
   "name": "python3"
  },
  "language_info": {
   "codemirror_mode": {
    "name": "ipython",
    "version": 3
   },
   "file_extension": ".py",
   "mimetype": "text/x-python",
   "name": "python",
   "nbconvert_exporter": "python",
   "pygments_lexer": "ipython3",
   "version": "3.8.5"
  }
 },
 "nbformat": 4,
 "nbformat_minor": 4
}
