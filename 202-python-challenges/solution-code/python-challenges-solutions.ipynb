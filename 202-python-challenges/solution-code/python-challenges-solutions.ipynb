{
 "cells": [
  {
   "cell_type": "markdown",
   "metadata": {},
   "source": [
    "<img src=\"http://imgur.com/1ZcRyrc.png\" style=\"float: left; margin: 20px; height: 55px\">\n",
    " \n",
    "# TEDS Python Challenges\n",
    " \n",
    "---"
   ]
  },
  {
   "cell_type": "markdown",
   "metadata": {},
   "source": [
    "In groups, see if you can solve the following Python challenge problems!\n",
    "\n",
    "- Feel free to solve the problems out of order.\n",
    "- The first three problems can be solved with just a few lines of code using a single `for` or `while` loop.\n",
    "- In each problem, try to verify your results using multiple methods. This is an essential habit for data scientists! (Verification does not always have to involve coding.)"
   ]
  },
  {
   "cell_type": "code",
   "execution_count": 1,
   "metadata": {},
   "outputs": [],
   "source": [
    "# Note: math.prod requires Python 3.8+\n",
    "\n",
    "from math import factorial, sqrt, prod   # Problem 2, 5, 7 (sqrt), 8 (prod)\n",
    "from random import random                # Problem 7"
   ]
  },
  {
   "cell_type": "markdown",
   "metadata": {},
   "source": [
    "---\n",
    "**Problem 1.** Approximate numerically. Try to make it as accurate as possible by choosing a large value of $n$. What happens if $n$ is too large? How could you provide evidence your result is correct?\n",
    "    \n",
    "$$\\lim_{n\\rightarrow\\infty}(1 + 1/n)^n$$"
   ]
  },
  {
   "cell_type": "code",
   "execution_count": 2,
   "metadata": {},
   "outputs": [],
   "source": [
    "# Answer: 2.718281... = the mathematical constant e\n",
    "\n",
    "# The point of this exercise is you can't always trust a floating point result.\n",
    "\n",
    "# To trust your result, you can:\n",
    "# - Choose a small value of n so that results are stable.\n",
    "# - Choose a better way to compute the number that doesn't result in large powers."
   ]
  },
  {
   "cell_type": "code",
   "execution_count": 3,
   "metadata": {},
   "outputs": [
    {
     "name": "stdout",
     "output_type": "stream",
     "text": [
      "2.716110034087023\n",
      "2.7221477105683163\n",
      "2.7022741499410188\n",
      "2.7314719920912904\n",
      "2.7395565625553937\n",
      "2.721801993865638\n",
      "2.67356798919217\n",
      "2.7053055752377513\n",
      "2.71703685221405\n",
      "2.704135237006117\n",
      "2.661992982280844\n",
      "2.755587517612788\n",
      "2.6528101831464674\n",
      "2.7088539730131798\n",
      "2.750703841295312\n",
      "2.7739962259873243\n",
      "2.7739962259873243\n",
      "2.7458373439619184\n",
      "2.6848898814707547\n",
      "2.587269895427011\n",
      "2.8452858807833037\n",
      "2.680253407611336\n",
      "2.9579678033986316\n",
      "2.70236488507032\n",
      "2.984821661917247\n"
     ]
    }
   ],
   "source": [
    "# For small n, the result will be stable. \n",
    "# - As n increases, the result will become unstable due to the large power.\n",
    "# - Finally, the expression will overflow (become 1.0 in this case).\n",
    "\n",
    "# The issue here is that (1 + 1/n) ** n is a floating point number.\n",
    "# - Floating point numbers are stored in a finite amount of space so are inaccurate.\n",
    "# - As a float gets very large or very small, it loses precision -- \n",
    "#     larger gaps occur between storeable numbers.\n",
    "\n",
    "#START_N = 1e8    # Stable (always starts with 2.718281...)\n",
    "START_N = 1e14   # Unstable results\n",
    "#START_N = 1e20   # Overflow (always 1.0)\n",
    "\n",
    "n = START_N\n",
    "while n < START_N*10:\n",
    "    print((1 + 1/n) ** n)\n",
    "    n += n / 10\n",
    "    \n",
    "# Example of unstable results with large n -- can't trust them without proof!"
   ]
  },
  {
   "cell_type": "markdown",
   "metadata": {},
   "source": [
    "---\n",
    "**Problem 2.** Approximate numerically. Try to make it as accurate as possible by choosing a large $n$.\n",
    "    \n",
    "$$\\sum_{n=0}^{\\infty}{\\frac{1}{n!}}$$"
   ]
  },
  {
   "cell_type": "code",
   "execution_count": 4,
   "metadata": {},
   "outputs": [
    {
     "name": "stdout",
     "output_type": "stream",
     "text": [
      "1.0\n",
      "2.0\n",
      "2.5\n",
      "2.6666666666666665\n",
      "2.708333333333333\n",
      "2.7166666666666663\n",
      "2.7180555555555554\n",
      "2.7182539682539684\n",
      "2.71827876984127\n",
      "2.7182815255731922\n",
      "2.7182818011463845\n",
      "2.718281826198493\n",
      "2.7182818282861687\n",
      "2.7182818284467594\n",
      "2.71828182845823\n",
      "2.718281828458995\n",
      "2.718281828459043\n",
      "2.7182818284590455\n",
      "2.7182818284590455\n",
      "2.7182818284590455\n",
      "2.7182818284590455\n",
      "2.7182818284590455\n",
      "2.7182818284590455\n",
      "2.7182818284590455\n",
      "2.7182818284590455\n",
      "2.7182818284590455\n",
      "2.7182818284590455\n",
      "2.7182818284590455\n",
      "2.7182818284590455\n",
      "2.7182818284590455\n",
      "2.7182818284590455\n",
      "2.7182818284590455\n",
      "2.7182818284590455\n",
      "2.7182818284590455\n",
      "2.7182818284590455\n",
      "2.7182818284590455\n",
      "2.7182818284590455\n",
      "2.7182818284590455\n",
      "2.7182818284590455\n",
      "2.7182818284590455\n",
      "2.7182818284590455\n",
      "2.7182818284590455\n",
      "2.7182818284590455\n",
      "2.7182818284590455\n",
      "2.7182818284590455\n",
      "2.7182818284590455\n",
      "2.7182818284590455\n",
      "2.7182818284590455\n",
      "2.7182818284590455\n",
      "2.7182818284590455\n"
     ]
    }
   ],
   "source": [
    "# Answer: 2.718281828459045... = the mathematical constant e\n",
    "\n",
    "# This method converges much faster.\n",
    "# Eventually, 1/n! is so small that it is below the threshold we can store in a float.\n",
    "# So, each additional term will not affect the resulting float.\n",
    "\n",
    "total = 0\n",
    "n = 0\n",
    "while n < 50:\n",
    "    total += 1 / factorial(n)\n",
    "    n += 1\n",
    "    print(total)"
   ]
  },
  {
   "cell_type": "markdown",
   "metadata": {},
   "source": [
    "---\n",
    "**Problem 3.** Approximate the value of $x$ that maximizes $f(x) = x^{1/x}$, to three decimal places. (Hint: Use a `for` loop to guess values. Suppose you know the maximum is between 0 and 5.)"
   ]
  },
  {
   "cell_type": "code",
   "execution_count": 5,
   "metadata": {},
   "outputs": [
    {
     "name": "stdout",
     "output_type": "stream",
     "text": [
      "2.7182820000260515\n"
     ]
    }
   ],
   "source": [
    "# Answer: This is also the mathematical constant e = 2.71828...\n",
    "\n",
    "START_X, END_X = 0., 5.\n",
    "the_x, max_fx = 0., 0.   # \"the x\" that maximizes f(x)\n",
    "\n",
    "x = START_X\n",
    "while x < END_X:\n",
    "    x += 0.000001     # test every x from 0 to 5\n",
    "    fx = x ** (1/x)\n",
    "    if fx > max_fx:   # store the largest f(x) (and respective x)\n",
    "        the_x = x\n",
    "        max_fx = fx\n",
    "\n",
    "print(the_x)"
   ]
  },
  {
   "cell_type": "markdown",
   "metadata": {},
   "source": [
    "---\n",
    "**Problem 4.**\n",
    "\n",
    "```\n",
    "You land among a sea of zeroes.\n",
    "Here's your big chance to be a hero!\n",
    "Your quest will be long, forsooth.\n",
    "Where will lie the Boolean of Truth?\n",
    "```\n",
    "\n",
    "In the file `datasets/sea.txt`:\n",
    "- The first position is 0, 2nd position is 1, etc.\n",
    "- The Boolean of Truth is 1.\n",
    "- What is the 0-based index of the 1?"
   ]
  },
  {
   "cell_type": "code",
   "execution_count": 6,
   "metadata": {},
   "outputs": [
    {
     "name": "stdout",
     "output_type": "stream",
     "text": [
      "19398533\n"
     ]
    }
   ],
   "source": [
    "# Answer: 19398533\n",
    "\n",
    "with open('../datasets/sea.txt', 'r') as f:\n",
    "    data = f.read()\n",
    "\n",
    "# For each character in the file ...\n",
    "for i,char in enumerate(data):\n",
    "    if char == '1':\n",
    "        print(i)\n",
    "        break"
   ]
  },
  {
   "cell_type": "markdown",
   "metadata": {},
   "source": [
    "---\n",
    "**Problem 5.** What is the smallest non-negative integer $n$ for which $n!$ starts with the digit 9?"
   ]
  },
  {
   "cell_type": "code",
   "execution_count": 7,
   "metadata": {},
   "outputs": [
    {
     "name": "stdout",
     "output_type": "stream",
     "text": [
      "96\n"
     ]
    }
   ],
   "source": [
    "# Answer: 96\n",
    "\n",
    "for n in range(1000):\n",
    "    fac = str(factorial(n))\n",
    "    if fac[0] == '9':\n",
    "        print(n)\n",
    "        break"
   ]
  },
  {
   "cell_type": "markdown",
   "metadata": {},
   "source": [
    "---\n",
    "**Problem 6.** What is the largest integer $n < 1000$ such that the decimal representation of $2^n$ does not contain 0 as a digit? (Fun fact: It is an open problem whether there is a larger $2^n$ that does not contain 0.)"
   ]
  },
  {
   "cell_type": "code",
   "execution_count": 8,
   "metadata": {},
   "outputs": [
    {
     "name": "stdout",
     "output_type": "stream",
     "text": [
      "86\n"
     ]
    }
   ],
   "source": [
    "# Answer: 86\n",
    "\n",
    "for n in range(999, 0, -1):\n",
    "    power2 = str(2**n)\n",
    "    if '0' not in power2:\n",
    "        print(n)\n",
    "        break"
   ]
  },
  {
   "cell_type": "markdown",
   "metadata": {},
   "source": [
    "---\n",
    "**Problem 7.** Suppose you have a [0, 1) x [0, 1) box (i.e. a square with sides of length 1). If two points are randomly chosen from within the box, find the expected (average) distance between them as accurately as possible. \n",
    "\n",
    "Hint: The distance between points $(x_1,y_1)$ and $(x_2,y_2)$ is $\\sqrt{(x_1-x_2)^2 + (y_1-y_2)^2}$."
   ]
  },
  {
   "cell_type": "code",
   "execution_count": 9,
   "metadata": {},
   "outputs": [
    {
     "name": "stdout",
     "output_type": "stream",
     "text": [
      "99999991 0.333332605561642\n",
      "99999992 0.3333326037602149\n",
      "99999993 0.33333260126437453\n",
      "99999994 0.3333326012213711\n",
      "99999995 0.3333325996933831\n",
      "99999996 0.3333325966920862\n",
      "99999997 0.3333325950861139\n",
      "99999998 0.33333259818513195\n",
      "99999999 0.33333260250457875\n",
      "FINAL: 0.33333259917125274\n"
     ]
    }
   ],
   "source": [
    "# Answer: 0.33329685... = just less than 1/3\n",
    "\n",
    "MAX_TRIALS = 100000000\n",
    "\n",
    "total_dist = 0.\n",
    "for num_trials in range(MAX_TRIALS):\n",
    "    x1, y1 = random(), random()\n",
    "    x2, y2 = random(), random()\n",
    "    \n",
    "    total_dist += (x1 - x2)**2 + (y1 - y2)**2\n",
    "    \n",
    "    # Double-check stability of final 10\n",
    "    if num_trials > MAX_TRIALS - 10:\n",
    "        print(num_trials, total_dist / num_trials)\n",
    "    \n",
    "print('FINAL:', total_dist / MAX_TRIALS)"
   ]
  },
  {
   "cell_type": "markdown",
   "metadata": {},
   "source": [
    "---\n",
    "**Problem 8.** \n",
    "\n",
    "```\n",
    "73167176531330624919225119674426574742355349194934\n",
    "96983520312774506326239578318016984801869478851843\n",
    "85861560789112949495459501737958331952853208805511\n",
    "12540698747158523863050715693290963295227443043557\n",
    "66896648950445244523161731856403098711121722383113\n",
    "62229893423380308135336276614282806444486645238749\n",
    "30358907296290491560440772390713810515859307960866\n",
    "70172427121883998797908792274921901699720888093776\n",
    "65727333001053367881220235421809751254540594752243\n",
    "52584907711670556013604839586446706324415722155397\n",
    "53697817977846174064955149290862569321978468622482\n",
    "83972241375657056057490261407972968652414535100474\n",
    "82166370484403199890008895243450658541227588666881\n",
    "16427171479924442928230863465674813919123162824586\n",
    "17866458359124566529476545682848912883142607690042\n",
    "24219022671055626321111109370544217506941658960408\n",
    "07198403850962455444362981230987879927244284909188\n",
    "84580156166097919133875499200524063689912560717606\n",
    "05886116467109405077541002256983155200055935729725\n",
    "71636269561882670428252483600823257530420752963450\n",
    "```\n",
    "\n",
    "In the integer above, the four adjacent digits with the greatest product are 9 x 9 x 8 x 9 = 5832.\n",
    "\n",
    "Find the thirteen adjacent digits that have the greatest product. What is the value of this product? (Hint: Use the `math.prod` function.)"
   ]
  },
  {
   "cell_type": "code",
   "execution_count": 10,
   "metadata": {},
   "outputs": [],
   "source": [
    "# Answer: 23514624000\n",
    "\n",
    "num = '''73167176531330624919225119674426574742355349194934\n",
    "96983520312774506326239578318016984801869478851843\n",
    "85861560789112949495459501737958331952853208805511\n",
    "12540698747158523863050715693290963295227443043557\n",
    "66896648950445244523161731856403098711121722383113\n",
    "62229893423380308135336276614282806444486645238749\n",
    "30358907296290491560440772390713810515859307960866\n",
    "70172427121883998797908792274921901699720888093776\n",
    "65727333001053367881220235421809751254540594752243\n",
    "52584907711670556013604839586446706324415722155397\n",
    "53697817977846174064955149290862569321978468622482\n",
    "83972241375657056057490261407972968652414535100474\n",
    "82166370484403199890008895243450658541227588666881\n",
    "16427171479924442928230863465674813919123162824586\n",
    "17866458359124566529476545682848912883142607690042\n",
    "24219022671055626321111109370544217506941658960408\n",
    "07198403850962455444362981230987879927244284909188\n",
    "84580156166097919133875499200524063689912560717606\n",
    "05886116467109405077541002256983155200055935729725\n",
    "71636269561882670428252483600823257530420752963450'''.replace('\\n', '')\n",
    "\n",
    "\n",
    "# [7, 3, 1, 6, 7, 1, 7, 6, 5, 3, ...]\n",
    "digits = [int(digit) for digit in num]"
   ]
  },
  {
   "cell_type": "code",
   "execution_count": 11,
   "metadata": {},
   "outputs": [
    {
     "name": "stdout",
     "output_type": "stream",
     "text": [
      "5832\n",
      "23514624000\n"
     ]
    }
   ],
   "source": [
    "def largest_product(digits, seq_len=13):\n",
    "    \"\"\" \n",
    "    Given a list of integers `digits`, \n",
    "    returns the largest product of `seq_len` contiguous integers.\n",
    "    \"\"\"\n",
    "    max_prod = 0\n",
    "    for i in range(len(digits) - seq_len - 1):\n",
    "        max_prod = max(max_prod, prod(digits[i:i+seq_len]))\n",
    "    \n",
    "    return max_prod\n",
    "\n",
    "print(largest_product(digits, 4))\n",
    "print(largest_product(digits, 13))"
   ]
  },
  {
   "cell_type": "code",
   "execution_count": null,
   "metadata": {},
   "outputs": [],
   "source": []
  }
 ],
 "metadata": {
  "kernelspec": {
   "display_name": "Python 3",
   "language": "python",
   "name": "python3"
  },
  "language_info": {
   "codemirror_mode": {
    "name": "ipython",
    "version": 3
   },
   "file_extension": ".py",
   "mimetype": "text/x-python",
   "name": "python",
   "nbconvert_exporter": "python",
   "pygments_lexer": "ipython3",
   "version": "3.8.5"
  }
 },
 "nbformat": 4,
 "nbformat_minor": 4
}
