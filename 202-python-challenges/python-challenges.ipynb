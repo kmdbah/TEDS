{
 "cells": [
  {
   "cell_type": "markdown",
   "metadata": {},
   "source": [
    "<img src=\"http://imgur.com/1ZcRyrc.png\" style=\"float: left; margin: 20px\" width=\"50\" height=\"50\">\n",
    " \n",
    "# TEDS Python Challenges\n",
    " \n",
    "---"
   ]
  },
  {
   "cell_type": "markdown",
   "metadata": {},
   "source": [
    "In groups, see if you can solve the following Python challenge problems!\n",
    "\n",
    "- Feel free to solve the problems out of order.\n",
    "- The first three problems can be solved with just a few lines of code using a single `for` or `while` loop.\n",
    "- In each problem, try to verify your results using multiple methods. This is an essential habit for data scientists! (Verification does not always have to involve coding.)"
   ]
  },
  {
   "cell_type": "code",
   "execution_count": 1,
   "metadata": {},
   "outputs": [],
   "source": [
    "# Note: math.prod requires Python 3.8+\n",
    "\n",
    "from math import factorial, sqrt, prod   # Problem 2, 5, 7 (sqrt), 8 (prod)\n",
    "from random import random                # Problem 7"
   ]
  },
  {
   "cell_type": "markdown",
   "metadata": {},
   "source": [
    "---\n",
    "**Problem 1.** Approximate numerically. Try to make it as accurate as possible by choosing a large value of $n$. What happens if $n$ is too large? How could you provide evidence your result is correct?\n",
    "    \n",
    "$$\\lim_{n\\rightarrow\\infty}(1 + 1/n)^n$$"
   ]
  },
  {
   "cell_type": "code",
   "execution_count": 17,
   "metadata": {},
   "outputs": [
    {
     "name": "stdout",
     "output_type": "stream",
     "text": [
      "2.716110034087023\n",
      "2.7221477105683163\n",
      "2.7022741499410188\n",
      "2.7314719920912904\n",
      "2.7395565625553937\n",
      "2.721801993865638\n",
      "2.67356798919217\n",
      "2.7053055752377513\n",
      "2.71703685221405\n",
      "2.704135237006117\n",
      "2.661992982280844\n",
      "2.755587517612788\n",
      "2.6528101831464674\n",
      "2.7088539730131798\n",
      "2.750703841295312\n",
      "2.7739962259873243\n",
      "2.7739962259873243\n",
      "2.7458373439619184\n",
      "2.6848898814707547\n",
      "2.587269895427011\n",
      "2.8452858807833037\n",
      "2.680253407611336\n",
      "2.9579678033986316\n",
      "2.70236488507032\n",
      "2.984821661917247\n"
     ]
    }
   ],
   "source": [
    "START_N = 1e14\n",
    "\n",
    "n = START_N\n",
    "while n < START_N*10:\n",
    "    print((1 + 1/n) ** n)\n",
    "    n += n / 10"
   ]
  },
  {
   "cell_type": "markdown",
   "metadata": {},
   "source": [
    "---\n",
    "**Problem 2.** Approximate numerically. Try to make it as accurate as possible by choosing a large $n$.\n",
    "    \n",
    "\n",
    "$$\\sum_{n=0}^{\\infty}{\\frac{1}{n!}}$$"
   ]
  },
  {
   "cell_type": "code",
   "execution_count": 47,
   "metadata": {},
   "outputs": [
    {
     "name": "stdout",
     "output_type": "stream",
     "text": [
      " 0: 1.0\n",
      " 1: 2.0\n",
      " 2: 2.5\n",
      " 3: 2.6666666666666665\n",
      " 4: 2.708333333333333\n",
      " 5: 2.7166666666666663\n",
      " 6: 2.7180555555555554\n",
      " 7: 2.7182539682539684\n",
      " 8: 2.71827876984127\n",
      " 9: 2.7182815255731922\n",
      " 10: 2.7182818011463845\n",
      " 11: 2.718281826198493\n",
      " 12: 2.7182818282861687\n",
      " 13: 2.7182818284467594\n",
      " 14: 2.71828182845823\n",
      " 15: 2.718281828458995\n",
      " 16: 2.718281828459043\n",
      " 17: 2.7182818284590455\n",
      " 18: 2.7182818284590455\n",
      " 19: 2.7182818284590455\n",
      " 20: 2.7182818284590455\n",
      " 21: 2.7182818284590455\n",
      " 22: 2.7182818284590455\n",
      " 23: 2.7182818284590455\n",
      " 24: 2.7182818284590455\n",
      " 25: 2.7182818284590455\n",
      " 26: 2.7182818284590455\n",
      " 27: 2.7182818284590455\n",
      " 28: 2.7182818284590455\n",
      " 29: 2.7182818284590455\n",
      " 30: 2.7182818284590455\n",
      " 31: 2.7182818284590455\n",
      " 32: 2.7182818284590455\n",
      " 33: 2.7182818284590455\n",
      " 34: 2.7182818284590455\n",
      " 35: 2.7182818284590455\n",
      " 36: 2.7182818284590455\n",
      " 37: 2.7182818284590455\n",
      " 38: 2.7182818284590455\n",
      " 39: 2.7182818284590455\n",
      " 40: 2.7182818284590455\n",
      " 41: 2.7182818284590455\n",
      " 42: 2.7182818284590455\n",
      " 43: 2.7182818284590455\n",
      " 44: 2.7182818284590455\n",
      " 45: 2.7182818284590455\n",
      " 46: 2.7182818284590455\n",
      " 47: 2.7182818284590455\n",
      " 48: 2.7182818284590455\n",
      " 49: 2.7182818284590455\n",
      " 50: 2.7182818284590455\n"
     ]
    }
   ],
   "source": [
    "n = 0\n",
    "max_n = 50\n",
    "sum_n = 0\n",
    "\n",
    "while n <= max_n:\n",
    "    sum_n += 1/factorial(n)\n",
    "    n += 1\n",
    "    print (f' {n-1}: {sum_n}')\n"
   ]
  },
  {
   "cell_type": "markdown",
   "metadata": {},
   "source": [
    "---\n",
    "**Problem 3.** Approximate the value of $x$ that maximizes $f(x) = x^{1/x}$, to three decimal places. (Hint: Use a `for` loop to guess values. Suppose you know the maximum is between 0 and 5.)"
   ]
  },
  {
   "cell_type": "code",
   "execution_count": 66,
   "metadata": {},
   "outputs": [
    {
     "name": "stdout",
     "output_type": "stream",
     "text": [
      "2.7182820000260515\n"
     ]
    }
   ],
   "source": [
    "x = 0\n",
    "max_x = 5\n",
    "max_fx =0\n",
    "while x < max_x:\n",
    "    x += 0.000001     # test every x from 0 to 5\n",
    "    fx = x ** (1/x)\n",
    "    if fx > max_fx:   # store the largest f(x) (and respective x)\n",
    "        ape_x = x\n",
    "        max_fx = fx\n",
    "\n",
    "print(ape_x)"
   ]
  },
  {
   "cell_type": "markdown",
   "metadata": {},
   "source": [
    "\n",
    "---\n",
    "**Problem 4.**\n",
    "\n",
    "```\n",
    "You land among a sea of zeroes.\n",
    "Here's your big chance to be a hero!\n",
    "Your quest will be long, forsooth.\n",
    "Where will lie the Boolean of Truth?\n",
    "```\n",
    "\n",
    "In the file `datasets/sea.txt`:\n",
    "- The first position is 0, 2nd position is 1, etc.\n",
    "- The Boolean of Truth is 1.\n",
    "- What is the 0-based index of the 1?"
   ]
  },
  {
   "cell_type": "code",
   "execution_count": 78,
   "metadata": {},
   "outputs": [
    {
     "name": "stdout",
     "output_type": "stream",
     "text": [
      "19398533\n"
     ]
    }
   ],
   "source": [
    "with open('./datasets/sea.txt','r') as f:\n",
    "    zeroes = f.read()\n",
    "\n",
    "for i,char in enumerate(zeroes):\n",
    "    if char == '1':\n",
    "        print(i)\n",
    "        break"
   ]
  },
  {
   "cell_type": "markdown",
   "metadata": {},
   "source": [
    "---\n",
    "**Problem 5.** What is the smallest non-negative integer $n$ for which $n!$ starts with the digit 9?"
   ]
  },
  {
   "cell_type": "code",
   "execution_count": 88,
   "metadata": {},
   "outputs": [
    {
     "name": "stdout",
     "output_type": "stream",
     "text": [
      "ping! 96\n"
     ]
    }
   ],
   "source": [
    "ping = False\n",
    "n = 0\n",
    "\n",
    "\n",
    "while ping == False:\n",
    "    n += 1\n",
    "    if str(factorial(n))[0] == '9':\n",
    "        print(f'ping! {n}')\n",
    "        ping = True"
   ]
  },
  {
   "cell_type": "markdown",
   "metadata": {},
   "source": [
    "---\n",
    "**Problem 6.** What is the largest integer $n < 1000$ such that the decimal representation of $2^n$ does not contain 0 as a digit? (Fun fact: It is an open problem whether there is a larger $2^n$ that does not contain 0.)"
   ]
  },
  {
   "cell_type": "code",
   "execution_count": 94,
   "metadata": {},
   "outputs": [
    {
     "name": "stdout",
     "output_type": "stream",
     "text": [
      "86\n"
     ]
    }
   ],
   "source": [
    "for n in range(999, 0, -1):\n",
    "    output = str(2 ** n)\n",
    "    if '0' not in output:\n",
    "        print(n)\n",
    "        break"
   ]
  },
  {
   "cell_type": "markdown",
   "metadata": {},
   "source": [
    "---\n",
    "**Problem 7.** Suppose you have a [0, 1) x [0, 1) box (i.e. a square with sides of length 1). If two points are randomly chosen from within the box, find the expected (average) distance between them as accurately as possible. \n",
    "\n",
    "Hint: The distance between points $(x_1,y_1)$ and $(x_2,y_2)$ is $\\sqrt{(x_1-x_2)^2 + (y_1-y_2)^2}$."
   ]
  },
  {
   "cell_type": "code",
   "execution_count": null,
   "metadata": {},
   "outputs": [],
   "source": []
  },
  {
   "cell_type": "markdown",
   "metadata": {},
   "source": [
    "---\n",
    "**Problem 8.** \n",
    "\n",
    "```\n",
    "73167176531330624919225119674426574742355349194934\n",
    "96983520312774506326239578318016984801869478851843\n",
    "85861560789112949495459501737958331952853208805511\n",
    "12540698747158523863050715693290963295227443043557\n",
    "66896648950445244523161731856403098711121722383113\n",
    "62229893423380308135336276614282806444486645238749\n",
    "30358907296290491560440772390713810515859307960866\n",
    "70172427121883998797908792274921901699720888093776\n",
    "65727333001053367881220235421809751254540594752243\n",
    "52584907711670556013604839586446706324415722155397\n",
    "53697817977846174064955149290862569321978468622482\n",
    "83972241375657056057490261407972968652414535100474\n",
    "82166370484403199890008895243450658541227588666881\n",
    "16427171479924442928230863465674813919123162824586\n",
    "17866458359124566529476545682848912883142607690042\n",
    "24219022671055626321111109370544217506941658960408\n",
    "07198403850962455444362981230987879927244284909188\n",
    "84580156166097919133875499200524063689912560717606\n",
    "05886116467109405077541002256983155200055935729725\n",
    "71636269561882670428252483600823257530420752963450\n",
    "```\n",
    "\n",
    "In the integer above, the four adjacent digits with the greatest product are 9 x 9 x 8 x 9 = 5832.\n",
    "\n",
    "Find the thirteen adjacent digits that have the greatest product. What is the value of this product? (Hint: Use the `math.prod` function.)"
   ]
  },
  {
   "cell_type": "code",
   "execution_count": null,
   "metadata": {},
   "outputs": [],
   "source": []
  }
 ],
 "metadata": {
  "kernelspec": {
   "display_name": "Python 3",
   "language": "python",
   "name": "python3"
  },
  "language_info": {
   "codemirror_mode": {
    "name": "ipython",
    "version": 3
   },
   "file_extension": ".py",
   "mimetype": "text/x-python",
   "name": "python",
   "nbconvert_exporter": "python",
   "pygments_lexer": "ipython3",
   "version": "3.8.5"
  }
 },
 "nbformat": 4,
 "nbformat_minor": 4
}
