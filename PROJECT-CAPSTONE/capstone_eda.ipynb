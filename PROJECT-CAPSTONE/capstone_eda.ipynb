{
 "cells": [
  {
   "cell_type": "markdown",
   "metadata": {},
   "source": [
    "# Capstone Part 2: Exploratory Data Analysis"
   ]
  },
  {
   "cell_type": "code",
   "execution_count": 1,
   "metadata": {},
   "outputs": [],
   "source": [
    "import pandas as pd\n",
    "import numpy as np\n",
    "import matplotlib.pyplot as plt"
   ]
  },
  {
   "cell_type": "code",
   "execution_count": 2,
   "metadata": {},
   "outputs": [],
   "source": [
    "got = pd.read_csv('got.csv')"
   ]
  },
  {
   "cell_type": "code",
   "execution_count": 3,
   "metadata": {},
   "outputs": [
    {
     "data": {
      "text/html": [
       "<div>\n",
       "<style scoped>\n",
       "    .dataframe tbody tr th:only-of-type {\n",
       "        vertical-align: middle;\n",
       "    }\n",
       "\n",
       "    .dataframe tbody tr th {\n",
       "        vertical-align: top;\n",
       "    }\n",
       "\n",
       "    .dataframe thead th {\n",
       "        text-align: right;\n",
       "    }\n",
       "</style>\n",
       "<table border=\"1\" class=\"dataframe\">\n",
       "  <thead>\n",
       "    <tr style=\"text-align: right;\">\n",
       "      <th></th>\n",
       "      <th>seas_ep</th>\n",
       "      <th>seas</th>\n",
       "      <th>ep</th>\n",
       "      <th>ep_ct</th>\n",
       "      <th>ep_title</th>\n",
       "      <th>character</th>\n",
       "      <th>wordcount</th>\n",
       "      <th>duration</th>\n",
       "      <th>release</th>\n",
       "      <th>writer_1</th>\n",
       "      <th>writer_2</th>\n",
       "      <th>director</th>\n",
       "      <th>US_viewers</th>\n",
       "      <th>imdb</th>\n",
       "      <th>rt</th>\n",
       "      <th>rt_aud</th>\n",
       "    </tr>\n",
       "  </thead>\n",
       "  <tbody>\n",
       "    <tr>\n",
       "      <th>0</th>\n",
       "      <td>S1E1</td>\n",
       "      <td>1</td>\n",
       "      <td>1</td>\n",
       "      <td>1</td>\n",
       "      <td>Winter Is Coming</td>\n",
       "      <td>Will</td>\n",
       "      <td>2</td>\n",
       "      <td>62</td>\n",
       "      <td>4/17/2011</td>\n",
       "      <td>David Benioff</td>\n",
       "      <td>D.B. Weiss</td>\n",
       "      <td>Timothy Van Patten</td>\n",
       "      <td>2.22</td>\n",
       "      <td>9.1</td>\n",
       "      <td>100</td>\n",
       "      <td>96</td>\n",
       "    </tr>\n",
       "    <tr>\n",
       "      <th>1</th>\n",
       "      <td>S1E2</td>\n",
       "      <td>1</td>\n",
       "      <td>2</td>\n",
       "      <td>2</td>\n",
       "      <td>The Kingsroad</td>\n",
       "      <td>Jorah Mormont</td>\n",
       "      <td>7</td>\n",
       "      <td>56</td>\n",
       "      <td>4/24/2011</td>\n",
       "      <td>David Benioff</td>\n",
       "      <td>D.B. Weiss</td>\n",
       "      <td>Timothy Van Patten</td>\n",
       "      <td>2.20</td>\n",
       "      <td>8.8</td>\n",
       "      <td>100</td>\n",
       "      <td>96</td>\n",
       "    </tr>\n",
       "    <tr>\n",
       "      <th>2</th>\n",
       "      <td>S1E3</td>\n",
       "      <td>1</td>\n",
       "      <td>3</td>\n",
       "      <td>3</td>\n",
       "      <td>Lord Snow</td>\n",
       "      <td>Royal Steward</td>\n",
       "      <td>21</td>\n",
       "      <td>58</td>\n",
       "      <td>5/1/2011</td>\n",
       "      <td>David Benioff</td>\n",
       "      <td>D.B. Weiss</td>\n",
       "      <td>Brian Kirk</td>\n",
       "      <td>2.44</td>\n",
       "      <td>8.7</td>\n",
       "      <td>86</td>\n",
       "      <td>96</td>\n",
       "    </tr>\n",
       "    <tr>\n",
       "      <th>3</th>\n",
       "      <td>S1E4</td>\n",
       "      <td>1</td>\n",
       "      <td>4</td>\n",
       "      <td>4</td>\n",
       "      <td>Cripples, Bastards, and Broken Things</td>\n",
       "      <td>Old Nan</td>\n",
       "      <td>6</td>\n",
       "      <td>56</td>\n",
       "      <td>5/8/2011</td>\n",
       "      <td>David Benioff</td>\n",
       "      <td>D.B. Weiss</td>\n",
       "      <td>Brian Kirk</td>\n",
       "      <td>2.45</td>\n",
       "      <td>8.8</td>\n",
       "      <td>100</td>\n",
       "      <td>96</td>\n",
       "    </tr>\n",
       "    <tr>\n",
       "      <th>4</th>\n",
       "      <td>S1E5</td>\n",
       "      <td>1</td>\n",
       "      <td>5</td>\n",
       "      <td>5</td>\n",
       "      <td>The Wolf and the Lion</td>\n",
       "      <td>Eddard Stark</td>\n",
       "      <td>9</td>\n",
       "      <td>55</td>\n",
       "      <td>5/15/2011</td>\n",
       "      <td>David Benioff</td>\n",
       "      <td>D.B. Weiss</td>\n",
       "      <td>Brian Kirk</td>\n",
       "      <td>2.58</td>\n",
       "      <td>9.1</td>\n",
       "      <td>95</td>\n",
       "      <td>96</td>\n",
       "    </tr>\n",
       "  </tbody>\n",
       "</table>\n",
       "</div>"
      ],
      "text/plain": [
       "  seas_ep  seas  ep  ep_ct                               ep_title  \\\n",
       "0    S1E1     1   1      1                       Winter Is Coming   \n",
       "1    S1E2     1   2      2                          The Kingsroad   \n",
       "2    S1E3     1   3      3                              Lord Snow   \n",
       "3    S1E4     1   4      4  Cripples, Bastards, and Broken Things   \n",
       "4    S1E5     1   5      5                  The Wolf and the Lion   \n",
       "\n",
       "       character  wordcount  duration    release       writer_1    writer_2  \\\n",
       "0           Will          2        62  4/17/2011  David Benioff  D.B. Weiss   \n",
       "1  Jorah Mormont          7        56  4/24/2011  David Benioff  D.B. Weiss   \n",
       "2  Royal Steward         21        58   5/1/2011  David Benioff  D.B. Weiss   \n",
       "3        Old Nan          6        56   5/8/2011  David Benioff  D.B. Weiss   \n",
       "4   Eddard Stark          9        55  5/15/2011  David Benioff  D.B. Weiss   \n",
       "\n",
       "             director  US_viewers  imdb   rt  rt_aud  \n",
       "0  Timothy Van Patten        2.22   9.1  100      96  \n",
       "1  Timothy Van Patten        2.20   8.8  100      96  \n",
       "2          Brian Kirk        2.44   8.7   86      96  \n",
       "3          Brian Kirk        2.45   8.8  100      96  \n",
       "4          Brian Kirk        2.58   9.1   95      96  "
      ]
     },
     "execution_count": 3,
     "metadata": {},
     "output_type": "execute_result"
    }
   ],
   "source": [
    "got.head()"
   ]
  },
  {
   "cell_type": "code",
   "execution_count": 4,
   "metadata": {},
   "outputs": [
    {
     "data": {
      "text/html": [
       "<div>\n",
       "<style scoped>\n",
       "    .dataframe tbody tr th:only-of-type {\n",
       "        vertical-align: middle;\n",
       "    }\n",
       "\n",
       "    .dataframe tbody tr th {\n",
       "        vertical-align: top;\n",
       "    }\n",
       "\n",
       "    .dataframe thead th {\n",
       "        text-align: right;\n",
       "    }\n",
       "</style>\n",
       "<table border=\"1\" class=\"dataframe\">\n",
       "  <thead>\n",
       "    <tr style=\"text-align: right;\">\n",
       "      <th></th>\n",
       "      <th>seas</th>\n",
       "      <th>ep</th>\n",
       "      <th>ep_ct</th>\n",
       "      <th>wordcount</th>\n",
       "      <th>duration</th>\n",
       "      <th>US_viewers</th>\n",
       "      <th>imdb</th>\n",
       "      <th>rt</th>\n",
       "      <th>rt_aud</th>\n",
       "    </tr>\n",
       "  </thead>\n",
       "  <tbody>\n",
       "    <tr>\n",
       "      <th>count</th>\n",
       "      <td>23569.000000</td>\n",
       "      <td>23569.000000</td>\n",
       "      <td>23569.000000</td>\n",
       "      <td>23569.000000</td>\n",
       "      <td>23569.000000</td>\n",
       "      <td>23569.000000</td>\n",
       "      <td>23569.000000</td>\n",
       "      <td>23569.000000</td>\n",
       "      <td>23569.000000</td>\n",
       "    </tr>\n",
       "    <tr>\n",
       "      <th>mean</th>\n",
       "      <td>3.993211</td>\n",
       "      <td>5.101574</td>\n",
       "      <td>34.813866</td>\n",
       "      <td>12.835589</td>\n",
       "      <td>57.586660</td>\n",
       "      <td>6.199919</td>\n",
       "      <td>8.848029</td>\n",
       "      <td>92.600110</td>\n",
       "      <td>89.081124</td>\n",
       "    </tr>\n",
       "    <tr>\n",
       "      <th>std</th>\n",
       "      <td>2.167589</td>\n",
       "      <td>2.750693</td>\n",
       "      <td>21.025881</td>\n",
       "      <td>16.420386</td>\n",
       "      <td>6.803552</td>\n",
       "      <td>2.783498</td>\n",
       "      <td>0.871457</td>\n",
       "      <td>11.042168</td>\n",
       "      <td>17.179794</td>\n",
       "    </tr>\n",
       "    <tr>\n",
       "      <th>min</th>\n",
       "      <td>1.000000</td>\n",
       "      <td>1.000000</td>\n",
       "      <td>1.000000</td>\n",
       "      <td>1.000000</td>\n",
       "      <td>50.000000</td>\n",
       "      <td>2.200000</td>\n",
       "      <td>4.100000</td>\n",
       "      <td>48.000000</td>\n",
       "      <td>30.000000</td>\n",
       "    </tr>\n",
       "    <tr>\n",
       "      <th>25%</th>\n",
       "      <td>2.000000</td>\n",
       "      <td>3.000000</td>\n",
       "      <td>17.000000</td>\n",
       "      <td>4.000000</td>\n",
       "      <td>53.000000</td>\n",
       "      <td>3.860000</td>\n",
       "      <td>8.700000</td>\n",
       "      <td>89.000000</td>\n",
       "      <td>90.000000</td>\n",
       "    </tr>\n",
       "    <tr>\n",
       "      <th>50%</th>\n",
       "      <td>4.000000</td>\n",
       "      <td>5.000000</td>\n",
       "      <td>33.000000</td>\n",
       "      <td>8.000000</td>\n",
       "      <td>56.000000</td>\n",
       "      <td>6.310000</td>\n",
       "      <td>8.900000</td>\n",
       "      <td>96.000000</td>\n",
       "      <td>96.000000</td>\n",
       "    </tr>\n",
       "    <tr>\n",
       "      <th>75%</th>\n",
       "      <td>6.000000</td>\n",
       "      <td>7.000000</td>\n",
       "      <td>53.000000</td>\n",
       "      <td>16.000000</td>\n",
       "      <td>59.000000</td>\n",
       "      <td>7.660000</td>\n",
       "      <td>9.200000</td>\n",
       "      <td>100.000000</td>\n",
       "      <td>97.000000</td>\n",
       "    </tr>\n",
       "    <tr>\n",
       "      <th>max</th>\n",
       "      <td>8.000000</td>\n",
       "      <td>10.000000</td>\n",
       "      <td>73.000000</td>\n",
       "      <td>389.000000</td>\n",
       "      <td>82.000000</td>\n",
       "      <td>13.610000</td>\n",
       "      <td>9.900000</td>\n",
       "      <td>100.000000</td>\n",
       "      <td>97.000000</td>\n",
       "    </tr>\n",
       "  </tbody>\n",
       "</table>\n",
       "</div>"
      ],
      "text/plain": [
       "               seas            ep         ep_ct     wordcount      duration  \\\n",
       "count  23569.000000  23569.000000  23569.000000  23569.000000  23569.000000   \n",
       "mean       3.993211      5.101574     34.813866     12.835589     57.586660   \n",
       "std        2.167589      2.750693     21.025881     16.420386      6.803552   \n",
       "min        1.000000      1.000000      1.000000      1.000000     50.000000   \n",
       "25%        2.000000      3.000000     17.000000      4.000000     53.000000   \n",
       "50%        4.000000      5.000000     33.000000      8.000000     56.000000   \n",
       "75%        6.000000      7.000000     53.000000     16.000000     59.000000   \n",
       "max        8.000000     10.000000     73.000000    389.000000     82.000000   \n",
       "\n",
       "         US_viewers          imdb            rt        rt_aud  \n",
       "count  23569.000000  23569.000000  23569.000000  23569.000000  \n",
       "mean       6.199919      8.848029     92.600110     89.081124  \n",
       "std        2.783498      0.871457     11.042168     17.179794  \n",
       "min        2.200000      4.100000     48.000000     30.000000  \n",
       "25%        3.860000      8.700000     89.000000     90.000000  \n",
       "50%        6.310000      8.900000     96.000000     96.000000  \n",
       "75%        7.660000      9.200000    100.000000     97.000000  \n",
       "max       13.610000      9.900000    100.000000     97.000000  "
      ]
     },
     "execution_count": 4,
     "metadata": {},
     "output_type": "execute_result"
    }
   ],
   "source": [
    "got.describe()"
   ]
  },
  {
   "cell_type": "code",
   "execution_count": 5,
   "metadata": {},
   "outputs": [
    {
     "name": "stdout",
     "output_type": "stream",
     "text": [
      "<class 'pandas.core.frame.DataFrame'>\n",
      "RangeIndex: 23569 entries, 0 to 23568\n",
      "Data columns (total 16 columns):\n",
      " #   Column      Non-Null Count  Dtype  \n",
      "---  ------      --------------  -----  \n",
      " 0   seas_ep     23569 non-null  object \n",
      " 1   seas        23569 non-null  int64  \n",
      " 2   ep          23569 non-null  int64  \n",
      " 3   ep_ct       23569 non-null  int64  \n",
      " 4   ep_title    23569 non-null  object \n",
      " 5   character   23569 non-null  object \n",
      " 6   wordcount   23569 non-null  int64  \n",
      " 7   duration    23569 non-null  int64  \n",
      " 8   release     23569 non-null  object \n",
      " 9   writer_1    23569 non-null  object \n",
      " 10  writer_2    23569 non-null  object \n",
      " 11  director    23569 non-null  object \n",
      " 12  US_viewers  23569 non-null  float64\n",
      " 13  imdb        23569 non-null  float64\n",
      " 14  rt          23569 non-null  int64  \n",
      " 15  rt_aud      23569 non-null  int64  \n",
      "dtypes: float64(2), int64(7), object(7)\n",
      "memory usage: 2.9+ MB\n"
     ]
    }
   ],
   "source": [
    "got.info()"
   ]
  },
  {
   "cell_type": "code",
   "execution_count": 6,
   "metadata": {},
   "outputs": [
    {
     "data": {
      "text/html": [
       "<div>\n",
       "<style scoped>\n",
       "    .dataframe tbody tr th:only-of-type {\n",
       "        vertical-align: middle;\n",
       "    }\n",
       "\n",
       "    .dataframe tbody tr th {\n",
       "        vertical-align: top;\n",
       "    }\n",
       "\n",
       "    .dataframe thead th {\n",
       "        text-align: right;\n",
       "    }\n",
       "</style>\n",
       "<table border=\"1\" class=\"dataframe\">\n",
       "  <thead>\n",
       "    <tr style=\"text-align: right;\">\n",
       "      <th></th>\n",
       "      <th>seas_ep</th>\n",
       "      <th>seas</th>\n",
       "      <th>ep</th>\n",
       "      <th>ep_ct</th>\n",
       "      <th>ep_title</th>\n",
       "      <th>character</th>\n",
       "      <th>wordcount</th>\n",
       "      <th>duration</th>\n",
       "      <th>release</th>\n",
       "      <th>writer_1</th>\n",
       "      <th>writer_2</th>\n",
       "      <th>director</th>\n",
       "      <th>US_viewers</th>\n",
       "      <th>imdb</th>\n",
       "      <th>rt</th>\n",
       "      <th>rt_aud</th>\n",
       "    </tr>\n",
       "  </thead>\n",
       "  <tbody>\n",
       "    <tr>\n",
       "      <th>9406</th>\n",
       "      <td>S7E3</td>\n",
       "      <td>7</td>\n",
       "      <td>3</td>\n",
       "      <td>63</td>\n",
       "      <td>The Queen's Justice</td>\n",
       "      <td>Cersei Lannister</td>\n",
       "      <td>389</td>\n",
       "      <td>63</td>\n",
       "      <td>7/30/2017</td>\n",
       "      <td>George R.R. Martin</td>\n",
       "      <td>David Benioff</td>\n",
       "      <td>Mark Mylod</td>\n",
       "      <td>9.25</td>\n",
       "      <td>9.2</td>\n",
       "      <td>89</td>\n",
       "      <td>82</td>\n",
       "    </tr>\n",
       "  </tbody>\n",
       "</table>\n",
       "</div>"
      ],
      "text/plain": [
       "     seas_ep  seas  ep  ep_ct             ep_title         character  \\\n",
       "9406    S7E3     7   3     63  The Queen's Justice  Cersei Lannister   \n",
       "\n",
       "      wordcount  duration    release            writer_1       writer_2  \\\n",
       "9406        389        63  7/30/2017  George R.R. Martin  David Benioff   \n",
       "\n",
       "        director  US_viewers  imdb  rt  rt_aud  \n",
       "9406  Mark Mylod        9.25   9.2  89      82  "
      ]
     },
     "execution_count": 6,
     "metadata": {},
     "output_type": "execute_result"
    }
   ],
   "source": [
    "got[got.wordcount == got.wordcount.max()]\n",
    "\n",
    "#Note that this is the maximum wordcount for a single instance/line, not the entire episode"
   ]
  },
  {
   "cell_type": "code",
   "execution_count": 7,
   "metadata": {},
   "outputs": [
    {
     "data": {
      "text/plain": [
       "<AxesSubplot:>"
      ]
     },
     "execution_count": 7,
     "metadata": {},
     "output_type": "execute_result"
    },
    {
     "data": {
      "image/png": "[encoded data removed]",
      "text/plain": [
       "<Figure size 432x288 with 1 Axes>"
      ]
     },
     "metadata": {
      "needs_background": "light"
     },
     "output_type": "display_data"
    }
   ],
   "source": [
    "#histogram of word count per episodeb\n",
    "\n",
    "got.wordcount.groupby(got.ep_ct).sum().hist()"
   ]
  },
  {
   "cell_type": "code",
   "execution_count": 8,
   "metadata": {},
   "outputs": [
    {
     "data": {
      "text/plain": [
       "<matplotlib.collections.PathCollection at 0x1f983ec7c10>"
      ]
     },
     "execution_count": 8,
     "metadata": {},
     "output_type": "execute_result"
    },
    {
     "data": {
      "image/png": "[encoded data removed]",
      "text/plain": [
       "<Figure size 432x288 with 1 Axes>"
      ]
     },
     "metadata": {
      "needs_background": "light"
     },
     "output_type": "display_data"
    }
   ],
   "source": [
    "#US viewership over time\n",
    "\n",
    "plt.scatter(got.ep_ct, got.US_viewers)"
   ]
  },
  {
   "cell_type": "code",
   "execution_count": 9,
   "metadata": {},
   "outputs": [
    {
     "data": {
      "text/plain": [
       "<matplotlib.collections.PathCollection at 0x1f983f42520>"
      ]
     },
     "execution_count": 9,
     "metadata": {},
     "output_type": "execute_result"
    },
    {
     "data": {
      "image/png": "[encoded data removed]",
      "text/plain": [
       "<Figure size 432x288 with 1 Axes>"
      ]
     },
     "metadata": {
      "needs_background": "light"
     },
     "output_type": "display_data"
    }
   ],
   "source": [
    "# episode duration gets higher and more variable over time\n",
    "\n",
    "plt.scatter(got.ep_ct, got.duration)"
   ]
  },
  {
   "cell_type": "code",
   "execution_count": 10,
   "metadata": {},
   "outputs": [
    {
     "data": {
      "text/plain": [
       "<matplotlib.collections.PathCollection at 0x1f983f97a00>"
      ]
     },
     "execution_count": 10,
     "metadata": {},
     "output_type": "execute_result"
    },
    {
     "data": {
      "image/png": "[encoded data removed]",
      "text/plain": [
       "<Figure size 432x288 with 1 Axes>"
      ]
     },
     "metadata": {
      "needs_background": "light"
     },
     "output_type": "display_data"
    }
   ],
   "source": [
    "# relationship between rottentomatoes critical score and IMDB critical score\n",
    "plt.scatter(got.rt, got.imdb)\n"
   ]
  },
  {
   "cell_type": "code",
   "execution_count": 11,
   "metadata": {},
   "outputs": [
    {
     "data": {
      "text/html": [
       "<div>\n",
       "<style scoped>\n",
       "    .dataframe tbody tr th:only-of-type {\n",
       "        vertical-align: middle;\n",
       "    }\n",
       "\n",
       "    .dataframe tbody tr th {\n",
       "        vertical-align: top;\n",
       "    }\n",
       "\n",
       "    .dataframe thead th {\n",
       "        text-align: right;\n",
       "    }\n",
       "</style>\n",
       "<table border=\"1\" class=\"dataframe\">\n",
       "  <thead>\n",
       "    <tr style=\"text-align: right;\">\n",
       "      <th></th>\n",
       "      <th></th>\n",
       "      <th>wordcount</th>\n",
       "    </tr>\n",
       "    <tr>\n",
       "      <th>ep_ct</th>\n",
       "      <th>character</th>\n",
       "      <th></th>\n",
       "    </tr>\n",
       "  </thead>\n",
       "  <tbody>\n",
       "    <tr>\n",
       "      <th rowspan=\"5\" valign=\"top\">1</th>\n",
       "      <th>Arya Stark</th>\n",
       "      <td>15</td>\n",
       "    </tr>\n",
       "    <tr>\n",
       "      <th>Benjen Stark</th>\n",
       "      <td>149</td>\n",
       "    </tr>\n",
       "    <tr>\n",
       "      <th>Bran Stark</th>\n",
       "      <td>61</td>\n",
       "    </tr>\n",
       "    <tr>\n",
       "      <th>Catelyn Stark</th>\n",
       "      <td>400</td>\n",
       "    </tr>\n",
       "    <tr>\n",
       "      <th>Cersei Lannister</th>\n",
       "      <td>140</td>\n",
       "    </tr>\n",
       "    <tr>\n",
       "      <th>...</th>\n",
       "      <th>...</th>\n",
       "      <td>...</td>\n",
       "    </tr>\n",
       "    <tr>\n",
       "      <th rowspan=\"5\" valign=\"top\">73</th>\n",
       "      <th>Stark Bannermen</th>\n",
       "      <td>25</td>\n",
       "    </tr>\n",
       "    <tr>\n",
       "      <th>Tyrion Lannister</th>\n",
       "      <td>1268</td>\n",
       "    </tr>\n",
       "    <tr>\n",
       "      <th>Unsullied #1</th>\n",
       "      <td>5</td>\n",
       "    </tr>\n",
       "    <tr>\n",
       "      <th>Yara Greyjoy</th>\n",
       "      <td>53</td>\n",
       "    </tr>\n",
       "    <tr>\n",
       "      <th>Yohn Royce</th>\n",
       "      <td>23</td>\n",
       "    </tr>\n",
       "  </tbody>\n",
       "</table>\n",
       "<p>3143 rows × 1 columns</p>\n",
       "</div>"
      ],
      "text/plain": [
       "                        wordcount\n",
       "ep_ct character                  \n",
       "1     Arya Stark               15\n",
       "      Benjen Stark            149\n",
       "      Bran Stark               61\n",
       "      Catelyn Stark           400\n",
       "      Cersei Lannister        140\n",
       "...                           ...\n",
       "73    Stark Bannermen          25\n",
       "      Tyrion Lannister       1268\n",
       "      Unsullied #1              5\n",
       "      Yara Greyjoy             53\n",
       "      Yohn Royce               23\n",
       "\n",
       "[3143 rows x 1 columns]"
      ]
     },
     "execution_count": 11,
     "metadata": {},
     "output_type": "execute_result"
    }
   ],
   "source": [
    "ep_char_df = pd.DataFrame(got.groupby(['ep_ct', 'character']).wordcount.sum())\n",
    "ep_char_df"
   ]
  },
  {
   "cell_type": "code",
   "execution_count": 12,
   "metadata": {},
   "outputs": [
    {
     "data": {
      "text/plain": [
       "ep_ct  character       \n",
       "1      Arya Stark            15\n",
       "       Benjen Stark         149\n",
       "       Bran Stark            61\n",
       "       Catelyn Stark        400\n",
       "       Cersei Lannister     140\n",
       "                           ... \n",
       "73     Stark Bannermen       25\n",
       "       Tyrion Lannister    1268\n",
       "       Unsullied #1           5\n",
       "       Yara Greyjoy          53\n",
       "       Yohn Royce            23\n",
       "Name: wordcount, Length: 3143, dtype: int64"
      ]
     },
     "execution_count": 12,
     "metadata": {},
     "output_type": "execute_result"
    }
   ],
   "source": [
    "got.groupby(['ep_ct', 'character']).wordcount.sum()"
   ]
  },
  {
   "cell_type": "code",
   "execution_count": 13,
   "metadata": {},
   "outputs": [
    {
     "data": {
      "text/plain": [
       "character\n",
       "Tyrion Lannister      27655\n",
       "Cersei Lannister      15234\n",
       "Jon Snow              12592\n",
       "Daenerys Targaryen    12560\n",
       "Jaime Lannister       11728\n",
       "Sansa Stark            8937\n",
       "Petyr Baelish          8408\n",
       "Lord Varys             7421\n",
       "Samwell Tarly          6727\n",
       "Davos Seaworth         6726\n",
       "Arya Stark             6465\n",
       "Tywin Lannister        5964\n",
       "Theon Greyjoy          5363\n",
       "Jorah Mormont          4806\n",
       "Bronn                  4709\n",
       "Brienne of Tarth       4049\n",
       "Sandor Clegane         3947\n",
       "Olenna Tyrell          3924\n",
       "Robb Stark             3920\n",
       "Stannis Baratheon      3607\n",
       "Margaery Tyrell        3534\n",
       "Eddard Stark           3511\n",
       "Catelyn Stark          3496\n",
       "Melisandre             3329\n",
       "Ramsay Snow            3329\n",
       "Name: wordcount, dtype: int64"
      ]
     },
     "execution_count": 13,
     "metadata": {},
     "output_type": "execute_result"
    }
   ],
   "source": [
    "# 25 largest speaking parts\n",
    "\n",
    "got.groupby('character').wordcount.sum().nlargest(25)"
   ]
  },
  {
   "cell_type": "code",
   "execution_count": 16,
   "metadata": {},
   "outputs": [
    {
     "name": "stdout",
     "output_type": "stream",
     "text": [
      "25 largest roles as percent of total wordcount: 0.6014141120315216\n"
     ]
    }
   ],
   "source": [
    "tot_wordcount = got.wordcount.sum()\n",
    "top_25_wordcount = got.groupby('character').wordcount.sum().nlargest(25).sum()\n",
    "print('25 largest roles as percent of total wordcount:', int(top_25_wordcount) / int(tot_wordcount))"
   ]
  },
  {
   "cell_type": "code",
   "execution_count": 44,
   "metadata": {},
   "outputs": [
    {
     "data": {
      "image/png": "[encoded data removed]",
      "text/plain": [
       "<Figure size 432x288 with 1 Axes>"
      ]
     },
     "metadata": {
      "needs_background": "light"
     },
     "output_type": "display_data"
    }
   ],
   "source": [
    "got.boxplot(by='director', column=['rt'])\n",
    "\n",
    "plt.xticks(rotation='vertical');"
   ]
  },
  {
   "cell_type": "code",
   "execution_count": 48,
   "metadata": {},
   "outputs": [
    {
     "data": {
      "text/plain": [
       "<AxesSubplot:title={'center':'rt'}, xlabel='writer_1'>"
      ]
     },
     "execution_count": 48,
     "metadata": {},
     "output_type": "execute_result"
    },
    {
     "data": {
      "image/png": "[encoded data removed]",
      "text/plain": [
       "<Figure size 432x288 with 1 Axes>"
      ]
     },
     "metadata": {
      "needs_background": "light"
     },
     "output_type": "display_data"
    }
   ],
   "source": [
    "got.boxplot(by='writer_1', column=['rt'])"
   ]
  },
  {
   "cell_type": "code",
   "execution_count": 49,
   "metadata": {},
   "outputs": [
    {
     "data": {
      "text/plain": [
       "<AxesSubplot:title={'center':'rt'}, xlabel='writer_2'>"
      ]
     },
     "execution_count": 49,
     "metadata": {},
     "output_type": "execute_result"
    },
    {
     "data": {
      "image/png": "[encoded data removed]",
      "text/plain": [
       "<Figure size 432x288 with 1 Axes>"
      ]
     },
     "metadata": {
      "needs_background": "light"
     },
     "output_type": "display_data"
    }
   ],
   "source": [
    "got.boxplot(by='writer_2', column=['rt'])"
   ]
  },
  {
   "cell_type": "markdown",
   "metadata": {},
   "source": [
    "## Results\n",
    "\n",
    "The dataset is very usable but I haven't seen any clear relationships yet. My next steps are to start building a model that checks to see if particular characters influence ratings or critical scores.\n",
    "\n",
    "If I don't see anything interesting there, I may switch to a larger dataset of rottentomatoes/IMDB scores and compare them to lag ratings, to see if there's a correlation between critical reaction to an episode of television, and the ratings of the next episode."
   ]
  },
  {
   "cell_type": "markdown",
   "metadata": {},
   "source": [
    "## Update:\n",
    "\n",
    "After completing EDA, we determined that finding a ratings relationship was infeasible, so we switched to an NLP analysis. Our problem statement is to see if we can determine a character's social class based on their vocabulary. We will also be identifying wordprint similarities between characters."
   ]
  },
  {
   "cell_type": "code",
   "execution_count": null,
   "metadata": {},
   "outputs": [],
   "source": []
  }
 ],
 "metadata": {
  "kernelspec": {
   "display_name": "Python 3",
   "language": "python",
   "name": "python3"
  },
  "language_info": {
   "codemirror_mode": {
    "name": "ipython",
    "version": 3
   },
   "file_extension": ".py",
   "mimetype": "text/x-python",
   "name": "python",
   "nbconvert_exporter": "python",
   "pygments_lexer": "ipython3",
   "version": "3.8.5"
  }
 },
 "nbformat": 4,
 "nbformat_minor": 4
}
