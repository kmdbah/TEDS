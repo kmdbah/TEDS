{
 "cells": [
  {
   "cell_type": "markdown",
   "metadata": {},
   "source": [
    "# Data Science 5K Capstone Proposal\n",
    "In order to get your capstone approved, you must complete all of the following steps."
   ]
  },
  {
   "cell_type": "markdown",
   "metadata": {},
   "source": [
    "## 1) Get your data\n",
    "You may use any data set(s) you like, so long as they meet these criteria:\n",
    "\n",
    "* Your data cannot have _anything_ to do with your work at Booz Allen Hamilton.\n",
    "* Your data must be publically available for free.\n",
    "* Your data should be interesting to _you_. You want your capstone to be something you're proud of.\n",
    "* Your data should be \"big enough\":\n",
    "    - It should have at least 1,000 rows.\n",
    "    - It should have enough of columns to be interesting.\n",
    "    - If you have questions, contact a member of the instructional team."
   ]
  },
  {
   "cell_type": "markdown",
   "metadata": {},
   "source": [
    "## 2) Provide a link to your data\n",
    "Your data is required to be free and open to anyone. As such, you should have a URL which anyone can use to download your data:"
   ]
  },
  {
   "cell_type": "code",
   "execution_count": 2,
   "metadata": {},
   "outputs": [],
   "source": [
    "# Enter link here.\n",
    "\n",
    "#   https://github.com/finalfire/got_ratings              -- Rotten Tomatoes ratings\n",
    "#   https://www.kaggle.com/rezaghari/game-of-thrones      -- Episode data (release date, writers, director, US viewership, IMDB rating)\n",
    "#   https://github.com/jeffreylancaster/game-of-thrones   -- Character and word-count data\n",
    "\n",
    "#   For simplicity I used Excel to combine these datasets into a single .xlsm file, then converted the relevant data to .csv"
   ]
  },
  {
   "cell_type": "markdown",
   "metadata": {},
   "source": [
    "## 3) Import your data\n",
    "In the space below, import your data. If your data span multiple files, read them all in. If applicable, merge or append them as needed."
   ]
  },
  {
   "cell_type": "code",
   "execution_count": 2,
   "metadata": {},
   "outputs": [],
   "source": [
    "import pandas as pd\n",
    "\n",
    "got = pd.read_csv('got.csv')\n"
   ]
  },
  {
   "cell_type": "code",
   "execution_count": null,
   "metadata": {},
   "outputs": [],
   "source": []
  },
  {
   "cell_type": "markdown",
   "metadata": {},
   "source": [
    "## 4) Show me the head of your data."
   ]
  },
  {
   "cell_type": "code",
   "execution_count": 3,
   "metadata": {},
   "outputs": [
    {
     "data": {
      "text/html": [
       "<div>\n",
       "<style scoped>\n",
       "    .dataframe tbody tr th:only-of-type {\n",
       "        vertical-align: middle;\n",
       "    }\n",
       "\n",
       "    .dataframe tbody tr th {\n",
       "        vertical-align: top;\n",
       "    }\n",
       "\n",
       "    .dataframe thead th {\n",
       "        text-align: right;\n",
       "    }\n",
       "</style>\n",
       "<table border=\"1\" class=\"dataframe\">\n",
       "  <thead>\n",
       "    <tr style=\"text-align: right;\">\n",
       "      <th></th>\n",
       "      <th>Index</th>\n",
       "      <th>Seas_Ep</th>\n",
       "      <th>Season</th>\n",
       "      <th>Episode</th>\n",
       "      <th>Episode_Title</th>\n",
       "      <th>Character</th>\n",
       "      <th>Word_Count</th>\n",
       "      <th>Release_date</th>\n",
       "      <th>Duration</th>\n",
       "      <th>Rating</th>\n",
       "      <th>Writer_1</th>\n",
       "      <th>Writer_2</th>\n",
       "      <th>Director</th>\n",
       "      <th>US_Viewers</th>\n",
       "      <th>rate</th>\n",
       "      <th>rate_aud</th>\n",
       "    </tr>\n",
       "  </thead>\n",
       "  <tbody>\n",
       "    <tr>\n",
       "      <th>0</th>\n",
       "      <td>0</td>\n",
       "      <td>S1E1</td>\n",
       "      <td>1</td>\n",
       "      <td>1</td>\n",
       "      <td>Winter Is Coming</td>\n",
       "      <td>Will</td>\n",
       "      <td>2</td>\n",
       "      <td>4/17/2011</td>\n",
       "      <td>62</td>\n",
       "      <td>9.1</td>\n",
       "      <td>David Benioff</td>\n",
       "      <td>D.B. Weiss</td>\n",
       "      <td>Timothy Van Patten</td>\n",
       "      <td>2.2</td>\n",
       "      <td>100.0</td>\n",
       "      <td>96.0</td>\n",
       "    </tr>\n",
       "    <tr>\n",
       "      <th>1</th>\n",
       "      <td>1</td>\n",
       "      <td>S1E2</td>\n",
       "      <td>1</td>\n",
       "      <td>2</td>\n",
       "      <td>The Kingsroad</td>\n",
       "      <td>Jorah Mormont</td>\n",
       "      <td>7</td>\n",
       "      <td>4/24/2011</td>\n",
       "      <td>56</td>\n",
       "      <td>8.8</td>\n",
       "      <td>David Benioff</td>\n",
       "      <td>D.B. Weiss</td>\n",
       "      <td>Timothy Van Patten</td>\n",
       "      <td>2.2</td>\n",
       "      <td>100.0</td>\n",
       "      <td>96.0</td>\n",
       "    </tr>\n",
       "    <tr>\n",
       "      <th>2</th>\n",
       "      <td>2</td>\n",
       "      <td>S1E3</td>\n",
       "      <td>1</td>\n",
       "      <td>3</td>\n",
       "      <td>Lord Snow</td>\n",
       "      <td>Royal Steward</td>\n",
       "      <td>21</td>\n",
       "      <td>5/1/2011</td>\n",
       "      <td>58</td>\n",
       "      <td>8.7</td>\n",
       "      <td>David Benioff</td>\n",
       "      <td>D.B. Weiss</td>\n",
       "      <td>Brian Kirk</td>\n",
       "      <td>2.4</td>\n",
       "      <td>86.0</td>\n",
       "      <td>96.0</td>\n",
       "    </tr>\n",
       "    <tr>\n",
       "      <th>3</th>\n",
       "      <td>3</td>\n",
       "      <td>S1E4</td>\n",
       "      <td>1</td>\n",
       "      <td>4</td>\n",
       "      <td>Cripples, Bastards, and Broken Things</td>\n",
       "      <td>Old Nan</td>\n",
       "      <td>6</td>\n",
       "      <td>5/8/2011</td>\n",
       "      <td>56</td>\n",
       "      <td>8.8</td>\n",
       "      <td>David Benioff</td>\n",
       "      <td>D.B. Weiss</td>\n",
       "      <td>Brian Kirk</td>\n",
       "      <td>2.5</td>\n",
       "      <td>100.0</td>\n",
       "      <td>96.0</td>\n",
       "    </tr>\n",
       "    <tr>\n",
       "      <th>4</th>\n",
       "      <td>4</td>\n",
       "      <td>S1E5</td>\n",
       "      <td>1</td>\n",
       "      <td>5</td>\n",
       "      <td>The Wolf and the Lion</td>\n",
       "      <td>Eddard Stark</td>\n",
       "      <td>9</td>\n",
       "      <td>5/15/2011</td>\n",
       "      <td>55</td>\n",
       "      <td>9.1</td>\n",
       "      <td>David Benioff</td>\n",
       "      <td>D.B. Weiss</td>\n",
       "      <td>Brian Kirk</td>\n",
       "      <td>2.6</td>\n",
       "      <td>95.0</td>\n",
       "      <td>96.0</td>\n",
       "    </tr>\n",
       "  </tbody>\n",
       "</table>\n",
       "</div>"
      ],
      "text/plain": [
       "   Index Seas_Ep  Season  Episode                          Episode_Title  \\\n",
       "0      0    S1E1       1        1                       Winter Is Coming   \n",
       "1      1    S1E2       1        2                          The Kingsroad   \n",
       "2      2    S1E3       1        3                              Lord Snow   \n",
       "3      3    S1E4       1        4  Cripples, Bastards, and Broken Things   \n",
       "4      4    S1E5       1        5                  The Wolf and the Lion   \n",
       "\n",
       "       Character Word_Count Release_date  Duration  Rating       Writer_1  \\\n",
       "0           Will          2    4/17/2011        62     9.1  David Benioff   \n",
       "1  Jorah Mormont          7    4/24/2011        56     8.8  David Benioff   \n",
       "2  Royal Steward         21     5/1/2011        58     8.7  David Benioff   \n",
       "3        Old Nan          6     5/8/2011        56     8.8  David Benioff   \n",
       "4   Eddard Stark          9    5/15/2011        55     9.1  David Benioff   \n",
       "\n",
       "     Writer_2            Director  US_Viewers   rate  rate_aud  \n",
       "0  D.B. Weiss  Timothy Van Patten         2.2  100.0      96.0  \n",
       "1  D.B. Weiss  Timothy Van Patten         2.2  100.0      96.0  \n",
       "2  D.B. Weiss          Brian Kirk         2.4   86.0      96.0  \n",
       "3  D.B. Weiss          Brian Kirk         2.5  100.0      96.0  \n",
       "4  D.B. Weiss          Brian Kirk         2.6   95.0      96.0  "
      ]
     },
     "execution_count": 3,
     "metadata": {},
     "output_type": "execute_result"
    }
   ],
   "source": [
    "got.head()"
   ]
  },
  {
   "cell_type": "markdown",
   "metadata": {},
   "source": [
    "## 5) Show me the shape of your data"
   ]
  },
  {
   "cell_type": "code",
   "execution_count": 4,
   "metadata": {},
   "outputs": [
    {
     "data": {
      "text/plain": [
       "(32923, 16)"
      ]
     },
     "execution_count": 4,
     "metadata": {},
     "output_type": "execute_result"
    }
   ],
   "source": [
    "got.shape"
   ]
  },
  {
   "cell_type": "markdown",
   "metadata": {},
   "source": [
    "## 6) Show me the proportion of missing observations for each column of your data"
   ]
  },
  {
   "cell_type": "code",
   "execution_count": 5,
   "metadata": {},
   "outputs": [
    {
     "data": {
      "text/plain": [
       "Index               0\n",
       "Seas_Ep             0\n",
       "Season              0\n",
       "Episode             0\n",
       "Episode_Title       0\n",
       "Character        9322\n",
       "Word_Count       9322\n",
       "Release_date        0\n",
       "Duration            0\n",
       "Rating              0\n",
       "Writer_1            0\n",
       "Writer_2            0\n",
       "Director            0\n",
       "US_Viewers          0\n",
       "rate                0\n",
       "rate_aud            0\n",
       "dtype: int64"
      ]
     },
     "execution_count": 5,
     "metadata": {},
     "output_type": "execute_result"
    }
   ],
   "source": [
    "got.isna().sum()\n"
   ]
  },
  {
   "cell_type": "markdown",
   "metadata": {},
   "source": [
    "## 7) Give me a problem statement.\n",
    "Below, write a problem statement. Keep in mind that your task is to tease out relationships in your data and eventually build a predictive model. Your problem statement can be vague, but you should have a goal in mind. Your problem statement should be between one sentence and one paragraph.\n",
    "\n",
    "<div class=\"alert-success\">  I would like to examine what drove the variability in Game of Thrones' critic scores and viewership throughout its run. I am particularly interested to learn whether certain actors, writers, or directors were particularly well or poorly received. </div>"
   ]
  },
  {
   "cell_type": "markdown",
   "metadata": {},
   "source": [
    "## 8) What is your _y_-variable?\n",
    "For Part C of your capstone, you will need to perform a statistical model. This means you will have to accurately predict some y-variable for some combination of x-variables. From your problem statement in part 7, what is that y-variable?\n",
    "\n",
    "<div class=\"alert-success\">  My y variable will be IMDB ratings, though I will also be looking at Rotten Tomatoes Critic and Audience Scores, and US viewership.</div>"
   ]
  },
  {
   "cell_type": "markdown",
   "metadata": {},
   "source": [
    "## Update:\n",
    "\n",
    "After completing EDA, we determined that finding a ratings relationship was infeasible, so we switched to an NLP analysis. Our problem statement is to see if we can determine a character's social class based on their vocabulary. We will also be identifying wordprint similarities between characters."
   ]
  },
  {
   "cell_type": "code",
   "execution_count": null,
   "metadata": {},
   "outputs": [],
   "source": []
  }
 ],
 "metadata": {
  "kernelspec": {
   "display_name": "Python 3",
   "language": "python",
   "name": "python3"
  },
  "language_info": {
   "codemirror_mode": {
    "name": "ipython",
    "version": 3
   },
   "file_extension": ".py",
   "mimetype": "text/x-python",
   "name": "python",
   "nbconvert_exporter": "python",
   "pygments_lexer": "ipython3",
   "version": "3.8.5"
  }
 },
 "nbformat": 4,
 "nbformat_minor": 4
}
