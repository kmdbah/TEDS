{
 "cells": [
  {
   "cell_type": "code",
   "execution_count": 4,
   "metadata": {},
   "outputs": [
    {
     "data": {
      "text/plain": [
       "Index(['episodes/seasonNum', 'episodes/episodeNum', 'episodes/episodeTitle',\n",
       "       'episodes/episodeLink', 'episodes/episodeAirDate',\n",
       "       'episodes/episodeDescription', 'episodes/openingSequenceLocations/0',\n",
       "       'episodes/openingSequenceLocations/1',\n",
       "       'episodes/openingSequenceLocations/2',\n",
       "       'episodes/openingSequenceLocations/3',\n",
       "       ...\n",
       "       'episodes/scenes/87/characters/0/weapon/0/action',\n",
       "       'episodes/scenes/87/characters/0/weapon/0/name',\n",
       "       'episodes/scenes/87/characters/0/weapon/1/action',\n",
       "       'episodes/scenes/87/characters/0/weapon/1/name',\n",
       "       'episodes/scenes/88/characters/0/weapon/0/action',\n",
       "       'episodes/scenes/88/characters/0/weapon/0/name',\n",
       "       'episodes/scenes/89/characters/0/weapon/0/action',\n",
       "       'episodes/scenes/89/characters/0/weapon/0/name',\n",
       "       'episodes/scenes/90/characters/0/weapon/0/action',\n",
       "       'episodes/scenes/90/characters/0/weapon/0/name'],\n",
       "      dtype='object', length=5721)"
      ]
     },
     "execution_count": 4,
     "metadata": {},
     "output_type": "execute_result"
    }
   ],
   "source": [
    "import pandas as pd\n",
    "\n",
    "eps = pd.read_csv('data/episodes.csv')\n",
    "\n",
    "\n"
   ]
  },
  {
   "cell_type": "code",
   "execution_count": null,
   "metadata": {},
   "outputs": [],
   "source": []
  }
 ],
 "metadata": {
  "kernelspec": {
   "display_name": "Python 3",
   "language": "python",
   "name": "python3"
  },
  "language_info": {
   "codemirror_mode": {
    "name": "ipython",
    "version": 3
   },
   "file_extension": ".py",
   "mimetype": "text/x-python",
   "name": "python",
   "nbconvert_exporter": "python",
   "pygments_lexer": "ipython3",
   "version": "3.8.5"
  }
 },
 "nbformat": 4,
 "nbformat_minor": 4
}
