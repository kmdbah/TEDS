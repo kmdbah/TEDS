{
 "cells": [
  {
   "cell_type": "code",
   "execution_count": 29,
   "metadata": {},
   "outputs": [],
   "source": [
    "def dig_pow(n, p):\n",
    "    dig_count = len(str(n))\n",
    "    digs = [char for char in str(n)]\n",
    "    sum_pow = 0\n",
    "    for i in range(dig_count):\n",
    "        pow = i + p\n",
    "        dig = digs[i]\n",
    "        sum_pow += int(dig) ** pow\n",
    "    if sum_pow % n == 0:\n",
    "        return int(sum_pow/n)\n",
    "    else:\n",
    "        return -1"
   ]
  },
  {
   "cell_type": "code",
   "execution_count": 30,
   "metadata": {},
   "outputs": [
    {
     "data": {
      "text/plain": [
       "51"
      ]
     },
     "execution_count": 30,
     "metadata": {},
     "output_type": "execute_result"
    }
   ],
   "source": [
    "dig_pow(46288, 3)"
   ]
  },
  {
   "cell_type": "code",
   "execution_count": 11,
   "metadata": {},
   "outputs": [
    {
     "name": "stdout",
     "output_type": "stream",
     "text": [
      "1 * 9\n",
      "9 * 9\n",
      "81 * 9\n",
      "0\n",
      "1 * 7\n",
      "7 * 2\n",
      "14 * 9\n",
      "1\n",
      "1 * 1\n",
      "1 * 2\n",
      "2 * 6\n",
      "2\n",
      "1 * 1\n",
      "1 * 2\n",
      "3\n"
     ]
    },
    {
     "data": {
      "text/plain": [
       "4"
      ]
     },
     "execution_count": 11,
     "metadata": {},
     "output_type": "execute_result"
    }
   ],
   "source": [
    "def persistence(n):\n",
    "    n_str = str(n)\n",
    "    loop = 0\n",
    "    while len(n_str) > 1:\n",
    "        n_prod = 1\n",
    "        for dig in n_str:\n",
    "            n_prod = n_prod * int(dig)\n",
    "        n_str = str(n_prod)\n",
    "        loop += 1\n",
    "    return loop\n",
    "\n",
    "persistence(999)"
   ]
  },
  {
   "cell_type": "code",
   "execution_count": null,
   "metadata": {},
   "outputs": [],
   "source": []
  },
  {
   "cell_type": "code",
   "execution_count": null,
   "metadata": {},
   "outputs": [],
   "source": []
  }
 ],
 "metadata": {
  "kernelspec": {
   "display_name": "Python 3",
   "language": "python",
   "name": "python3"
  },
  "language_info": {
   "codemirror_mode": {
    "name": "ipython",
    "version": 3
   },
   "file_extension": ".py",
   "mimetype": "text/x-python",
   "name": "python",
   "nbconvert_exporter": "python",
   "pygments_lexer": "ipython3",
   "version": "3.8.5"
  }
 },
 "nbformat": 4,
 "nbformat_minor": 4
}
