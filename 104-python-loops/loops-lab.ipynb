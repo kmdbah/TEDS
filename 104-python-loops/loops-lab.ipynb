{
 "cells": [
  {
   "cell_type": "markdown",
   "metadata": {},
   "source": [
    "<img src=\"http://imgur.com/1ZcRyrc.png\" style=\"float: left; margin: 20px\" width=\"50\" height=\"50\">\n",
    "\n",
    "# Python Fundamentals 3: Loops Lab"
   ]
  },
  {
   "cell_type": "markdown",
   "metadata": {},
   "source": [
    "## Exercise 1: Loud Animals\n",
    "Given a list of animals, print them all out in caps lock."
   ]
  },
  {
   "cell_type": "code",
   "execution_count": 2,
   "metadata": {},
   "outputs": [
    {
     "name": "stdout",
     "output_type": "stream",
     "text": [
      "CAT\n",
      "DOG\n",
      "CHEETAH\n",
      "ELEPHANT\n",
      "TIGER\n"
     ]
    }
   ],
   "source": [
    "animals = ['cat', 'dog', 'Cheetah', 'elephant', 'tiger']\n",
    "\n",
    "for animal in animals:\n",
    "    print(animal.upper())\n",
    "\n",
    "# TODO"
   ]
  },
  {
   "cell_type": "markdown",
   "metadata": {},
   "source": [
    "## Exercise 2: Multiples\n",
    "Given two integers, print whether one is a multiple of the other.\n",
    "\n",
    "For example, 12 and 6 are multiples of each other because 12 is evenly divisible by 6."
   ]
  },
  {
   "cell_type": "code",
   "execution_count": 3,
   "metadata": {},
   "outputs": [
    {
     "name": "stdout",
     "output_type": "stream",
     "text": [
      "yes\n"
     ]
    }
   ],
   "source": [
    "num1 = 100\n",
    "num2 = 10\n",
    "\n",
    "# TODO\n",
    "\n",
    "if num1 % num2 == 0:\n",
    "    print('yes')\n",
    "else:\n",
    "    print('no')"
   ]
  },
  {
   "cell_type": "markdown",
   "metadata": {},
   "source": [
    "## Exercise 3: Factorials\n",
    "Given a number, compute its factorial.\n",
    "\n",
    "_(Note: The factorial of a number $n$ is the product of all numbers $1, \\dots, n$.)_\n",
    "\n",
    "For example:\n",
    "\n",
    "$$5! = 1 \\times 2 \\times 3 \\times 4 \\times 5 = 120$$"
   ]
  },
  {
   "cell_type": "code",
   "execution_count": 8,
   "metadata": {},
   "outputs": [
    {
     "name": "stdout",
     "output_type": "stream",
     "text": [
      "120\n"
     ]
    }
   ],
   "source": [
    "num = 5\n",
    "\n",
    "# TODO\n",
    "\n",
    "product = 1\n",
    "for n in range (1, num+1):\n",
    "    product = product * n\n",
    "\n",
    "print(product)"
   ]
  },
  {
   "cell_type": "markdown",
   "metadata": {},
   "source": [
    "## Exercise 4: Vowel Counter\n",
    "Given a string, count the number of vowels in it.\n",
    "_(Note: If you loop through a string, you will loop through the characters in that string.)_"
   ]
  },
  {
   "cell_type": "code",
   "execution_count": 30,
   "metadata": {},
   "outputs": [
    {
     "name": "stdout",
     "output_type": "stream",
     "text": [
      "11\n"
     ]
    }
   ],
   "source": [
    "sentence = 'The quick brown fox jumps over the lazy dog'\n",
    "\n",
    "# TODO\n",
    "\n",
    "count = 0\n",
    "for char in sentence:\n",
    "    if char in \"aeiouAEIOU\":\n",
    "        count += 1\n",
    "print(count)"
   ]
  },
  {
   "cell_type": "markdown",
   "metadata": {},
   "source": [
    "## Exercise 5: Palindromes\n",
    "Given a string, print whether the string is a palindrome, i.e. it is the same forward and backwards. Ignore capitalization, spaces, and punctuation.\n",
    "\n",
    "For example, \"kayak\", \"Taco cat!\", and \"A man, a plan, a canal – Panama\" are palindromes."
   ]
  },
  {
   "cell_type": "code",
   "execution_count": 44,
   "metadata": {},
   "outputs": [
    {
     "name": "stdout",
     "output_type": "stream",
     "text": [
      "True\n"
     ]
    }
   ],
   "source": [
    "palindrome = 'A man, a plan, a canal -- Panama!'\n",
    "\n",
    "swept_pal = [char for char in palindrome.lower() if char.isalpha()]\n",
    "print(swept_pal == swept_pal[::-1])\n",
    "        \n"
   ]
  },
  {
   "cell_type": "code",
   "execution_count": null,
   "metadata": {},
   "outputs": [],
   "source": []
  }
 ],
 "metadata": {
  "kernelspec": {
   "display_name": "Python 3",
   "language": "python",
   "name": "python3"
  },
  "language_info": {
   "codemirror_mode": {
    "name": "ipython",
    "version": 3
   },
   "file_extension": ".py",
   "mimetype": "text/x-python",
   "name": "python",
   "nbconvert_exporter": "python",
   "pygments_lexer": "ipython3",
   "version": "3.8.5"
  }
 },
 "nbformat": 4,
 "nbformat_minor": 4
}
