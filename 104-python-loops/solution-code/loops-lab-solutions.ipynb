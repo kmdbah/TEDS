{
 "cells": [
  {
   "cell_type": "markdown",
   "metadata": {},
   "source": [
    "<img src=\"http://imgur.com/1ZcRyrc.png\" style=\"float: left; margin: 20px\" width=\"50\" height=\"50\">\n",
    "\n",
    "# Python Fundamentals 3: Loops Lab"
   ]
  },
  {
   "cell_type": "markdown",
   "metadata": {},
   "source": [
    "## Exercise 1: Loud Animals\n",
    "Given a list of animals, print them all out in caps lock."
   ]
  },
  {
   "cell_type": "code",
   "execution_count": 1,
   "metadata": {},
   "outputs": [
    {
     "name": "stdout",
     "output_type": "stream",
     "text": [
      "CAT\n",
      "DOG\n",
      "CHEETAH\n",
      "ELEPHANT\n",
      "TIGER\n"
     ]
    }
   ],
   "source": [
    "animals = ['cat', 'dog', 'Cheetah', 'elephant', 'tiger']\n",
    "\n",
    "for animal in animals:\n",
    "    print(animal.upper())"
   ]
  },
  {
   "cell_type": "markdown",
   "metadata": {},
   "source": [
    "## Exercise 2: Multiples\n",
    "Given two integers, print whether one is a multiple of the other.\n",
    "\n",
    "For example, 12 and 6 are multiples of each other because 12 is evenly divisible by 6."
   ]
  },
  {
   "cell_type": "code",
   "execution_count": 2,
   "metadata": {},
   "outputs": [
    {
     "data": {
      "text/plain": [
       "True"
      ]
     },
     "execution_count": 2,
     "metadata": {},
     "output_type": "execute_result"
    }
   ],
   "source": [
    "num1 = 100\n",
    "num2 = 10\n",
    "\n",
    "# If two ints are evenly divisible, \n",
    "#   their remainder will be zero.\n",
    "\n",
    "# We must test both cases, because we\n",
    "#   are not given which is larger.\n",
    "num1 % num2 == 0 or num2 % num1 == 0"
   ]
  },
  {
   "cell_type": "markdown",
   "metadata": {},
   "source": [
    "## Exercise 3: Factorials\n",
    "Given a number, compute its factorial.\n",
    "\n",
    "_(Note: The factorial of a number $n$ is the product of all numbers $1, \\dots, n$.)_\n",
    "\n",
    "For example:\n",
    "\n",
    "$$5! = 1 \\times 2 \\times 3 \\times 4 \\times 5 = 120$$"
   ]
  },
  {
   "cell_type": "code",
   "execution_count": 3,
   "metadata": {},
   "outputs": [
    {
     "data": {
      "text/plain": [
       "720"
      ]
     },
     "execution_count": 3,
     "metadata": {},
     "output_type": "execute_result"
    }
   ],
   "source": [
    "num = 6\n",
    "\n",
    "prod = 1\n",
    "for n in range(1, num + 1):\n",
    "    prod *= n\n",
    "\n",
    "prod"
   ]
  },
  {
   "cell_type": "markdown",
   "metadata": {},
   "source": [
    "## Exercise 4: Vowel Counter\n",
    "Given a string, count the number of vowels in it.\n",
    "_(Note: If you loop through a string, you will loop through the characters in that string.)_"
   ]
  },
  {
   "cell_type": "code",
   "execution_count": 4,
   "metadata": {},
   "outputs": [
    {
     "data": {
      "text/plain": [
       "11"
      ]
     },
     "execution_count": 4,
     "metadata": {},
     "output_type": "execute_result"
    }
   ],
   "source": [
    "sentence = 'The quick brown fox jumps over the lazy dog'\n",
    "\n",
    "vowel_count = 0\n",
    "for char in sentence:\n",
    "    if char.lower() in 'aeiou':\n",
    "        vowel_count += 1\n",
    "\n",
    "vowel_count"
   ]
  },
  {
   "cell_type": "markdown",
   "metadata": {},
   "source": [
    "## Exercise 5: Palindromes\n",
    "Given a string, print whether the string is a palindrome, i.e. it is the same forward and backwards. Ignore capitalization, spaces, and punctuation.\n",
    "\n",
    "For example, \"kayak\", \"Taco cat!\", and \"A man, a plan, a canal – Panama\" are palindromes."
   ]
  },
  {
   "cell_type": "code",
   "execution_count": 5,
   "metadata": {},
   "outputs": [
    {
     "data": {
      "text/plain": [
       "True"
      ]
     },
     "execution_count": 5,
     "metadata": {},
     "output_type": "execute_result"
    }
   ],
   "source": [
    "palindrome = 'civic'\n",
    "\n",
    "# Make new string with only\n",
    "#    lowercase alphabetical characters\n",
    "cleaned = ''\n",
    "for char in palindrome:\n",
    "    if char.isalpha():\n",
    "         cleaned += char.lower()\n",
    "\n",
    "# Palindrome test\n",
    "cleaned == cleaned[::-1]"
   ]
  },
  {
   "cell_type": "code",
   "execution_count": null,
   "metadata": {},
   "outputs": [],
   "source": []
  }
 ],
 "metadata": {
  "kernelspec": {
   "display_name": "Python 3",
   "language": "python",
   "name": "python3"
  },
  "language_info": {
   "codemirror_mode": {
    "name": "ipython",
    "version": 3
   },
   "file_extension": ".py",
   "mimetype": "text/x-python",
   "name": "python",
   "nbconvert_exporter": "python",
   "pygments_lexer": "ipython3",
   "version": "3.8.5"
  }
 },
 "nbformat": 4,
 "nbformat_minor": 4
}
