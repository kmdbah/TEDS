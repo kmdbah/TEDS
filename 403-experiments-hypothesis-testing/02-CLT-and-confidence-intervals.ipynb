{
 "cells": [
  {
   "cell_type": "markdown",
   "metadata": {},
   "source": [
    "# ![](https://ga-dash.s3.amazonaws.com/production/assets/logo-9f88ae6c9c3871690e33280fcf557f33.png) Stats 2 Part 2 - Central Limit Theorem and Confidence Intervals\n",
    "\n",
    "### Learning Objectives\n",
    "- Explain the relationships among parameter, sample, statistic, and population.\n",
    "- Define and describe sampling distribution.\n",
    "- Describe the Central Limit Theorem.\n",
    "- Generate and interpret a theoretical confidence interval.\n",
    "\n",
    "## Video Game Example\n",
    "Let's say you are playing a video game (like \"Halo\" or \"Call of Duty\") where the goal is to kill your opponent. Additionally, let's say your opponent is invisible.\n",
    "\n",
    "When deciding which weapon to use, you have two options:\n",
    "- a sniper rifle with one bullet in it, or\n",
    "- a grenade launcher with one grenade in it. \n",
    "\n",
    "<details><summary>Which weapon would you prefer?</summary>\n",
    "    \n",
    "- You're likely going to prefer the grenade launcher!\n",
    "- Why? Well, an explosion from a grenade will cover more area than one bullet fired from a rifle.\n",
    "\n",
    "![](./images/halo3.gif)\n",
    "</details>\n",
    "\n",
    "This is the same as the logic behind confidence intervals. By calculating a statistic on a sample, ***maybe*** we get lucky and our statistic is exactly equal to our parameter... however, we're probably not going to get this lucky.\n",
    "\n",
    "Let's see an example of that.\n",
    "\n",
    "## Polling Example\n",
    "\n",
    "You're running for office in a small town of 1,000 voters. Everyone in your town cares deeply about voting, so all 1,000 of them are going to vote.\n",
    "\n",
    "You'd like to ask \"All in all, do you think things in the nation are generally headed in the right direction?\""
   ]
  },
  {
   "cell_type": "code",
   "execution_count": 1,
   "metadata": {},
   "outputs": [],
   "source": [
    "import matplotlib.pyplot as plt\n",
    "import numpy as np\n",
    "\n",
    "%matplotlib inline"
   ]
  },
  {
   "cell_type": "code",
   "execution_count": 2,
   "metadata": {},
   "outputs": [],
   "source": [
    "# Set a seed so we get the same results.\n",
    "np.random.seed(42)"
   ]
  },
  {
   "cell_type": "code",
   "execution_count": 3,
   "metadata": {},
   "outputs": [],
   "source": [
    "# We are simulating a population of 1,000.\n",
    "# Each person has a 40% chance of saying\n",
    "# \"Yes, things are headed in the right direction.\"\n",
    "population = np.random.binomial(n=1,\n",
    "                                p=0.4,\n",
    "                                size=1000)"
   ]
  },
  {
   "cell_type": "code",
   "execution_count": null,
   "metadata": {},
   "outputs": [],
   "source": [
    "# What is the percentage of our pop'n that think the country is headed in the right direction?"
   ]
  },
  {
   "cell_type": "markdown",
   "metadata": {},
   "source": [
    "Above, we simulated a population of people where **38.7%** of them think the country is headed in the right direction. \n",
    "\n",
    "**But your campaign doesn't know this. Your campaign wants to learn what the true value of $p$ is!**\n",
    "\n",
    "The problem is, you don't have enough money and time to call all 1,000 of them. You can only call 50."
   ]
  },
  {
   "cell_type": "code",
   "execution_count": null,
   "metadata": {},
   "outputs": [],
   "source": [
    "sample ="
   ]
  },
  {
   "cell_type": "code",
   "execution_count": null,
   "metadata": {},
   "outputs": [],
   "source": []
  },
  {
   "cell_type": "code",
   "execution_count": null,
   "metadata": {},
   "outputs": [],
   "source": []
  },
  {
   "cell_type": "code",
   "execution_count": null,
   "metadata": {},
   "outputs": [],
   "source": []
  },
  {
   "cell_type": "code",
   "execution_count": null,
   "metadata": {},
   "outputs": [],
   "source": []
  },
  {
   "cell_type": "code",
   "execution_count": 11,
   "metadata": {},
   "outputs": [
    {
     "data": {
      "image/png": "[encoded data removed]",
      "text/plain": [
       "<Figure size 432x288 with 1 Axes>"
      ]
     },
     "metadata": {
      "needs_background": "light"
     },
     "output_type": "display_data"
    }
   ],
   "source": [
    "# Let's take lots of samples and visualize them!\n",
    "def plot_sample_distr(population, nsamples=10000, pts_per_sample=100, bins=20):\n",
    "    # Samples the population (with replacement)\n",
    "    #  Computes the mean for each of the NSAMPLES samples.\n",
    "    sample_means = np.random.choice(population, (nsamples, pts_per_sample)).mean(axis=1)\n",
    "\n",
    "    plt.hist(sample_means, bins=bins, density=True)\n",
    "    plt.axvline(population.mean(), c='g')    # \"axis vertical line\"\n",
    "    plt.axvline(sample_means.mean(), c='b')\n",
    "    \n",
    "    plt.xlim(0, 1)\n",
    "    plt.xlabel('Mean % saying \"things are headed in the right direction\"')\n",
    "    plt.ylabel('Density')\n",
    "\n",
    "# green line - population mean\n",
    "# blue line - sample mean (they should ~overlap)\n",
    "plot_sample_distr(population,\n",
    "                  nsamples=10000, pts_per_sample=100, bins=20)"
   ]
  },
  {
   "cell_type": "markdown",
   "metadata": {},
   "source": [
    "#### Even if we randomly sample, we aren't guaranteed to get a good sample!\n",
    "\n",
    "<details><summary>How do we get around this?</summary>\n",
    "    \n",
    "![](./images/halo.gif)\n",
    "### By switching to our grenade launcher.\n",
    "</details>\n",
    "\n",
    "When a poll is reported, you likely see something like this:\n",
    "\n",
    "![](./images/polling.png)\n",
    "\n",
    "In the upper-right corner, you can see \"$\\text{margin of error }\\pm\\text{ }3.1$\". \n",
    "\n",
    "#### What is a margin of error?\n",
    "This means that it's pretty likely that these poll results are within \"plus 3.1%\" or \"minus 3.1%\" of the real value.\n",
    "\n",
    "#### Why is there a margin of error?\n",
    "We recognize that one sample of 50 people can't definitively speak for all registered voters! If I had taken a different sample of 50 people, then my results might be pretty different. We hope not, but it's entirely possible.\n",
    "\n",
    "The margin of error is a way for us to describe our uncertainty in our statistic based on how much our statistic changes from one sample to another sample.\n",
    "- Realistically, we only pull one sample of size $n$ out of all possible samples of size $n$.\n",
    "- We only see one sample percentage out of all possible statistics.\n",
    "- We won't ever actually **see** the sample-to-sample variability!\n",
    "    - This makes sense, right? It doesn't make sense for me to take ten samples of size 50... instead, I would just take one sample of 500!\n",
    "    \n",
    "#### If we don't ever actually observe how much our statistic changes from one sample to another sample, then how can we get a margin of error?\n",
    "\n",
    "There are two ways to do this:\n",
    "- We can get theory to do it. (i.e. relying on statistics and probability theory)\n",
    "- We can estimate it empirically from our existing data."
   ]
  },
  {
   "cell_type": "markdown",
   "metadata": {},
   "source": [
    "## Confidence Interval Based on Theory\n",
    "\n",
    "By quantifying the margin of error, we can construct what is known as a **confidence interval**.\n",
    "\n",
    "A confidence interval is a set of likely values for the parameter of interest.\n",
    "\n",
    "--- \n",
    "\n",
    "<details><summary>If I could theoretically plot all possible sample percentages and how frequently I see each sample percentage... what is this?</summary>\n",
    "\n",
    "- This is the distribution of all sample percentages!\n",
    "- This is known as the **sampling distribution**.\n",
    "</details>\n",
    "\n",
    "Luckily, there is a theoretical result about this exact thing!\n",
    "\n",
    "### The Central Limit Theorem\n",
    "The Central Limit Theorem is the most important theorem in all of statistics. It states:\n",
    "\n",
    "As the size of our sample $n$ gets closer and closer to infinity, our sampling distribution (the distribution of all possible sample means) approaches a Normal distribution with mean $\\mu$ and standard deviation $\\frac{\\sigma}{\\sqrt{n}}$.\n",
    "\n",
    "**In English**: This means that if I take a sample of size $n$ and find the mean of that sample, then do it for all possible samples of size $n$, this distribution of sample means should be Normally distributed as long as $n$ is big enough.\n",
    "\n",
    "**Practically**: If I want to study the sample mean (or the sample percentage), I can use the Normal distribution to generate a confidence interval, as long as the size of our sample $n$ is large enough!"
   ]
  },
  {
   "cell_type": "code",
   "execution_count": null,
   "metadata": {},
   "outputs": [],
   "source": []
  },
  {
   "cell_type": "markdown",
   "metadata": {},
   "source": [
    "### Confidence Interval Formula\n",
    "\n",
    "The formula for a confidence interval is:\n",
    "\n",
    "$$\n",
    "\\text{[sample statistic]} \\pm \\text{[multiplier]} \\times \\text{[standard deviation of sampling distribution]}\n",
    "$$\n",
    "\n",
    "- The **sample statistic** is the statistic of our sample!\n",
    "- The **standard deviation of the sampling distribution** quantifies that sample-to-sample variability for us. (This is commonly called the [standard error](https://stattrek.com/estimation/standard-error.aspx).)\n",
    "- The **multiplier** is a number drawn from the Normal distribution that makes sure our confidence interval is appropriately wide given how confident we want to be in our result.\n",
    "    - The **margin of error** is the multiplier times the standard deviation of the sampling distribution.\n",
    "\n",
    "*Extra:* To learn about the derivation of the confidence interval for a given confidence level, [head here](https://amsi.org.au/ESA_Senior_Years/SeniorTopic4/4h/4h_2content_11.html).\n",
    "\n",
    "--- \n",
    "\n",
    "Example: I want to find the 95% confidence interval for the percentage of people who think the nation is on the right track.\n",
    "\n",
    "The formula is:\n",
    "\n",
    "$$\n",
    "\\begin{eqnarray*}\n",
    "\\text{[sample statistic] } &\\pm& \\text{[multiplier] } \\times \\text{[standard deviation of sampling distribution]} \\\\\n",
    "\\bar{x} &\\pm& z^* \\times \\frac{\\sigma}{\\sqrt{n}} \\\\\n",
    "\\Rightarrow \\bar{x} &\\pm& 1.96 \\times \\frac{\\sigma}{\\sqrt{n}}\n",
    "\\end{eqnarray*}\n",
    "$$"
   ]
  },
  {
   "cell_type": "code",
   "execution_count": null,
   "metadata": {},
   "outputs": [],
   "source": [
    "sample_mean =\n",
    "sigma =\n",
    "n ="
   ]
  },
  {
   "cell_type": "code",
   "execution_count": null,
   "metadata": {},
   "outputs": [],
   "source": []
  },
  {
   "cell_type": "code",
   "execution_count": null,
   "metadata": {},
   "outputs": [],
   "source": []
  },
  {
   "cell_type": "code",
   "execution_count": 12,
   "metadata": {},
   "outputs": [
    {
     "data": {
      "image/png": "[encoded data removed]",
      "text/plain": [
       "<Figure size 432x288 with 1 Axes>"
      ]
     },
     "metadata": {
      "needs_background": "light"
     },
     "output_type": "display_data"
    }
   ],
   "source": [
    "# green line - population mean\n",
    "# blue line - sample mean (they should ~overlap)\n",
    "plot_sample_distr(population,\n",
    "                  nsamples=10000, pts_per_sample=100, bins=20)\n",
    "\n",
    "\n",
    "### NEW - Now let's take a sample and see where it lies on this curve\n",
    "NPOINTS = 100\n",
    "the_sample = np.random.choice(population, NPOINTS)\n",
    "std_error = 1.96 * the_sample.std() / np.sqrt(NPOINTS)\n",
    "\n",
    "plt.axvline(the_sample.mean(), c='k')\n",
    "plt.axvline(the_sample.mean() + std_error, c='r')\n",
    "plt.axvline(the_sample.mean() - std_error, c='r');\n",
    "\n",
    "# \"With confidence level 95%, the population mean lies\n",
    "#   within std_error of the sample mean.\""
   ]
  },
  {
   "cell_type": "markdown",
   "metadata": {},
   "source": [
    "Our 95% confidence interval for the percentage of people who think our country is on the right track is **(24.55%, 51.45%)**.\n",
    "\n",
    "#### Interpretation (*this will come up in interviews*)\n",
    "\n",
    "In general: **\"With confidence level 95%, the true population mean lies in the confidence interval.\"**\n",
    "\n",
    "For this example: **\"With confidence level 95%, the true population percentage of people who think our country is on the right track is between 24.55% to 51.45%.\"**\n",
    "- Generally, we would say:\n",
    "    - \"I am {confidence level}% confident \n",
    "    - that the true population {parameter} \n",
    "    - is between {lower confidence bound} and {upper confidence bound}.\"\n",
    "\n",
    "---\n",
    "\n",
    "Two common misconceptions:\n",
    "\n",
    "1. There is *not* a 95% probability that the true parameter lies within a particular confidence interval. Make sure you do not use the word probability! Instead, we are confident that over a large number of samples, 95% of them will contain the population statistic.\n",
    "\n",
    "2. As the number of samples increases, the standard deviation of the sampling distribution decreases. However, a small standard deviation by itself does not imply that the mean is accurate. (For example, units matter!)\n",
    "\n",
    "---\n",
    "\n",
    "Write a function called `conf_int()` to take in an array of data and return a 95% confidence interval. Run your function on `sample_2` and interpret your results."
   ]
  },
  {
   "cell_type": "code",
   "execution_count": null,
   "metadata": {},
   "outputs": [],
   "source": []
  },
  {
   "cell_type": "code",
   "execution_count": null,
   "metadata": {},
   "outputs": [],
   "source": []
  },
  {
   "cell_type": "markdown",
   "metadata": {},
   "source": [
    "<details><summary>Interpretation:</summary>\"I am 95% confident that the true population percentage of people who believe our country is on the right track is between 30.24% and 57.76 percent.\"</details>\n",
    "\n",
    "---\n",
    "\n",
    "Note: For a confidence interval, our multiplier is 1.96. The number 1.96 comes from a standard Normal distribution.\n",
    "- The area under the standard Normal distribution between -1.96 and +1.96 is 95%.\n",
    "- For 90% confidence, use 1.645.\n",
    "- For 99% confidence, use 2.576.\n",
    "\n",
    "#### This seems straightforward enough... why don't we always just \"use theory?\"\n",
    "- The \"standard deviation of the statistic\" formula is easy when we're generating confidence intervals for one mean or one percentage.\n",
    "- That formula gets more complicated if we want to calculate a confidence interval for a correlation coefficient, for the difference between two means, or for something else.\n",
    "- Also, the Central Limit Theorem above describes how sample means work. Relying on the Normal distribution is tough when our sample size $n$ is small (below 30) or when we're calculating something other than basic means and percentages."
   ]
  },
  {
   "cell_type": "markdown",
   "metadata": {},
   "source": [
    "# To sum up:\n",
    "- Our goal is usually to learn about a population.\n",
    "- Oftentimes, money, time, energy, and other constraints prevent us from measuring the entire population directly.\n",
    "- We take a sample from this population and calculate a statistic on our sample.\n",
    "- We want to use this sample statistic to understand our population parameter!\n",
    "- By just calculating a statistic, we're effectively using our sniper rifle. Instead, we want a grenade launcher!\n",
    "- The statistical equivalent of a grenade launcher is a **confidence interval**. A confidence interval is a set of likely values for the parameter of interest.\n",
    "- In order to construct our confidence interval, we use our sample statistic and attach a margin of error to it. We can then quantify how confident we are that the true population parameter is inside the interval.\n",
    "- The formula for any confidence interval is given by $\\text{[sample statistic] } \\pm \\text{[multiplier] } \\times \\text{[standard deviation of sampling distribution]}$.\n",
    "- The formula for a 95% confidence interval for sample means or proportions is $\\bar{x} \\pm 1.96\\frac{\\sigma}{\\sqrt{n}}$.\n",
    "- I would interpret a 95% confidence interval $(a,b)$ as follows:\n",
    "    - \"I am 95% confident that the true population parameter is in between $a$ and $b$.\""
   ]
  }
 ],
 "metadata": {
  "kernelspec": {
   "display_name": "Python 3",
   "language": "python",
   "name": "python3"
  },
  "language_info": {
   "codemirror_mode": {
    "name": "ipython",
    "version": 3
   },
   "file_extension": ".py",
   "mimetype": "text/x-python",
   "name": "python",
   "nbconvert_exporter": "python",
   "pygments_lexer": "ipython3",
   "version": "3.8.5"
  }
 },
 "nbformat": 4,
 "nbformat_minor": 4
}
