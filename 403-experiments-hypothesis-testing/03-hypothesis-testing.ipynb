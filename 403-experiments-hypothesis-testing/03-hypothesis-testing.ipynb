{
 "cells": [
  {
   "cell_type": "markdown",
   "metadata": {
    "slideshow": {
     "slide_type": "slide"
    }
   },
   "source": [
    "# ![](https://ga-dash.s3.amazonaws.com/production/assets/logo-9f88ae6c9c3871690e33280fcf557f33.png) Stats 2 Part 3 - Hypothesis Testing\n",
    "\n",
    "---"
   ]
  },
  {
   "cell_type": "markdown",
   "metadata": {
    "slideshow": {
     "slide_type": "slide"
    }
   },
   "source": [
    "### LEARNING OBJECTIVES\n",
    "*After this lesson, you will be able to:*\n",
    "- Define null vs alternative hypotheses \n",
    "- Explain significance levels\n",
    "- Explain ways of calculating p-values"
   ]
  },
  {
   "cell_type": "markdown",
   "metadata": {
    "slideshow": {
     "slide_type": "slide"
    }
   },
   "source": [
    "### The p-value\n",
    "\n",
    "$P(Data | H_0)$\n",
    "\n",
    "The **p-value** is the probability that, **GIVEN THE NULL HYPOTHESIS IS TRUE**, we would observe the current set of data. \n",
    "\n"
   ]
  },
  {
   "cell_type": "markdown",
   "metadata": {
    "slideshow": {
     "slide_type": "slide"
    }
   },
   "source": [
    "### How to think about hypothesis testing\n",
    "\n",
    "The p-value is $P(Data | H_0)$. If this probability is below some *significance level* cut-off, then we **reject** the null hypothesis; otherwise, we **fail to reject** it.\n",
    "\n",
    "There is a rich body of inferential statistics that allows us to calculate this analytically using *parametric methods*, i.e. given certain assumptions. This is the traditional way of doing hypothesis tests.\n",
    "\n",
    "If we have a model of $H_0$, we can sometimes also calculate this directly with simulations."
   ]
  },
  {
   "cell_type": "markdown",
   "metadata": {
    "slideshow": {
     "slide_type": "slide"
    }
   },
   "source": [
    "So we have two broad strategies for testing hypotheses:\n",
    "\n",
    "Simulation-based:\n",
    "- Describe null and alternative hypotheses\n",
    "- Set significance level alpha\n",
    "- Define model\n",
    "- Run simulation\n",
    "- Calculate p-value\n",
    "- Compare p-value to alpha\n",
    "\n",
    "![](./assets/images/Hypothesistestingfigure.png)\n",
    "_Image from http://allendowney.blogspot.com/2011/05/there-is-only-one-test.html_"
   ]
  },
  {
   "cell_type": "markdown",
   "metadata": {
    "slideshow": {
     "slide_type": "slide"
    }
   },
   "source": [
    "Parametric methods:\n",
    "- Describe null and alternative hypotheses\n",
    "- Set significance level alpha\n",
    "- Define distribution\n",
    "- Calculate test statistic\n",
    "- Calculate p-value\n",
    "- Compare p-value to alpha"
   ]
  },
  {
   "cell_type": "markdown",
   "metadata": {
    "slideshow": {
     "slide_type": "slide"
    }
   },
   "source": [
    "### Guided practice: hypothesis testing for coin flips\n",
    "\n",
    "Let's say we want to test whether a coin is rigged to turn up more heads when flipping. What's our null hypothesis? How would we simulate this?"
   ]
  },
  {
   "cell_type": "code",
   "execution_count": 1,
   "metadata": {
    "collapsed": false,
    "jupyter": {
     "outputs_hidden": false
    },
    "slideshow": {
     "slide_type": "-"
    }
   },
   "outputs": [],
   "source": [
    "import matplotlib.pyplot as plt\n",
    "import numpy as np\n",
    "%matplotlib inline"
   ]
  },
  {
   "cell_type": "code",
   "execution_count": 11,
   "metadata": {
    "collapsed": false,
    "jupyter": {
     "outputs_hidden": false
    }
   },
   "outputs": [
    {
     "data": {
      "text/plain": [
       "array([[1, 0, 1, ..., 0, 0, 0],\n",
       "       [1, 1, 1, ..., 1, 0, 1],\n",
       "       [0, 1, 0, ..., 0, 0, 1],\n",
       "       ...,\n",
       "       [0, 0, 0, ..., 1, 0, 0],\n",
       "       [0, 1, 0, ..., 1, 1, 1],\n",
       "       [1, 0, 1, ..., 1, 1, 1]])"
      ]
     },
     "execution_count": 11,
     "metadata": {},
     "output_type": "execute_result"
    }
   ],
   "source": [
    "trials = 100000\n",
    "\n",
    "# as we increase the sample size, we approach a normal distribution\n",
    "data = np.random.randint(2, size = (trials,30)) \n",
    "data"
   ]
  },
  {
   "cell_type": "code",
   "execution_count": 12,
   "metadata": {
    "collapsed": false,
    "jupyter": {
     "outputs_hidden": false
    }
   },
   "outputs": [
    {
     "data": {
      "text/plain": [
       "array([14, 17, 11, ...,  9, 14, 17])"
      ]
     },
     "execution_count": 12,
     "metadata": {},
     "output_type": "execute_result"
    }
   ],
   "source": [
    "N = np.sum(data, axis = 1) # sum up the number of heads in rows (experiments)\n",
    "N"
   ]
  },
  {
   "cell_type": "code",
   "execution_count": 17,
   "metadata": {
    "collapsed": false,
    "jupyter": {
     "outputs_hidden": false
    }
   },
   "outputs": [
    {
     "data": {
      "image/png": "[encoded data removed]",
      "text/plain": [
       "<Figure size 432x288 with 1 Axes>"
      ]
     },
     "metadata": {
      "needs_background": "light"
     },
     "output_type": "display_data"
    }
   ],
   "source": [
    "plt.hist(N, bins=100)\n",
    "plt.title('1000 Coins, 30 Tosses Each', fontsize = 20)\n",
    "plt.xlabel('number of heads', fontsize = 14)\n",
    "plt.ylabel('number of trials', fontsize = 14)\n",
    "plt.show()"
   ]
  },
  {
   "cell_type": "markdown",
   "metadata": {
    "slideshow": {
     "slide_type": "slide"
    }
   },
   "source": [
    "Let's say we flipped our real-life coin 30 times, and saw 20 heads. What is the probability of this given $H_0$, which we model with a fair coin? We can use our simulation and simply count the proportion of times we observed a result at least as large as the one we're interested in.\n",
    "\n",
    "First, let's pick an $\\alpha$ **significance level**: at what point do we say a result is improbable enough that we won't believe it happened in a world where $H_0$ is true?\n",
    "\n",
    "$$\\alpha = ?$$"
   ]
  },
  {
   "cell_type": "code",
   "execution_count": 5,
   "metadata": {
    "collapsed": false,
    "jupyter": {
     "outputs_hidden": false
    },
    "slideshow": {
     "slide_type": "slide"
    }
   },
   "outputs": [
    {
     "name": "stdout",
     "output_type": "stream",
     "text": [
      "0.05001 0.05 True\n"
     ]
    }
   ],
   "source": [
    "alpha = .05\n",
    "pval = sum(N >= 20) / trials\n",
    "\n",
    "print(pval, alpha, pval > alpha)\n",
    "\n",
    "# This gives ~5% chance, just above our alpha level"
   ]
  },
  {
   "cell_type": "markdown",
   "metadata": {
    "slideshow": {
     "slide_type": "slide"
    }
   },
   "source": [
    "Do we reject or fail to reject the null hypothesis?"
   ]
  },
  {
   "cell_type": "markdown",
   "metadata": {
    "slideshow": {
     "slide_type": "slide"
    }
   },
   "source": [
    "## Demonstration: parametric methods for hypothesis testing\n",
    "\n",
    "More traditionally, we could define our assumptions about the model and its distribution, and pick an appropriate *test statistic*.\n",
    "\n",
    "Here, we could use a binomial proportions test statistic. For a largeish number of trials, this gives us a \"Z-score\" which lies on a normal distribution.\n",
    "\n",
    "$$ \\frac{\\hat{p} - p_0}{\\sqrt{p_0 (1 - p_0) / n}} $$\n"
   ]
  },
  {
   "cell_type": "code",
   "execution_count": 6,
   "metadata": {
    "collapsed": false,
    "jupyter": {
     "outputs_hidden": false
    },
    "slideshow": {
     "slide_type": "slide"
    }
   },
   "outputs": [],
   "source": [
    "import scipy.stats as st"
   ]
  },
  {
   "cell_type": "code",
   "execution_count": 7,
   "metadata": {
    "collapsed": false,
    "jupyter": {
     "outputs_hidden": false
    }
   },
   "outputs": [
    {
     "data": {
      "text/plain": [
       "0.067889154861829"
      ]
     },
     "execution_count": 7,
     "metadata": {},
     "output_type": "execute_result"
    }
   ],
   "source": [
    "N = 30.              # same as above\n",
    "p_hat = 20. / N      # observed successes\n",
    "p_naught = 15. / N   # expected successes\n",
    "\n",
    "test_stat = (p_hat - p_naught) / np.sqrt(p_naught * (1 - p_naught) / N)\n",
    "\n",
    "((1 - st.norm.cdf(test_stat))) * 2 # two-tailed"
   ]
  },
  {
   "cell_type": "markdown",
   "metadata": {
    "slideshow": {
     "slide_type": "slide"
    }
   },
   "source": [
    "### Demo: More hypothesis testing with parametric method\n",
    "\n",
    "Say we are testing a new drug:\n",
    "\n",
    "- We randomly select 50 people to be in the placebo control condition and 50 people to recieve the treatment.\n",
    "- Our sample is selected from the broader, unknown population pool.\n",
    "- In a parallel world we could have ended up with any random sample from the population pool of 100 people.\n"
   ]
  },
  {
   "cell_type": "markdown",
   "metadata": {
    "slideshow": {
     "slide_type": "slide"
    }
   },
   "source": [
    "### The \"null hypothesis\"\n",
    "\n",
    "What is it?"
   ]
  },
  {
   "cell_type": "markdown",
   "metadata": {
    "slideshow": {
     "slide_type": "fragment"
    }
   },
   "source": [
    "The null hypothesis is, in this example, the hypothesis that there is no difference between placebo and treatment.\n",
    "\n",
    "**H0:** The measured parameter is equal to a specific value for the population."
   ]
  },
  {
   "cell_type": "markdown",
   "metadata": {
    "slideshow": {
     "slide_type": "fragment"
    }
   },
   "source": [
    "The **alternative hypothesis** is the other possible outcome of the experiment: the difference between the placebo and the treatment is real/not zero.\n",
    "\n",
    "**H1:** The measured parameter is different for the population than the value in the null hypothesis."
   ]
  },
  {
   "cell_type": "markdown",
   "metadata": {
    "slideshow": {
     "slide_type": "slide"
    }
   },
   "source": [
    "Say in our experiment we follow-up with the experimental and control groups:\n",
    "\n",
    "- 5 out of 50 patients in the control group indicate that their symptoms are better\n",
    "- 20 out of 50 patients in the experimental group indicate that their symptoms are better\n",
    "\n",
    "The **p-value** would be the **probability we have this data if the effect of the drug is in fact no better than placebo.**\n",
    "\n",
    "Let's visuailze this degree of difference, assuming observed differences over many trials are normally distributed."
   ]
  },
  {
   "cell_type": "code",
   "execution_count": 18,
   "metadata": {},
   "outputs": [],
   "source": [
    "## these are re-imported here so you don't have to scroll all the way up\n",
    "import numpy as np\n",
    "import scipy.stats as stats\n",
    "import seaborn as sns\n",
    "import matplotlib.pyplot as plt\n",
    "\n",
    "%matplotlib inline"
   ]
  },
  {
   "cell_type": "code",
   "execution_count": 19,
   "metadata": {
    "slideshow": {
     "slide_type": "slide"
    }
   },
   "outputs": [],
   "source": [
    "sns.set(rc={\"figure.figsize\": (9, 7)})\n",
    "\n",
    "null_dist = np.random.normal(0, 5, 100)\n",
    "measured_diff = 15."
   ]
  },
  {
   "cell_type": "code",
   "execution_count": 20,
   "metadata": {
    "collapsed": false,
    "jupyter": {
     "outputs_hidden": false
    }
   },
   "outputs": [
    {
     "data": {
      "text/plain": [
       "array([  6.25271367,  -3.84344698,   1.01769718,  -0.10822302,\n",
       "        -2.79025748,  -1.69559085,  -2.0195162 ,   4.93960918,\n",
       "        -7.02299832,  -2.85612955,   2.41875091,  -3.22360358,\n",
       "        -7.9890797 ,  -1.08634888,   0.27422774,   1.0479813 ,\n",
       "         7.57139515,   3.43919646,   4.41387696,  -1.09743545,\n",
       "        -6.92395292,   6.31569431,  -9.96371817,   0.562602  ,\n",
       "        -6.62676974, -12.3713691 ,  -4.08154305,  -7.39912191,\n",
       "         1.0356778 ,   3.09160782,  -7.64808971,   1.56081401,\n",
       "         2.36156291,   1.61785173,   7.86486046,  -2.57219996,\n",
       "         2.76006136,  -0.07003408,   9.78945425,   0.03180433,\n",
       "         4.82749258,  -6.83024466,  -5.36275015,   0.2540945 ,\n",
       "        -7.36185553,   5.40942278,   4.29988544,  -1.39164131,\n",
       "        -0.35234205,   2.08542131,  -6.36075232,  -2.2555839 ,\n",
       "        -7.7696619 ,  -3.10790495,   1.46551022,   6.19375798,\n",
       "         3.02563039,   4.29246806,  -3.92244186,   0.60550018,\n",
       "         1.5124485 ,  -1.71692956,   6.0290458 ,  -1.4698895 ,\n",
       "         4.93984019,  -9.96958603,  -1.07467584,  -4.42710856,\n",
       "         2.06861472,   2.21720387,  -2.68362929,  -4.71496759,\n",
       "        -1.49497134,  -6.12056311,   0.7106908 ,   1.03623897,\n",
       "         1.50994329,  -1.63975454, -11.73016251,   1.87141385,\n",
       "        -0.50345696,   1.35060829,   0.89275741,  -1.17127151,\n",
       "         4.81917064,   3.85102638, -10.27519929,  -9.0885042 ,\n",
       "         0.92505183,  -4.09657341,  -5.56364   ,   3.32312256,\n",
       "        -5.28985636,  -2.93660978,   1.77141786,  -1.65929781,\n",
       "        -0.94694258,  -0.75289508,   3.93873998,  -4.08595835])"
      ]
     },
     "execution_count": 20,
     "metadata": {},
     "output_type": "execute_result"
    }
   ],
   "source": [
    "null_dist"
   ]
  },
  {
   "cell_type": "code",
   "execution_count": 25,
   "metadata": {
    "collapsed": false,
    "jupyter": {
     "outputs_hidden": false
    },
    "slideshow": {
     "slide_type": "slide"
    }
   },
   "outputs": [
    {
     "name": "stderr",
     "output_type": "stream",
     "text": [
      "C:\\Users\\614318\\Anaconda3\\lib\\site-packages\\seaborn\\distributions.py:2551: FutureWarning: `distplot` is a deprecated function and will be removed in a future version. Please adapt your code to use either `displot` (a figure-level function with similar flexibility) or `histplot` (an axes-level function for histograms).\n",
      "  warnings.warn(msg, FutureWarning)\n"
     ]
    },
    {
     "data": {
      "image/png": "[encoded data removed]",
      "text/plain": [
       "<Figure size 648x504 with 1 Axes>"
      ]
     },
     "metadata": {},
     "output_type": "display_data"
    }
   ],
   "source": [
    "ax = sns.distplot(null_dist, bins =30, kde=True)\n",
    "ax.axvline(measured_diff, color='k', linestyle='--', lw=5)\n",
    "\n",
    "plt.show()"
   ]
  },
  {
   "cell_type": "markdown",
   "metadata": {
    "slideshow": {
     "slide_type": "slide"
    }
   },
   "source": [
    "### t-tests: calculating the p-value\n",
    "\n",
    "How do we calculate the **p-value**? For comparing two means (as is the case in this example: the mean difference in symptoms between conditions) we can use the **t-test**.\n",
    "\n",
    "The p-value is a conversion of the **t-statistic** calculated for our experiment."
   ]
  },
  {
   "cell_type": "markdown",
   "metadata": {
    "slideshow": {
     "slide_type": "slide"
    }
   },
   "source": [
    "<img src=\"http://sites.nicholas.duke.edu/statsreview/files/2013/09/tstat.jpg\">"
   ]
  },
  {
   "cell_type": "markdown",
   "metadata": {
    "slideshow": {
     "slide_type": "fragment"
    }
   },
   "source": [
    "- The numerator: the difference between **the mean of your sample** and the **hypothesized mean**. Recall that our hypothesized mean is the **null hypothesis H0**"
   ]
  },
  {
   "cell_type": "markdown",
   "metadata": {
    "slideshow": {
     "slide_type": "fragment"
    }
   },
   "source": [
    "- The denominator: **the standard deviation of your sample measurements** divided by the **square root of your sample size**. "
   ]
  },
  {
   "cell_type": "markdown",
   "metadata": {
    "slideshow": {
     "slide_type": "slide"
    }
   },
   "source": [
    "### But what is the t-statistic?\n",
    "<img src=\"http://sites.nicholas.duke.edu/statsreview/files/2013/09/tstat.jpg\">"
   ]
  },
  {
   "cell_type": "markdown",
   "metadata": {
    "slideshow": {
     "slide_type": "fragment"
    }
   },
   "source": [
    "The t-statistic measures the **signal to noise ratio** in our data."
   ]
  },
  {
   "cell_type": "markdown",
   "metadata": {
    "slideshow": {
     "slide_type": "fragment"
    }
   },
   "source": [
    "**The signal is our measured difference.** This is our measured mean minus the hypothesized mean **H0**."
   ]
  },
  {
   "cell_type": "markdown",
   "metadata": {
    "slideshow": {
     "slide_type": "fragment"
    }
   },
   "source": [
    "**The noise** is the **variation in our data**. This is how much our measurements vary (measured by the standard deviation), with a penalty for smaller sample sizes (the square root of the sample size)."
   ]
  },
  {
   "cell_type": "code",
   "execution_count": 12,
   "metadata": {
    "collapsed": false,
    "jupyter": {
     "outputs_hidden": false
    },
    "slideshow": {
     "slide_type": "slide"
    }
   },
   "outputs": [
    {
     "data": {
      "image/png": "[encoded data removed]",
      "text/plain": [
       "<Figure size 648x504 with 1 Axes>"
      ]
     },
     "metadata": {},
     "output_type": "display_data"
    }
   ],
   "source": [
    "control = np.random.normal(5, 5, 50)\n",
    "experimental = np.random.normal(20, 5, 50)\n",
    "\n",
    "ax = sns.distplot(control, bins=10)\n",
    "sns.distplot(experimental, color='darkred', bins=10, ax=ax)\n",
    "\n",
    "plt.show()"
   ]
  },
  {
   "cell_type": "markdown",
   "metadata": {
    "slideshow": {
     "slide_type": "slide"
    }
   },
   "source": [
    "We set the standard deviation to 5. What if it was higher? "
   ]
  },
  {
   "cell_type": "code",
   "execution_count": 13,
   "metadata": {
    "collapsed": false,
    "jupyter": {
     "outputs_hidden": false
    },
    "slideshow": {
     "slide_type": "slide"
    }
   },
   "outputs": [
    {
     "data": {
      "image/png": "[encoded data removed]",
      "text/plain": [
       "<Figure size 648x504 with 1 Axes>"
      ]
     },
     "metadata": {},
     "output_type": "display_data"
    }
   ],
   "source": [
    "control = np.random.normal(5, 15, 50)\n",
    "experimental = np.random.normal(20, 15, 50)\n",
    "\n",
    "ax = sns.distplot(control, bins=10)\n",
    "sns.distplot(experimental, color='darkred', bins=10, ax=ax)\n",
    "\n",
    "plt.show()"
   ]
  },
  {
   "cell_type": "markdown",
   "metadata": {
    "slideshow": {
     "slide_type": "slide"
    }
   },
   "source": [
    "The likelihood of seeing what we see under the null is in part determined by the underlying variation of the data.\n",
    "\n"
   ]
  },
  {
   "cell_type": "markdown",
   "metadata": {
    "slideshow": {
     "slide_type": "slide"
    }
   },
   "source": [
    "Now, let's calculate the test-statistic:\n",
    "\n",
    "$$\\frac{20 - 5}{\\frac{5}{\\sqrt{50}}}$$\n",
    "\n",
    "<img src=\"http://sites.nicholas.duke.edu/statsreview/files/2013/09/tstat.jpg\">"
   ]
  },
  {
   "cell_type": "code",
   "execution_count": 14,
   "metadata": {
    "collapsed": false,
    "jupyter": {
     "outputs_hidden": false
    },
    "slideshow": {
     "slide_type": "slide"
    }
   },
   "outputs": [
    {
     "name": "stdout",
     "output_type": "stream",
     "text": [
      "t-statistic = 21.213 pvalue = 0.0000\n"
     ]
    }
   ],
   "source": [
    "tt = (20 - 5) / (5 / np.sqrt(50))\n",
    "\n",
    "# https://docs.scipy.org/doc/scipy/reference/generated/scipy.stats.t.html#scipy.stats.t\n",
    "# Survival Function (also defined as 1 - cdf, but sf is sometimes more accurate).\n",
    "\n",
    "pval = st.t.sf(np.abs(tt), 50 - 1) * 2  # two-sided pvalue = Prob(abs(t)>tt)\n",
    "\n",
    "print(f't-statistic = {tt:6.3f} pvalue = {pval:6.4f}')"
   ]
  },
  {
   "cell_type": "code",
   "execution_count": null,
   "metadata": {
    "collapsed": true,
    "jupyter": {
     "outputs_hidden": true
    }
   },
   "outputs": [],
   "source": []
  }
 ],
 "metadata": {
  "celltoolbar": "Slideshow",
  "kernelspec": {
   "display_name": "Python 3",
   "language": "python",
   "name": "python3"
  },
  "language_info": {
   "codemirror_mode": {
    "name": "ipython",
    "version": 3
   },
   "file_extension": ".py",
   "mimetype": "text/x-python",
   "name": "python",
   "nbconvert_exporter": "python",
   "pygments_lexer": "ipython3",
   "version": "3.8.5"
  }
 },
 "nbformat": 4,
 "nbformat_minor": 4
}
