{
 "cells": [
  {
   "cell_type": "markdown",
   "metadata": {},
   "source": [
    "<img src=\"http://imgur.com/1ZcRyrc.png\" style=\"float: left; margin: 20px\" width=\"50\" height=\"50\">\n",
    "\n",
    "# Homework 1: Python Coding Exercises\n",
    "\n",
    "#### To Submit:\n",
    "Please fork this repo to your personal page. Solve the exercises in the blank cells provided and push. The graders will use the file diffences to grade."
   ]
  },
  {
   "cell_type": "markdown",
   "metadata": {},
   "source": [
    "The following questions are questions of the type you might see in a technical interview (which you should never encounter, since you will work at BAH forever). I have done my best to order them easiest-to-hardest, but your mileage may vary.\n",
    "\n",
    "Please note that there may be several ways to approach each challenge. Many of these problems can be found online. If you simply copy and paste things you find online, two things will occur:\n",
    "* You will have missed the point! The types of problems here are meant to display you have a firm grasp on the fundamentals of computer programming. Some of these problems are hard. You're meant to struggle!\n",
    "* We will report you for plagiarism. Yes, we can tell when you submit work you did not write. No matter how clever you think you are. We will be forced to give you a make-up (read: harder) Project 1, and you will be off to a bad start in this class. So please don't do this :)"
   ]
  },
  {
   "cell_type": "markdown",
   "metadata": {},
   "source": [
    "## Grading:\n",
    "\n",
    "### Requirements: To get a perfect score, you must do the following:\n",
    "* Get the correct answer.\n",
    "* Adequately comment your code to tell the reader (us) what your code is doing.\n",
    "\n",
    "### Efficiency\n",
    "We will _**not**_ be grading you based on the efficiency of your code. If it works, it works. We will also _**not**_ be grading you based on your code style. However, we will remark on these things in your feedback. So, please try to keep to the best coding practices talked about in class!"
   ]
  },
  {
   "cell_type": "markdown",
   "metadata": {},
   "source": [
    "## Problem 1: FizzBuzz\n",
    "\n",
    "This is by far the most famous (and cliche) interview question.\n",
    "\n",
    "Write a function that loops through the numbers 1 to 100. If the number is divisible by 3, print \"Fizz\". If it's divisible by 5, print \"Buzz\". If it's divisible by _both_ 3 and 5, instead print \"FizzBuzz\". If it's divisible by neither 3 nor 5, simply print the number."
   ]
  },
  {
   "cell_type": "code",
   "execution_count": 16,
   "metadata": {},
   "outputs": [
    {
     "name": "stdout",
     "output_type": "stream",
     "text": [
      "FizzBuzz\n",
      "1\n",
      "2\n",
      "Fizz\n",
      "4\n",
      "Buzz\n",
      "Fizz\n",
      "7\n",
      "8\n",
      "Fizz\n",
      "Buzz\n",
      "11\n",
      "Fizz\n",
      "13\n",
      "14\n",
      "FizzBuzz\n",
      "16\n",
      "17\n",
      "Fizz\n",
      "19\n",
      "Buzz\n",
      "Fizz\n",
      "22\n",
      "23\n",
      "Fizz\n",
      "Buzz\n",
      "26\n",
      "Fizz\n",
      "28\n",
      "29\n",
      "FizzBuzz\n",
      "31\n",
      "32\n",
      "Fizz\n",
      "34\n",
      "Buzz\n",
      "Fizz\n",
      "37\n",
      "38\n",
      "Fizz\n",
      "Buzz\n",
      "41\n",
      "Fizz\n",
      "43\n",
      "44\n",
      "FizzBuzz\n",
      "46\n",
      "47\n",
      "Fizz\n",
      "49\n",
      "Buzz\n",
      "Fizz\n",
      "52\n",
      "53\n",
      "Fizz\n",
      "Buzz\n",
      "56\n",
      "Fizz\n",
      "58\n",
      "59\n",
      "FizzBuzz\n",
      "61\n",
      "62\n",
      "Fizz\n",
      "64\n",
      "Buzz\n",
      "Fizz\n",
      "67\n",
      "68\n",
      "Fizz\n",
      "Buzz\n",
      "71\n",
      "Fizz\n",
      "73\n",
      "74\n",
      "FizzBuzz\n",
      "76\n",
      "77\n",
      "Fizz\n",
      "79\n",
      "Buzz\n",
      "Fizz\n",
      "82\n",
      "83\n",
      "Fizz\n",
      "Buzz\n",
      "86\n",
      "Fizz\n",
      "88\n",
      "89\n",
      "FizzBuzz\n",
      "91\n",
      "92\n",
      "Fizz\n",
      "94\n",
      "Buzz\n",
      "Fizz\n",
      "97\n",
      "98\n",
      "Fizz\n",
      "None\n"
     ]
    }
   ],
   "source": [
    "def fizzbuzz(n):\n",
    "    \n",
    "    #iterates across the given range\n",
    "    for x in range (n):\n",
    "        \n",
    "        #prints \"Fizz\", \"Buzz\", or \"FizzBuzz\" for multiples of three and five; otherwise prints the value\n",
    "        if x % 3 == 0 and x % 5 == 0:\n",
    "            print(\"FizzBuzz\")\n",
    "        elif x % 3 == 0:\n",
    "            print('Fizz')\n",
    "        elif x % 5 == 0:\n",
    "            print('Buzz')\n",
    "        else:\n",
    "            print (x)    \n",
    "\n",
    "print(fizzbuzz(100))"
   ]
  },
  {
   "cell_type": "markdown",
   "metadata": {},
   "source": [
    "## Problem 2: Leet Speak\n",
    "Write a function called `to_leet_speak` that converts any string of characters to \"leet speak.\" \"Leet\" is a made-up internet language in which you replace characters with symbols that look like those characters.\n",
    "\n",
    "Example: `to_leet_speak(\"i am elite\")` --> `\"! @M 31!73\"`\n",
    "\n",
    "The the English-to-leet dictionary is given to you below. You should use this in your soltuion. Your solution should case-insensitive."
   ]
  },
  {
   "cell_type": "code",
   "execution_count": 3,
   "metadata": {},
   "outputs": [],
   "source": [
    "leet_dict = {'A' : '@', 'B' : '8', 'C' : '(', 'D' : 'D', 'E' : '3',\n",
    "             'F' : 'F', 'G' : '6', 'H' : '#', 'I' : '!', 'J' : 'J',\n",
    "             'K' : 'K', 'L' : '1', 'M' : 'M', 'N' : 'N', 'O' : '0',\n",
    "             'P' : 'P', 'Q' : 'Q', 'R' : 'R', 'S' : '$', 'T' : '7',\n",
    "             'U' : 'U', 'V' : 'V', 'W' : 'W', 'X' : 'X', 'Y' : 'Y',\n",
    "             'Z' : '2'}"
   ]
  },
  {
   "cell_type": "code",
   "execution_count": 20,
   "metadata": {},
   "outputs": [
    {
     "name": "stdout",
     "output_type": "stream",
     "text": [
      "YO DAWG I HERD U LIEK DICTIONARIES\n"
     ]
    },
    {
     "data": {
      "text/plain": [
       "'Y0 D@W6 ! #3RD U 1!3K D!(7!0N@R!3$'"
      ]
     },
     "execution_count": 20,
     "metadata": {},
     "output_type": "execute_result"
    }
   ],
   "source": [
    "def to_leet_speak(words):\n",
    "    \n",
    "    #create empty output string and capitalizes input string so that it matches dictionary\n",
    "    leet_words = ''\n",
    "    words = words.upper()\n",
    "\n",
    "    #loops through each character in the input string and replaces it with corresponding dictionary values\n",
    "    for char in words:\n",
    "        leet_words = leet_words + leet_dict.get(char, ' ')\n",
    "    return leet_words\n",
    "\n",
    "to_leet_speak('yo dawg i herd u liek dictionaries')"
   ]
  },
  {
   "cell_type": "markdown",
   "metadata": {},
   "source": [
    "## Problem 3: Catalan Numbers\n",
    "Write a function that returns the $n$th Catalan number. Catalan numbers are defined as follows:\n",
    "\n",
    "$$ C_n = \\prod_{k=2}^n \\frac{n + k}{k} $$\n",
    "\n",
    "Where the big $\\Pi$ stands for \"product\". For example, the fourth Catalan number is calculated like this:\n",
    "\n",
    "$$ C_4 = \\frac{4 + 2}{2} \\cdot \\frac{4 + 3}{3} \\cdot \\frac{4 + 4}{4} = 3\\cdot\\frac{7}{3}\\cdot2 = 14$$"
   ]
  },
  {
   "cell_type": "code",
   "execution_count": 26,
   "metadata": {},
   "outputs": [
    {
     "name": "stdout",
     "output_type": "stream",
     "text": [
      "14.0\n"
     ]
    }
   ],
   "source": [
    "def catalan(n):\n",
    "    catalan_output = 1\n",
    "    \n",
    "    #creates a quotient for each value from 2 to n, then sums all the given quotients\n",
    "    for val in range(2, n + 1):\n",
    "        quotient = (n + val)/val\n",
    "        catalan_output = catalan_output * quotient\n",
    "    return catalan_output\n",
    "\n",
    "print(catalan(4))"
   ]
  },
  {
   "cell_type": "markdown",
   "metadata": {},
   "source": [
    "## 4a: Anti-Vowels\n",
    "Write a function that takes in a string, and returns only the non-vowel characters.\n",
    "\n",
    "Example: `antivowel(\"This is my text message!\")` --> `\"Ths s my txt mssg!\"`"
   ]
  },
  {
   "cell_type": "code",
   "execution_count": 9,
   "metadata": {},
   "outputs": [
    {
     "name": "stdout",
     "output_type": "stream",
     "text": [
      "a\n",
      "e\n",
      "i\n",
      "o\n",
      "u\n",
      "A\n",
      "E\n",
      "I\n",
      "O\n",
      "U\n",
      "Sphnx f Blck Qrtz, jdg my vw\n"
     ]
    }
   ],
   "source": [
    "def antivowel(words):\n",
    "    #define vowels\n",
    "    vowels = 'aeiouAEIOU'\n",
    "    \n",
    "    #look for vowels and eliminate them from the string \n",
    "    for char in vowels:\n",
    "        words = words.replace(char, '')\n",
    "    return words\n",
    "\n",
    "print (antivowel('Sphinx of Black Quartz, judge my vow'))\n",
    "    "
   ]
  },
  {
   "cell_type": "markdown",
   "metadata": {},
   "source": [
    "## 4b: Smart Vowel Remover\n",
    "Write a function that takes in a string, and removes the vowels. If the word is only one vowel long (ie, \"I\" or \"a\"), leave it as is. **You should use your solution to 4a to solve this problem!**\n",
    "\n",
    "Example: `smart_antivowel(\"This is a text message!\")` --> `\"Ths s a txt mssg!\"`\n",
    "\n",
    "Hint: The `.split()` method on strings might be useful here."
   ]
  },
  {
   "cell_type": "code",
   "execution_count": 11,
   "metadata": {},
   "outputs": [
    {
     "name": "stdout",
     "output_type": "stream",
     "text": [
      " O lk, I s a hvrcrft\n"
     ]
    }
   ],
   "source": [
    "def smart_antivowel(phrase):\n",
    "    \n",
    "    #define vowels, split phrase into its constituent words, and create placeholder output string\n",
    "    vowels = 'aeiouAEIOU'\n",
    "    word_list = phrase.split(' ')\n",
    "    antivowel_str = ''\n",
    "    \n",
    "    #for each word in the word list that is not a single vowel, iterate through the characters in the word and remove all vowels\n",
    "    for word in word_list:\n",
    "        if word not in vowels:\n",
    "            for char in vowels:\n",
    "                word = word.replace(char, '')\n",
    "        #add devowelized words (and single-vowel words) to output string\n",
    "        antivowel_str += ' ' + word\n",
    "    return antivowel_str\n",
    "\n",
    "print(smart_antivowel(\"O look, I see a hovercraft\"))"
   ]
  },
  {
   "cell_type": "markdown",
   "metadata": {},
   "source": [
    "## 5a: Prime Numbers\n",
    "Write a function that determines whether or not a number is prime. A number is prime if it is _only_ divisible by 1 and itself.\n",
    "\n",
    "Examples:\n",
    "\n",
    "`is_prime(4) --> False` (since $2\\times2 = 4$)\n",
    "\n",
    "`is_prime(5) --> True` (since the only divisors of 5 are 1 and 5)"
   ]
  },
  {
   "cell_type": "code",
   "execution_count": 3,
   "metadata": {},
   "outputs": [
    {
     "name": "stdout",
     "output_type": "stream",
     "text": [
      "True\n"
     ]
    }
   ],
   "source": [
    "def is_prime(n):\n",
    "    #assume number is prime until proven otherwise\n",
    "    output = True\n",
    "    \n",
    "    #iterate through all possible multiples, check if they divide evenly into the given number\n",
    "    for i in range(2, n):\n",
    "        if n % i == 0:\n",
    "            #if an even multiple is found, the number is not prime. Exit the loop.\n",
    "            output = False\n",
    "            break\n",
    "    return output\n",
    "\n",
    "print(is_prime(13))"
   ]
  },
  {
   "cell_type": "markdown",
   "metadata": {},
   "source": [
    "## 5b: Sum of Primes\n",
    "Given a number `n`, find the sum of all prime numbers less than or equal to that number. **You should use your solution to 5a to solve this problem.**\n",
    "\n",
    "Example:\n",
    "\n",
    "`sum_of_primes(17) --> 2 + 3 + 5 + 7 + 11 + 13 + 17 --> 58`"
   ]
  },
  {
   "cell_type": "code",
   "execution_count": 10,
   "metadata": {},
   "outputs": [
    {
     "name": "stdout",
     "output_type": "stream",
     "text": [
      "58\n"
     ]
    }
   ],
   "source": [
    "def sum_of_primes(n):\n",
    "    output = 0\n",
    "\n",
    "    #check each value between 2 and the given number for prime-ness, then add prime values to the output sum.\n",
    "    for i in range(2, n+1):\n",
    "        if is_prime(i):\n",
    "            output += i\n",
    "    return output\n",
    "print(sum_of_primes(17))"
   ]
  },
  {
   "cell_type": "markdown",
   "metadata": {},
   "source": [
    "## Bonus: String Compressor\n",
    "Here's a problem that has given a lot of prior students a lot of trouble!\n",
    "\n",
    "Implement a method to perform basic string compression using the counts of repeated characters. (This is called run-length encoding.) For example, the string \"aabcccccaaa\" would become a2b1c5a3. If the “compressed” string would not become smaller than the original string, your method should return the original string. You can assume the string has only uppercase and lowercase letters (a–z). Specify whether your solution is case sensitive or case insensitive and what you would need to change to make it the other."
   ]
  },
  {
   "cell_type": "code",
   "execution_count": 13,
   "metadata": {},
   "outputs": [
    {
     "name": "stdout",
     "output_type": "stream",
     "text": [
      "a2b1c5a3\n"
     ]
    }
   ],
   "source": [
    "def compressor(words):\n",
    "\n",
    "    #create placeholder variables to hold the last character checked, the count of each character, and the output string\n",
    "    last_char = ''\n",
    "    char_count = 1\n",
    "    compressed = ''\n",
    "\n",
    "    #iterate through each character in the string\n",
    "    for char in words:\n",
    "        #if character is a repeat, increase char_count\n",
    "        if last_char == char:\n",
    "            char_count += 1\n",
    "        #if last_char is empty (i.e. at beginning of string), make last_char equal to current char (the first character in the string)\n",
    "        elif last_char == '':\n",
    "            last_char = char            \n",
    "        #if character is not a repeat, add the last character to the string with its count. Then reset char_count and make last_char equal to the current char.\n",
    "        else:\n",
    "            compressed += last_char + str(char_count)\n",
    "            char_count = 1\n",
    "            last_char = char\n",
    "    #add the final character with its repetition count.\n",
    "    compressed += last_char + str(char_count)\n",
    "    return compressed\n",
    "\n",
    "print(compressor('aabcccccaaa'))"
   ]
  },
  {
   "cell_type": "code",
   "execution_count": null,
   "metadata": {},
   "outputs": [],
   "source": []
  }
 ],
 "metadata": {
  "kernelspec": {
   "display_name": "Python 3",
   "language": "python",
   "name": "python3"
  },
  "language_info": {
   "codemirror_mode": {
    "name": "ipython",
    "version": 3
   },
   "file_extension": ".py",
   "mimetype": "text/x-python",
   "name": "python",
   "nbconvert_exporter": "python",
   "pygments_lexer": "ipython3",
   "version": "3.8.5"
  }
 },
 "nbformat": 4,
 "nbformat_minor": 4
}
