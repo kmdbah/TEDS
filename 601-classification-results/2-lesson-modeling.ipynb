{
 "cells": [
  {
   "cell_type": "markdown",
   "metadata": {},
   "source": [
    "<img src=\"http://imgur.com/1ZcRyrc.png\" style=\"float: left; margin: 20px; height: 55px\">\n",
    "\n",
    "#  Classification Metics & Class Imbalance 2: Modeling\n",
    "\n",
    "_Author_: Dan Wilhelm (LA)\n",
    "    \n",
    "---"
   ]
  },
  {
   "cell_type": "markdown",
   "metadata": {},
   "source": [
    "Today we'll cover techniques for:\n",
    "\n",
    "- Organizing larger projects.\n",
    "- Handling class imbalance.\n",
    "- Optimizing models for precision/recall rather than accuracy.\n",
    "\n",
    "Because this is a larger project than usual, there is no solution notebook. All code is contained inside the lesson notebooks."
   ]
  },
  {
   "cell_type": "markdown",
   "metadata": {},
   "source": [
    "# Lesson Outline (Continued)\n",
    "\n",
    "1. [Loading Results from Another Notebook](#load)\n",
    "2. [Baseline Models](#models)\n",
    "    - [Dummy Classifier](#dummy)\n",
    "    - [Logistic Regression](#logistic)\n",
    "    - [Random Forests](#rfs)\n",
    "    - [Nearest Neighbors](#nn)\n",
    "3. [Class Imbalance Techniques](#imbalance)\n",
    "    - [Undersample More Frequent Class](#undersample)\n",
    "    - [Oversample Less Frequent Class](#oversample)\n",
    "    - [SMOTE (Synthetic Minority Over-sampling Technique)](#smote)\n",
    "    - [Weight each class in the models](#weight)\n",
    "    - [Adjust the class cutoff threshold (ROC)](#roc)\n",
    "4. [Next Steps](#next)"
   ]
  },
  {
   "cell_type": "code",
   "execution_count": 20,
   "metadata": {},
   "outputs": [],
   "source": [
    "import pandas as pd\n",
    "import numpy as np\n",
    "\n",
    "from sklearn.metrics import confusion_matrix, classification_report\n",
    "from sklearn.metrics import accuracy_score, recall_score, precision_score, f1_score\n",
    "from sklearn.model_selection import cross_validate, KFold\n",
    "from sklearn.linear_model import LogisticRegression\n",
    "\n",
    "import matplotlib.pyplot as plt\n",
    "%matplotlib inline\n",
    "\n",
    "\n",
    "# CONSTANTS\n",
    "\n",
    "# We might normally store this in a shared external Python file\n",
    "INPUT_PICKLE_FILE = 'adult_data-vec.pickle'"
   ]
  },
  {
   "cell_type": "markdown",
   "metadata": {},
   "source": [
    "--- \n",
    "<a id=\"load\"></a>\n",
    "\n",
    "# Loading Results from Another Notebook\n",
    "\n",
    "Let's use `pickle` again to load our last results from disk."
   ]
  },
  {
   "cell_type": "code",
   "execution_count": 21,
   "metadata": {},
   "outputs": [
    {
     "data": {
      "text/plain": [
       "0        <=50K\n",
       "1        <=50K\n",
       "2         >50K\n",
       "3         >50K\n",
       "5        <=50K\n",
       "         ...  \n",
       "16275    <=50K\n",
       "16276    <=50K\n",
       "16278    <=50K\n",
       "16279    <=50K\n",
       "16280     >50K\n",
       "Name: income, Length: 15060, dtype: object"
      ]
     },
     "execution_count": 21,
     "metadata": {},
     "output_type": "execute_result"
    }
   ],
   "source": [
    "pd.read_pickle('y_test.pkl')"
   ]
  },
  {
   "cell_type": "code",
   "execution_count": 22,
   "metadata": {},
   "outputs": [],
   "source": [
    "import pickle\n",
    "\n",
    "# We might normally store this in a shared external Python file\n",
    "def load_adult_pickle(filename, verbose=False):\n",
    "    \"\"\" Load train/test data from pickled file. \"\"\"\n",
    "    if verbose:\n",
    "        print(f'Loading from \"{filename}\" ...')\n",
    "\n",
    "    # 'rb' - Read + Binary File\n",
    "    with open(filename, 'rb') as f:\n",
    "        data = pickle.load(f)\n",
    "    \n",
    "    if verbose:\n",
    "        print(f'\\tImported vectorized training data from \"{data[\"train_file\"]}\".')\n",
    "        print(f'\\tImported vectorized test data from \"{data[\"test_file\"]}\".\\n')\n",
    "\n",
    "        print(f'Data keys: {list(data.keys())}\\n')\n",
    "    \n",
    "    return data['X_train_df'], data['y_train'], data['X_test_df'], data['y_test']"
   ]
  },
  {
   "cell_type": "code",
   "execution_count": 23,
   "metadata": {},
   "outputs": [
    {
     "name": "stdout",
     "output_type": "stream",
     "text": [
      "Loading from \"adult_data-vec.pickle\" ...\n",
      "\tImported vectorized training data from \"./data/adult.data\".\n",
      "\tImported vectorized test data from \"./data/adult.test\".\n",
      "\n",
      "Data keys: ['train_file', 'test_file', 'encoders', 'X_train_df', 'y_train', 'X_test_df', 'y_test']\n",
      "\n",
      "Train: (30162, 104), (30162,)\n",
      "Test: (15060, 104), (15060,)\n"
     ]
    }
   ],
   "source": [
    "X_train_df, y_train, X_test_df, y_test = \\\n",
    "    load_adult_pickle(INPUT_PICKLE_FILE, verbose=True)\n",
    "\n",
    "print(f'Train: {X_train_df.shape}, {y_train.shape}')\n",
    "print(f'Test: {X_test_df.shape}, {y_test.shape}')"
   ]
  },
  {
   "cell_type": "markdown",
   "metadata": {},
   "source": [
    "---\n",
    "\n",
    "<a id=\"models\"></a>\n",
    "# Baseline Models\n",
    "Never just give a single accuracy or error value! Always compare your model's with other models, including a baseline.\n",
    "\n",
    "The baseline model is typically the simplest model -- i.e. always predict the most common class.\n",
    "\n",
    "\n",
    "<a id=\"dummy\"></a>\n",
    "# Baseline 1: Null Model"
   ]
  },
  {
   "cell_type": "code",
   "execution_count": 24,
   "metadata": {},
   "outputs": [
    {
     "name": "stdout",
     "output_type": "stream",
     "text": [
      "\n",
      "y_train Class Distribution: \n",
      " <=50K    0.751078\n",
      ">50K     0.248922\n",
      "Name: income, dtype: float64\n",
      "\n",
      "y_test Class Distribution: \n",
      " <=50K    0.754316\n",
      ">50K     0.245684\n",
      "Name: income, dtype: float64\n"
     ]
    }
   ],
   "source": [
    "print('\\ny_train Class Distribution: \\n', y_train.value_counts(normalize=True))\n",
    "\n",
    "print('\\ny_test Class Distribution: \\n', y_test.value_counts(normalize=True))"
   ]
  },
  {
   "cell_type": "markdown",
   "metadata": {},
   "source": [
    "This indicates our test set has about the same distribution of target classes.\n",
    "\n",
    "So, the null model should perform approximately the same on both since it just predicts `<=50K` each time."
   ]
  },
  {
   "cell_type": "code",
   "execution_count": 25,
   "metadata": {},
   "outputs": [
    {
     "name": "stdout",
     "output_type": "stream",
     "text": [
      "Train Accuracy:  0.7510775147536636\n",
      "Test Accuracy:  0.7543160690571049\n"
     ]
    }
   ],
   "source": [
    "from sklearn.dummy import DummyClassifier\n",
    "\n",
    "dc = DummyClassifier(strategy='most_frequent')\n",
    "dc.fit(X_train_df, y_train)\n",
    "\n",
    "y_pred_train = dc.predict(X_train_df)\n",
    "y_pred_test = dc.predict(X_test_df)\n",
    "\n",
    "print('Train Accuracy: ', accuracy_score(y_train, y_pred_train))\n",
    "print('Test Accuracy: ', accuracy_score(y_test, y_pred_test))"
   ]
  },
  {
   "cell_type": "markdown",
   "metadata": {},
   "source": [
    "<a id=\"logistic\"></a>\n",
    "# Model: Logistic Regression\n",
    "\n",
    "This model typically doesn't have as high accuracy as others, but it is great for its interpretability."
   ]
  },
  {
   "cell_type": "code",
   "execution_count": 26,
   "metadata": {},
   "outputs": [
    {
     "name": "stdout",
     "output_type": "stream",
     "text": [
      "Train Accuracy:  0.7902990517870168\n",
      "Test Accuracy:  0.7926958831341302\n"
     ]
    }
   ],
   "source": [
    "lr = LogisticRegression(solver='lbfgs')\n",
    "lr.fit(X_train_df, y_train)\n",
    "\n",
    "y_pred_train = lr.predict(X_train_df)\n",
    "y_pred_test = lr.predict(X_test_df)\n",
    "\n",
    "print('Train Accuracy: ', accuracy_score(y_train, y_pred_train))\n",
    "print('Test Accuracy: ', accuracy_score(y_test, y_pred_test))"
   ]
  },
  {
   "cell_type": "markdown",
   "metadata": {},
   "source": [
    "<details><summary>Q: How does this compare to the dummy classifier?</summary>\n",
    "The accuracy is only slightly higher than baseline. :(\n",
    "</details>\n",
    "\n",
    "Did we fare better with our precision and recall?"
   ]
  },
  {
   "cell_type": "code",
   "execution_count": 27,
   "metadata": {},
   "outputs": [
    {
     "name": "stdout",
     "output_type": "stream",
     "text": [
      "Order of classes:  ['<=50K' '>50K']\n",
      "\n",
      "Test Confusion Matrix: \n",
      "               predicted <=50K  predicted >50K\n",
      "actual <=50K            10946             414\n",
      "actual >50K              2708             992\n"
     ]
    }
   ],
   "source": [
    "# Confusion matrix\n",
    "\n",
    "print('Order of classes: ', lr.classes_)\n",
    "\n",
    "confusion_df = pd.DataFrame(\n",
    "                    data=confusion_matrix(y_test, y_pred_test),\n",
    "                    index=[f'actual {target_class}' for target_class in lr.classes_],\n",
    "                    columns=[f'predicted {target_class}' for target_class in lr.classes_])\n",
    "\n",
    "print('\\nTest Confusion Matrix: \\n', confusion_df)"
   ]
  },
  {
   "cell_type": "markdown",
   "metadata": {},
   "source": [
    "So, we see that our initial model makes few false positives and many false negatives.\n",
    "\n",
    "From this table, we can also derive the classification report."
   ]
  },
  {
   "cell_type": "code",
   "execution_count": 28,
   "metadata": {},
   "outputs": [
    {
     "name": "stdout",
     "output_type": "stream",
     "text": [
      "              precision    recall  f1-score   support\n",
      "\n",
      "       <=50K       0.80      0.96      0.88     11360\n",
      "        >50K       0.71      0.27      0.39      3700\n",
      "\n",
      "    accuracy                           0.79     15060\n",
      "   macro avg       0.75      0.62      0.63     15060\n",
      "weighted avg       0.78      0.79      0.76     15060\n",
      "\n"
     ]
    }
   ],
   "source": [
    "print(classification_report(y_test, y_pred_test))"
   ]
  },
  {
   "cell_type": "markdown",
   "metadata": {},
   "source": [
    "Let's interpret the precision and recall:\n",
    "+ **Recall of `>50K` - 27%**: We only identified 27% of the actual >50K customers! We earlier said this outcome was not preferred.\n",
    "+ **Precision of `>50K` - 71%**: When we predicted >50K, we got it right 71% of the time. So, 29% of the marketing materials were sent to <=50K. We earlier said this was acceptable, since perhaps they were close to >50K.\n",
    "\n",
    "Other than that, here are the other terms for the precision column:\n",
    "+ **Macro avg**: The average of the two precisions.\n",
    "+ **Weighted avg**: The average of the two precisions, with each weighted by its proportion of samples."
   ]
  },
  {
   "cell_type": "markdown",
   "metadata": {},
   "source": [
    "<a id=\"rfs\"></a>\n",
    "# Baseline 2: Random Forests\n",
    "\n",
    "Another good starting baseline model for comparison. It typically overfits but performs well with few tweaks.\n",
    "\n",
    "First, let's take the lengthy analysis above and condense it into a function so we can apply the same to new models:"
   ]
  },
  {
   "cell_type": "code",
   "execution_count": 29,
   "metadata": {},
   "outputs": [],
   "source": [
    "def run_baseline(mdl, \n",
    "                 X_train_df, y_train, X_test_df, y_test,\n",
    "                 cv=False, cvmean=True, verbose=True):\n",
    "    \"\"\"Return a dict of model performance indicators.\"\"\"\n",
    "    \n",
    "    results = {}\n",
    "    \n",
    "    if cv:\n",
    "        # This option is intended to compare with the train-test-split results on test set\n",
    "        # 1. CV creates its own train/test, so recombine the data (if desired on entire dataset)\n",
    "        #X = pd.concat((X_train_df, X_test_df))\n",
    "        #y = pd.concat((y_train, y_test)).replace({'>50K': 1, '<=50K': 0})\n",
    "        X = X_train_df\n",
    "        y = y_train.replace({'>50K': 1, '<=50K': 0})\n",
    "\n",
    "        # 2. Cross-validate\n",
    "        score_types = ('accuracy', 'recall', 'precision', 'f1')\n",
    "        cv_results = cross_validate(mdl, X, y, \n",
    "                           scoring=score_types, return_train_score=True,\n",
    "                           cv=KFold(4, shuffle=True))\n",
    "        \n",
    "        # Create results with same names as below\n",
    "        score = 'train_accuracy'\n",
    "        results[score] = cv_results[score].mean() if cvmean else cv_results[score]\n",
    "        for score in score_types:\n",
    "            score = f'test_{score}'\n",
    "            results[score] = cv_results[score].mean() if cvmean else cv_results[score]\n",
    "        \n",
    "    else:\n",
    "        # 1. Fit the model on the training set\n",
    "        mdl.fit(X_train_df, y_train)\n",
    "\n",
    "        # 2. Predict on the training and test sets\n",
    "        y_pred_train = mdl.predict(X_train_df)\n",
    "        y_pred_test = mdl.predict(X_test_df)\n",
    "\n",
    "        # 3. Train & test accuracy\n",
    "        results['train_accuracy'] = accuracy_score(y_train, y_pred_train)\n",
    "        results['test_accuracy'] = accuracy_score(y_test, y_pred_test)\n",
    "\n",
    "        if verbose:\n",
    "            print('Train Accuracy: ', results['train_accuracy'])\n",
    "            print('Test Accuracy: ', results['test_accuracy'])\n",
    "            print('\\nOrder of classes: ', lr.classes_)\n",
    "\n",
    "\n",
    "        # 4. Test confusion matrix\n",
    "        confusion_df = pd.DataFrame(\\\n",
    "                            data=confusion_matrix(y_test, y_pred_test),\n",
    "                            index=[f'actual {target_class}' for target_class in lr.classes_],\n",
    "                            columns=[f'predicted {target_class}' for target_class in lr.classes_])\n",
    "\n",
    "        if verbose:\n",
    "            print('\\nTest Confusion Matrix: \\n', confusion_df)\n",
    "            print(classification_report(y_test, y_pred_test))\n",
    "\n",
    "        # 5. Test recall and precision (if no samples, set recall/precision to 0)\n",
    "        results['test_recall'] = recall_score(y_test, y_pred_test, \n",
    "                                              pos_label='>50K', zero_division=0)\n",
    "        results['test_precision'] = precision_score(y_test, y_pred_test, \n",
    "                                                    pos_label='>50K', zero_division=0)\n",
    "        results['test_f1'] = f1_score(y_test, y_pred_test, \n",
    "                                      pos_label='>50K', zero_division=0)\n",
    "    return results"
   ]
  },
  {
   "cell_type": "code",
   "execution_count": 30,
   "metadata": {},
   "outputs": [
    {
     "name": "stdout",
     "output_type": "stream",
     "text": [
      "Train Accuracy:  0.9999336913997745\n",
      "Test Accuracy:  0.8459495351925631\n",
      "\n",
      "Order of classes:  ['<=50K' '>50K']\n",
      "\n",
      "Test Confusion Matrix: \n",
      "               predicted <=50K  predicted >50K\n",
      "actual <=50K            10455             905\n",
      "actual >50K              1415            2285\n",
      "              precision    recall  f1-score   support\n",
      "\n",
      "       <=50K       0.88      0.92      0.90     11360\n",
      "        >50K       0.72      0.62      0.66      3700\n",
      "\n",
      "    accuracy                           0.85     15060\n",
      "   macro avg       0.80      0.77      0.78     15060\n",
      "weighted avg       0.84      0.85      0.84     15060\n",
      "\n"
     ]
    },
    {
     "data": {
      "text/plain": [
       "{'train_accuracy': 0.9999336913997745,\n",
       " 'test_accuracy': 0.8459495351925631,\n",
       " 'test_recall': 0.6175675675675676,\n",
       " 'test_precision': 0.7163009404388715,\n",
       " 'test_f1': 0.6632801161103049}"
      ]
     },
     "execution_count": 30,
     "metadata": {},
     "output_type": "execute_result"
    }
   ],
   "source": [
    "from sklearn.ensemble import RandomForestClassifier\n",
    "\n",
    "rfc = RandomForestClassifier(n_estimators=100)\n",
    "\n",
    "# Consistent accuracy scores with `adult.names`!\n",
    "#   -- C4.5       : 84.46+-0.30   -- ours (below) is ~84.55%\n",
    "run_baseline(rfc, X_train_df, y_train, X_test_df, y_test)"
   ]
  },
  {
   "cell_type": "markdown",
   "metadata": {},
   "source": [
    "<details><summary>Q: Did the model overfit? Can you explain its precision and recall values?</summary>\n",
    "Clearly, overfitting occurred since the training accuracy is nearly 1, yet the test accuracy is only 85%. The recall is 0.62 - double that of logistic regression! So, we now identify 62% of all >50K people correctly. Luckily, the precision did not decrease much at all.\n",
    "</details>\n",
    "\n",
    "\n",
    "With random forests, to reduce overfitting we can:\n",
    "\n",
    "+ Produce shallower trees.\n",
    "+ Prune the trees more.\n",
    "+ Use regularization.\n",
    "+ Use a tree method that optimizes for things other than accuracy.\n",
    "\n",
    "We can also tweak its recall vs precision by using some of the imbalance techniques below."
   ]
  },
  {
   "cell_type": "markdown",
   "metadata": {},
   "source": [
    "<a id=\"nn\"></a>\n",
    "# Baseline 3: Nearest Neighbor\n",
    "\n",
    "Nearest neighbor may not perform as well as other models, but it is often used as a baseline for comparing models since it works in a straightforward way. Note that NN has poor interpretability, unless the objective is directly comparing distances between the datapoints!\n"
   ]
  },
  {
   "cell_type": "code",
   "execution_count": 31,
   "metadata": {},
   "outputs": [
    {
     "name": "stdout",
     "output_type": "stream",
     "text": [
      "Train Accuracy:  0.8309462237252172\n",
      "Test Accuracy:  0.7691235059760956\n",
      "\n",
      "Order of classes:  ['<=50K' '>50K']\n",
      "\n",
      "Test Confusion Matrix: \n",
      "               predicted <=50K  predicted >50K\n",
      "actual <=50K            10379             981\n",
      "actual >50K              2496            1204\n",
      "              precision    recall  f1-score   support\n",
      "\n",
      "       <=50K       0.81      0.91      0.86     11360\n",
      "        >50K       0.55      0.33      0.41      3700\n",
      "\n",
      "    accuracy                           0.77     15060\n",
      "   macro avg       0.68      0.62      0.63     15060\n",
      "weighted avg       0.74      0.77      0.75     15060\n",
      "\n"
     ]
    },
    {
     "data": {
      "text/plain": [
       "{'train_accuracy': 0.8309462237252172,\n",
       " 'test_accuracy': 0.7691235059760956,\n",
       " 'test_recall': 0.3254054054054054,\n",
       " 'test_precision': 0.5510297482837528,\n",
       " 'test_f1': 0.40917587085811385}"
      ]
     },
     "execution_count": 31,
     "metadata": {},
     "output_type": "execute_result"
    }
   ],
   "source": [
    "from sklearn.neighbors import KNeighborsClassifier\n",
    "\n",
    "knn = KNeighborsClassifier(n_neighbors=5)\n",
    "\n",
    "run_baseline(knn, X_train_df, y_train, X_test_df, y_test)"
   ]
  },
  {
   "cell_type": "markdown",
   "metadata": {},
   "source": [
    "<details><summary>Q: How did this perform? Better or worse than random forests?</summary>\n",
    "Significantly worse on all metrics!</details>\n",
    "\n",
    "Of course, we could tweak this model by adjusting `k` and observing the \"elbow curve\". However, it's unlikely to outperform random forests. "
   ]
  },
  {
   "cell_type": "markdown",
   "metadata": {},
   "source": [
    "---\n",
    "\n",
    "Let's summarize so far:\n",
    "\n",
    "| Syntax         | Accuracy    | Recall >50k | Precision >50k   | Notes              |\n",
    "| -----------    | ----------- | ----------- | -----------      |  -----------       |\n",
    "| Requirements:  | High        | Preferred   | Not as important |                    |\n",
    "| Null           | 75%         | 0%*         | 0%*              | * never guesses >50 |\n",
    "| KNN            | 77%         | 33%         | 55%              |                    |\n",
    "| Logistic Regr  | 79%         | 27%         | 71%              |                    |\n",
    "| Random Forests | 85%         | 62%         | 72%              |                    |"
   ]
  },
  {
   "cell_type": "markdown",
   "metadata": {},
   "source": [
    "---\n",
    "We will be tweaking things that affect all models.\n",
    "\n",
    "So, let's write a function that generates this chart automatedly!"
   ]
  },
  {
   "cell_type": "code",
   "execution_count": 32,
   "metadata": {},
   "outputs": [],
   "source": [
    "def test_models(models, X_train_df, y_train, X_test_df, y_test,\n",
    "                subset=[], cv=False, cvmean=True, verbose=False):\n",
    "    \"\"\"Returns DataFrame of baseline results \n",
    "       given a dict `models` of names/sklearn models.\"\"\"\n",
    "    results = {}\n",
    "    \n",
    "    # Fit each model and store how it performs on the test set\n",
    "    for name,model in models.items():\n",
    "        if not subset or name in subset:\n",
    "            if verbose:\n",
    "                print('\\nRunning {} - {}'.format(name, model))\n",
    "\n",
    "            results[name] = run_baseline(model, \n",
    "                                         X_train_df, y_train, \n",
    "                                         X_test_df, y_test,\n",
    "                                         cv=cv, cvmean=cvmean,\n",
    "                                         verbose=False)\n",
    "            if verbose:\n",
    "                print('Results: ', results[name])\n",
    "\n",
    "    return pd.DataFrame.from_dict(results, orient='index').sort_index()"
   ]
  },
  {
   "cell_type": "code",
   "execution_count": 33,
   "metadata": {},
   "outputs": [
    {
     "name": "stdout",
     "output_type": "stream",
     "text": [
      "\n",
      "Running Most Frequent - DummyClassifier(strategy='most_frequent')\n",
      "Results:  {'train_accuracy': 0.7510775224486433, 'test_accuracy': 0.7510775840084812, 'test_recall': 0.0, 'test_precision': 0.0, 'test_f1': 0.0}\n",
      "\n",
      "Running Nearest Neighbors - KNeighborsClassifier()\n"
     ]
    },
    {
     "name": "stderr",
     "output_type": "stream",
     "text": [
      "C:\\Users\\614318\\Anaconda3\\lib\\site-packages\\sklearn\\metrics\\_classification.py:1221: UndefinedMetricWarning: Precision is ill-defined and being set to 0.0 due to no predicted samples. Use `zero_division` parameter to control this behavior.\n",
      "  _warn_prf(average, modifier, msg_start, len(result))\n"
     ]
    },
    {
     "name": "stdout",
     "output_type": "stream",
     "text": [
      "Results:  {'train_accuracy': 0.8274981971920309, 'test_accuracy': 0.7652014258393638, 'test_recall': 0.31752695200792724, 'test_precision': 0.549199483035557, 'test_f1': 0.40233090878393074}\n",
      "\n",
      "Running Random Forest - RandomForestClassifier()\n",
      "Results:  {'train_accuracy': 0.9999226402106343, 'test_accuracy': 0.8495126728965651, 'test_recall': 0.626269142786978, 'test_precision': 0.7309222269546944, 'test_f1': 0.674475192823835}\n",
      "\n",
      "Running Logistic Regression - LogisticRegression(max_iter=10000)\n",
      "Results:  {'train_accuracy': 0.7906416339058178, 'test_accuracy': 0.7908957777060996, 'test_recall': 0.26657268983416005, 'test_precision': 0.7147317307268334, 'test_f1': 0.3881699515052606}\n"
     ]
    },
    {
     "data": {
      "text/html": [
       "<div>\n",
       "<style scoped>\n",
       "    .dataframe tbody tr th:only-of-type {\n",
       "        vertical-align: middle;\n",
       "    }\n",
       "\n",
       "    .dataframe tbody tr th {\n",
       "        vertical-align: top;\n",
       "    }\n",
       "\n",
       "    .dataframe thead th {\n",
       "        text-align: right;\n",
       "    }\n",
       "</style>\n",
       "<table border=\"1\" class=\"dataframe\">\n",
       "  <thead>\n",
       "    <tr style=\"text-align: right;\">\n",
       "      <th></th>\n",
       "      <th>train_accuracy</th>\n",
       "      <th>test_accuracy</th>\n",
       "      <th>test_recall</th>\n",
       "      <th>test_precision</th>\n",
       "      <th>test_f1</th>\n",
       "    </tr>\n",
       "  </thead>\n",
       "  <tbody>\n",
       "    <tr>\n",
       "      <th>Logistic Regression</th>\n",
       "      <td>0.790642</td>\n",
       "      <td>0.790896</td>\n",
       "      <td>0.266573</td>\n",
       "      <td>0.714732</td>\n",
       "      <td>0.388170</td>\n",
       "    </tr>\n",
       "    <tr>\n",
       "      <th>Most Frequent</th>\n",
       "      <td>0.751078</td>\n",
       "      <td>0.751078</td>\n",
       "      <td>0.000000</td>\n",
       "      <td>0.000000</td>\n",
       "      <td>0.000000</td>\n",
       "    </tr>\n",
       "    <tr>\n",
       "      <th>Nearest Neighbors</th>\n",
       "      <td>0.827498</td>\n",
       "      <td>0.765201</td>\n",
       "      <td>0.317527</td>\n",
       "      <td>0.549199</td>\n",
       "      <td>0.402331</td>\n",
       "    </tr>\n",
       "    <tr>\n",
       "      <th>Random Forest</th>\n",
       "      <td>0.999923</td>\n",
       "      <td>0.849513</td>\n",
       "      <td>0.626269</td>\n",
       "      <td>0.730922</td>\n",
       "      <td>0.674475</td>\n",
       "    </tr>\n",
       "  </tbody>\n",
       "</table>\n",
       "</div>"
      ],
      "text/plain": [
       "                     train_accuracy  test_accuracy  test_recall  \\\n",
       "Logistic Regression        0.790642       0.790896     0.266573   \n",
       "Most Frequent              0.751078       0.751078     0.000000   \n",
       "Nearest Neighbors          0.827498       0.765201     0.317527   \n",
       "Random Forest              0.999923       0.849513     0.626269   \n",
       "\n",
       "                     test_precision   test_f1  \n",
       "Logistic Regression        0.714732  0.388170  \n",
       "Most Frequent              0.000000  0.000000  \n",
       "Nearest Neighbors          0.549199  0.402331  \n",
       "Random Forest              0.730922  0.674475  "
      ]
     },
     "execution_count": 33,
     "metadata": {},
     "output_type": "execute_result"
    }
   ],
   "source": [
    "# Let's try to duplicate the earlier chart we manually compiled!\n",
    "# Ignore the warning --\n",
    "#    the DummyClassifier doesn't have a precision score since one class is never predicted.\n",
    "\n",
    "models = {'Most Frequent': DummyClassifier(strategy='most_frequent'),\n",
    "          'Nearest Neighbors': KNeighborsClassifier(n_neighbors=5),\n",
    "          'Random Forest': RandomForestClassifier(n_estimators=100),\n",
    "          'Logistic Regression': LogisticRegression(solver='lbfgs', max_iter=10000)}\n",
    "\n",
    "model_results = test_models(models, \n",
    "                            X_train_df, y_train, \n",
    "                            X_test_df, y_test,\n",
    "                            cv=True, verbose=True)\n",
    "\n",
    "model_results"
   ]
  },
  {
   "cell_type": "markdown",
   "metadata": {},
   "source": [
    "So far, this looks good. However, while the accuracy is high, our recall is still low.\n",
    "\n",
    "Out of all >50K households, we only correctly identify 61%!\n",
    "\n",
    "Let's try to improve the recall."
   ]
  },
  {
   "cell_type": "markdown",
   "metadata": {},
   "source": [
    "---\n",
    "<a id=\"imbalance\"></a>\n",
    "# Class Imbalance Techniques\n",
    "\n",
    "Our goal is to improve the recall on our test set without impacting precision much.\n",
    "\n",
    "<a id=\"undersample\"></a>\n",
    "# Imbalance Technique 1: Undersample More Frequent Class"
   ]
  },
  {
   "cell_type": "markdown",
   "metadata": {},
   "source": [
    "For resampling our training set, we will use the library `imbalanced-learn`.\n",
    "\n",
    "See: https://imbalanced-learn.org/stable/user_guide.html\n",
    "\n",
    "Install it using: `conda install -c conda-forge imbalanced-learn`"
   ]
  },
  {
   "cell_type": "code",
   "execution_count": 34,
   "metadata": {},
   "outputs": [],
   "source": [
    "from imblearn.under_sampling import NearMiss, RandomUnderSampler\n",
    "from imblearn.over_sampling import SMOTE, RandomOverSampler\n",
    "from collections import Counter"
   ]
  },
  {
   "cell_type": "code",
   "execution_count": 35,
   "metadata": {},
   "outputs": [],
   "source": [
    "def print_sampling_stats(X_train_df, X_train_sampled,\n",
    "                         y_train, y_train_sampled,\n",
    "                         y_test):\n",
    "    \n",
    "    print('Original dataset classes: {}'.format(Counter(y_train)))\n",
    "    print('Resampled dataset classes: {}'.format(Counter(y_train_sampled)))\n",
    "    print()\n",
    "    print('Test dataset classes still the same to model real world: {}'.format(Counter(y_test)))\n",
    "\n",
    "    print()\n",
    "    print('X_train shape (under/reg): ', X_train_sampled.shape, X_train_df.shape)\n",
    "    print('y_train shape (under/reg): ', y_train_sampled.shape, y_train.shape)\n",
    "    print('X_test, shape y_test: ', X_test_df.shape, y_test.shape)"
   ]
  },
  {
   "cell_type": "code",
   "execution_count": 39,
   "metadata": {},
   "outputs": [
    {
     "name": "stdout",
     "output_type": "stream",
     "text": [
      "Original dataset classes: Counter({'<=50K': 22654, '>50K': 7508})\n",
      "Resampled dataset classes: Counter({'<=50K': 7508, '>50K': 7508})\n",
      "\n",
      "Test dataset classes still the same to model real world: Counter({'<=50K': 11360, '>50K': 3700})\n",
      "\n",
      "X_train shape (under/reg):  (15016, 104) (30162, 104)\n",
      "y_train shape (under/reg):  (15016,) (30162,)\n",
      "X_test, shape y_test:  (15060, 104) (15060,)\n"
     ]
    }
   ],
   "source": [
    "nm = RandomUnderSampler()\n",
    "\n",
    "X_train_under, y_train_under = nm.fit_resample(X_train_df, y_train)\n",
    "\n",
    "print_sampling_stats(X_train_df, X_train_under,\n",
    "                     y_train, y_train_under,\n",
    "                     y_test)"
   ]
  },
  {
   "cell_type": "code",
   "execution_count": 40,
   "metadata": {},
   "outputs": [
    {
     "name": "stdout",
     "output_type": "stream",
     "text": [
      "DONE!\n"
     ]
    }
   ],
   "source": [
    "# Let's see how we did!\n",
    "\n",
    "undersample_results = test_models(models, \n",
    "                                  X_train_under, y_train_under, \n",
    "                                  X_test_df, y_test, \n",
    "                                  subset=('Random Forest'),\n",
    "                                  verbose=False)\n",
    "\n",
    "print('DONE!')"
   ]
  },
  {
   "cell_type": "code",
   "execution_count": 41,
   "metadata": {},
   "outputs": [
    {
     "name": "stdout",
     "output_type": "stream",
     "text": [
      "Original\n"
     ]
    },
    {
     "data": {
      "text/html": [
       "<div>\n",
       "<style scoped>\n",
       "    .dataframe tbody tr th:only-of-type {\n",
       "        vertical-align: middle;\n",
       "    }\n",
       "\n",
       "    .dataframe tbody tr th {\n",
       "        vertical-align: top;\n",
       "    }\n",
       "\n",
       "    .dataframe thead th {\n",
       "        text-align: right;\n",
       "    }\n",
       "</style>\n",
       "<table border=\"1\" class=\"dataframe\">\n",
       "  <thead>\n",
       "    <tr style=\"text-align: right;\">\n",
       "      <th></th>\n",
       "      <th>train_accuracy</th>\n",
       "      <th>test_accuracy</th>\n",
       "      <th>test_recall</th>\n",
       "      <th>test_precision</th>\n",
       "      <th>test_f1</th>\n",
       "    </tr>\n",
       "  </thead>\n",
       "  <tbody>\n",
       "    <tr>\n",
       "      <th>Logistic Regression</th>\n",
       "      <td>0.790642</td>\n",
       "      <td>0.790896</td>\n",
       "      <td>0.266573</td>\n",
       "      <td>0.714732</td>\n",
       "      <td>0.388170</td>\n",
       "    </tr>\n",
       "    <tr>\n",
       "      <th>Most Frequent</th>\n",
       "      <td>0.751078</td>\n",
       "      <td>0.751078</td>\n",
       "      <td>0.000000</td>\n",
       "      <td>0.000000</td>\n",
       "      <td>0.000000</td>\n",
       "    </tr>\n",
       "    <tr>\n",
       "      <th>Nearest Neighbors</th>\n",
       "      <td>0.827498</td>\n",
       "      <td>0.765201</td>\n",
       "      <td>0.317527</td>\n",
       "      <td>0.549199</td>\n",
       "      <td>0.402331</td>\n",
       "    </tr>\n",
       "    <tr>\n",
       "      <th>Random Forest</th>\n",
       "      <td>0.999923</td>\n",
       "      <td>0.849513</td>\n",
       "      <td>0.626269</td>\n",
       "      <td>0.730922</td>\n",
       "      <td>0.674475</td>\n",
       "    </tr>\n",
       "  </tbody>\n",
       "</table>\n",
       "</div>"
      ],
      "text/plain": [
       "                     train_accuracy  test_accuracy  test_recall  \\\n",
       "Logistic Regression        0.790642       0.790896     0.266573   \n",
       "Most Frequent              0.751078       0.751078     0.000000   \n",
       "Nearest Neighbors          0.827498       0.765201     0.317527   \n",
       "Random Forest              0.999923       0.849513     0.626269   \n",
       "\n",
       "                     test_precision   test_f1  \n",
       "Logistic Regression        0.714732  0.388170  \n",
       "Most Frequent              0.000000  0.000000  \n",
       "Nearest Neighbors          0.549199  0.402331  \n",
       "Random Forest              0.730922  0.674475  "
      ]
     },
     "execution_count": 41,
     "metadata": {},
     "output_type": "execute_result"
    }
   ],
   "source": [
    "# Original\n",
    "print('Original')\n",
    "model_results"
   ]
  },
  {
   "cell_type": "code",
   "execution_count": 42,
   "metadata": {},
   "outputs": [
    {
     "name": "stdout",
     "output_type": "stream",
     "text": [
      "Undersample\n"
     ]
    },
    {
     "data": {
      "text/html": [
       "<div>\n",
       "<style scoped>\n",
       "    .dataframe tbody tr th:only-of-type {\n",
       "        vertical-align: middle;\n",
       "    }\n",
       "\n",
       "    .dataframe tbody tr th {\n",
       "        vertical-align: top;\n",
       "    }\n",
       "\n",
       "    .dataframe thead th {\n",
       "        text-align: right;\n",
       "    }\n",
       "</style>\n",
       "<table border=\"1\" class=\"dataframe\">\n",
       "  <thead>\n",
       "    <tr style=\"text-align: right;\">\n",
       "      <th></th>\n",
       "      <th>train_accuracy</th>\n",
       "      <th>test_accuracy</th>\n",
       "      <th>test_recall</th>\n",
       "      <th>test_precision</th>\n",
       "      <th>test_f1</th>\n",
       "    </tr>\n",
       "  </thead>\n",
       "  <tbody>\n",
       "    <tr>\n",
       "      <th>Random Forest</th>\n",
       "      <td>1.0</td>\n",
       "      <td>0.806175</td>\n",
       "      <td>0.822162</td>\n",
       "      <td>0.573638</td>\n",
       "      <td>0.675775</td>\n",
       "    </tr>\n",
       "  </tbody>\n",
       "</table>\n",
       "</div>"
      ],
      "text/plain": [
       "               train_accuracy  test_accuracy  test_recall  test_precision  \\\n",
       "Random Forest             1.0       0.806175     0.822162        0.573638   \n",
       "\n",
       "                test_f1  \n",
       "Random Forest  0.675775  "
      ]
     },
     "execution_count": 42,
     "metadata": {},
     "output_type": "execute_result"
    }
   ],
   "source": [
    "# Undersample\n",
    "print('Undersample')\n",
    "undersample_results"
   ]
  },
  {
   "cell_type": "markdown",
   "metadata": {},
   "source": [
    "<details><summary>Q: How did undersampling perform vs. baseline?</summary>\n",
    "For Random Forests, the `test_recall` increased significantly.\n",
    "\n",
    "But:\n",
    "   + At the expense of overall accuracy.\n",
    "   + At the expense of precision.</details>\n",
    "\n"
   ]
  },
  {
   "cell_type": "markdown",
   "metadata": {},
   "source": [
    "> Note: There are smarter ways of undersampling than random! For example, see the [NearMiss](https://imbalanced-learn.org/stable/generated/imblearn.under_sampling.NearMiss.html?highlight=nearmiss) undersampler. For example, it can use nearest neighbors to selectively sample only the points nearest to those in the majority class. Here are some [illustrations](https://imbalanced-learn.org/stable/auto_examples/under-sampling/plot_illustration_nearmiss.html?highlight=nearmiss) of the three strategies it supports."
   ]
  },
  {
   "cell_type": "markdown",
   "metadata": {},
   "source": [
    "<a id=\"oversample\"></a>\n",
    "# Imbalance Technique 2: Oversample Less Frequent Class"
   ]
  },
  {
   "cell_type": "markdown",
   "metadata": {},
   "source": [
    "Chooses new samples at random with replacement.\n",
    "\n",
    "We might predict this will perform worse, because one of the classes will contain many repeated members."
   ]
  },
  {
   "cell_type": "code",
   "execution_count": 43,
   "metadata": {},
   "outputs": [
    {
     "name": "stdout",
     "output_type": "stream",
     "text": [
      "Original dataset classes: Counter({'<=50K': 22654, '>50K': 7508})\n",
      "Resampled dataset classes: Counter({'<=50K': 22654, '>50K': 22654})\n",
      "\n",
      "Test dataset classes still the same to model real world: Counter({'<=50K': 11360, '>50K': 3700})\n",
      "\n",
      "X_train shape (under/reg):  (45308, 104) (30162, 104)\n",
      "y_train shape (under/reg):  (45308,) (30162,)\n",
      "X_test, shape y_test:  (15060, 104) (15060,)\n"
     ]
    }
   ],
   "source": [
    "ros = RandomOverSampler()\n",
    "\n",
    "X_train_over, y_train_over = ros.fit_resample(X_train_df, y_train)\n",
    "\n",
    "print_sampling_stats(X_train_df, X_train_over,\n",
    "                     y_train, y_train_over,\n",
    "                     y_test)"
   ]
  },
  {
   "cell_type": "code",
   "execution_count": 44,
   "metadata": {},
   "outputs": [
    {
     "name": "stdout",
     "output_type": "stream",
     "text": [
      "DONE!\n"
     ]
    }
   ],
   "source": [
    "# Let's see how we did!\n",
    "\n",
    "oversample_results = test_models(models, \n",
    "                                 X_train_over, y_train_over, \n",
    "                                 X_test_df, y_test, \n",
    "                                 subset=('Random Forest'),\n",
    "                                 verbose=False)\n",
    "\n",
    "print('DONE!')"
   ]
  },
  {
   "cell_type": "code",
   "execution_count": 45,
   "metadata": {},
   "outputs": [
    {
     "name": "stdout",
     "output_type": "stream",
     "text": [
      "Original\n"
     ]
    },
    {
     "data": {
      "text/html": [
       "<div>\n",
       "<style scoped>\n",
       "    .dataframe tbody tr th:only-of-type {\n",
       "        vertical-align: middle;\n",
       "    }\n",
       "\n",
       "    .dataframe tbody tr th {\n",
       "        vertical-align: top;\n",
       "    }\n",
       "\n",
       "    .dataframe thead th {\n",
       "        text-align: right;\n",
       "    }\n",
       "</style>\n",
       "<table border=\"1\" class=\"dataframe\">\n",
       "  <thead>\n",
       "    <tr style=\"text-align: right;\">\n",
       "      <th></th>\n",
       "      <th>train_accuracy</th>\n",
       "      <th>test_accuracy</th>\n",
       "      <th>test_recall</th>\n",
       "      <th>test_precision</th>\n",
       "      <th>test_f1</th>\n",
       "    </tr>\n",
       "  </thead>\n",
       "  <tbody>\n",
       "    <tr>\n",
       "      <th>Logistic Regression</th>\n",
       "      <td>0.790642</td>\n",
       "      <td>0.790896</td>\n",
       "      <td>0.266573</td>\n",
       "      <td>0.714732</td>\n",
       "      <td>0.388170</td>\n",
       "    </tr>\n",
       "    <tr>\n",
       "      <th>Most Frequent</th>\n",
       "      <td>0.751078</td>\n",
       "      <td>0.751078</td>\n",
       "      <td>0.000000</td>\n",
       "      <td>0.000000</td>\n",
       "      <td>0.000000</td>\n",
       "    </tr>\n",
       "    <tr>\n",
       "      <th>Nearest Neighbors</th>\n",
       "      <td>0.827498</td>\n",
       "      <td>0.765201</td>\n",
       "      <td>0.317527</td>\n",
       "      <td>0.549199</td>\n",
       "      <td>0.402331</td>\n",
       "    </tr>\n",
       "    <tr>\n",
       "      <th>Random Forest</th>\n",
       "      <td>0.999923</td>\n",
       "      <td>0.849513</td>\n",
       "      <td>0.626269</td>\n",
       "      <td>0.730922</td>\n",
       "      <td>0.674475</td>\n",
       "    </tr>\n",
       "  </tbody>\n",
       "</table>\n",
       "</div>"
      ],
      "text/plain": [
       "                     train_accuracy  test_accuracy  test_recall  \\\n",
       "Logistic Regression        0.790642       0.790896     0.266573   \n",
       "Most Frequent              0.751078       0.751078     0.000000   \n",
       "Nearest Neighbors          0.827498       0.765201     0.317527   \n",
       "Random Forest              0.999923       0.849513     0.626269   \n",
       "\n",
       "                     test_precision   test_f1  \n",
       "Logistic Regression        0.714732  0.388170  \n",
       "Most Frequent              0.000000  0.000000  \n",
       "Nearest Neighbors          0.549199  0.402331  \n",
       "Random Forest              0.730922  0.674475  "
      ]
     },
     "execution_count": 45,
     "metadata": {},
     "output_type": "execute_result"
    }
   ],
   "source": [
    "# Original\n",
    "print('Original')\n",
    "model_results"
   ]
  },
  {
   "cell_type": "code",
   "execution_count": 48,
   "metadata": {},
   "outputs": [
    {
     "name": "stdout",
     "output_type": "stream",
     "text": [
      "Oversample\n"
     ]
    },
    {
     "data": {
      "text/html": [
       "<div>\n",
       "<style scoped>\n",
       "    .dataframe tbody tr th:only-of-type {\n",
       "        vertical-align: middle;\n",
       "    }\n",
       "\n",
       "    .dataframe tbody tr th {\n",
       "        vertical-align: top;\n",
       "    }\n",
       "\n",
       "    .dataframe thead th {\n",
       "        text-align: right;\n",
       "    }\n",
       "</style>\n",
       "<table border=\"1\" class=\"dataframe\">\n",
       "  <thead>\n",
       "    <tr style=\"text-align: right;\">\n",
       "      <th></th>\n",
       "      <th>train_accuracy</th>\n",
       "      <th>test_accuracy</th>\n",
       "      <th>test_recall</th>\n",
       "      <th>test_precision</th>\n",
       "      <th>test_f1</th>\n",
       "    </tr>\n",
       "  </thead>\n",
       "  <tbody>\n",
       "    <tr>\n",
       "      <th>Random Forest</th>\n",
       "      <td>0.999978</td>\n",
       "      <td>0.838579</td>\n",
       "      <td>0.676757</td>\n",
       "      <td>0.669698</td>\n",
       "      <td>0.673209</td>\n",
       "    </tr>\n",
       "  </tbody>\n",
       "</table>\n",
       "</div>"
      ],
      "text/plain": [
       "               train_accuracy  test_accuracy  test_recall  test_precision  \\\n",
       "Random Forest        0.999978       0.838579     0.676757        0.669698   \n",
       "\n",
       "                test_f1  \n",
       "Random Forest  0.673209  "
      ]
     },
     "execution_count": 48,
     "metadata": {},
     "output_type": "execute_result"
    }
   ],
   "source": [
    "# Oversample\n",
    "print('Oversample')\n",
    "oversample_results"
   ]
  },
  {
   "cell_type": "code",
   "execution_count": 49,
   "metadata": {},
   "outputs": [
    {
     "name": "stdout",
     "output_type": "stream",
     "text": [
      "Undersample\n"
     ]
    },
    {
     "data": {
      "text/html": [
       "<div>\n",
       "<style scoped>\n",
       "    .dataframe tbody tr th:only-of-type {\n",
       "        vertical-align: middle;\n",
       "    }\n",
       "\n",
       "    .dataframe tbody tr th {\n",
       "        vertical-align: top;\n",
       "    }\n",
       "\n",
       "    .dataframe thead th {\n",
       "        text-align: right;\n",
       "    }\n",
       "</style>\n",
       "<table border=\"1\" class=\"dataframe\">\n",
       "  <thead>\n",
       "    <tr style=\"text-align: right;\">\n",
       "      <th></th>\n",
       "      <th>train_accuracy</th>\n",
       "      <th>test_accuracy</th>\n",
       "      <th>test_recall</th>\n",
       "      <th>test_precision</th>\n",
       "      <th>test_f1</th>\n",
       "    </tr>\n",
       "  </thead>\n",
       "  <tbody>\n",
       "    <tr>\n",
       "      <th>Random Forest</th>\n",
       "      <td>1.0</td>\n",
       "      <td>0.806175</td>\n",
       "      <td>0.822162</td>\n",
       "      <td>0.573638</td>\n",
       "      <td>0.675775</td>\n",
       "    </tr>\n",
       "  </tbody>\n",
       "</table>\n",
       "</div>"
      ],
      "text/plain": [
       "               train_accuracy  test_accuracy  test_recall  test_precision  \\\n",
       "Random Forest             1.0       0.806175     0.822162        0.573638   \n",
       "\n",
       "                test_f1  \n",
       "Random Forest  0.675775  "
      ]
     },
     "execution_count": 49,
     "metadata": {},
     "output_type": "execute_result"
    }
   ],
   "source": [
    "# Undersample\n",
    "print('Undersample')\n",
    "undersample_results"
   ]
  },
  {
   "cell_type": "markdown",
   "metadata": {},
   "source": [
    "<details><summary>Q: How did oversampling perform?</summary>\n",
    "Compared to the original Random Forest, the accuracy did not change. The recall is slightly better (now 68%, orig 62%) while precision slightly worse (now 67%, orig 72%). \n",
    "\n",
    "This model could be considered slightly better with minimal downside.</details"
   ]
  },
  {
   "cell_type": "markdown",
   "metadata": {},
   "source": [
    "<a id=\"smote\"></a>\n",
    "# Imbalance Technique 3: SMOTE (Synthetic Minority Over-sampling Technique)\n",
    "\n",
    "This technique does not just randomly oversample with replacement. Instead, it uses nearest neighbors to synthetically create fake datapoints to use for oversampling."
   ]
  },
  {
   "cell_type": "code",
   "execution_count": 50,
   "metadata": {},
   "outputs": [
    {
     "name": "stdout",
     "output_type": "stream",
     "text": [
      "Original dataset classes: Counter({'<=50K': 22654, '>50K': 7508})\n",
      "Resampled dataset classes: Counter({'<=50K': 22654, '>50K': 22654})\n",
      "\n",
      "Test dataset classes still the same to model real world: Counter({'<=50K': 11360, '>50K': 3700})\n",
      "\n",
      "X_train shape (under/reg):  (45308, 104) (30162, 104)\n",
      "y_train shape (under/reg):  (45308,) (30162,)\n",
      "X_test, shape y_test:  (15060, 104) (15060,)\n"
     ]
    }
   ],
   "source": [
    "smo = SMOTE()\n",
    "\n",
    "X_train_smote, y_train_smote = smo.fit_resample(X_train_df, y_train)\n",
    "\n",
    "print_sampling_stats(X_train_df, X_train_smote,\n",
    "                     y_train, y_train_smote,\n",
    "                     y_test)"
   ]
  },
  {
   "cell_type": "code",
   "execution_count": 51,
   "metadata": {},
   "outputs": [
    {
     "name": "stdout",
     "output_type": "stream",
     "text": [
      "DONE!\n"
     ]
    }
   ],
   "source": [
    "# Let's see how we did!\n",
    "\n",
    "smote_results = test_models(models, \n",
    "                            X_train_over, y_train_over, \n",
    "                            X_test_df, y_test, \n",
    "                            subset=('Random Forest'),\n",
    "                            verbose=False)\n",
    "\n",
    "print('DONE!')"
   ]
  },
  {
   "cell_type": "code",
   "execution_count": 52,
   "metadata": {},
   "outputs": [
    {
     "name": "stdout",
     "output_type": "stream",
     "text": [
      "Original\n"
     ]
    },
    {
     "data": {
      "text/html": [
       "<div>\n",
       "<style scoped>\n",
       "    .dataframe tbody tr th:only-of-type {\n",
       "        vertical-align: middle;\n",
       "    }\n",
       "\n",
       "    .dataframe tbody tr th {\n",
       "        vertical-align: top;\n",
       "    }\n",
       "\n",
       "    .dataframe thead th {\n",
       "        text-align: right;\n",
       "    }\n",
       "</style>\n",
       "<table border=\"1\" class=\"dataframe\">\n",
       "  <thead>\n",
       "    <tr style=\"text-align: right;\">\n",
       "      <th></th>\n",
       "      <th>train_accuracy</th>\n",
       "      <th>test_accuracy</th>\n",
       "      <th>test_recall</th>\n",
       "      <th>test_precision</th>\n",
       "      <th>test_f1</th>\n",
       "    </tr>\n",
       "  </thead>\n",
       "  <tbody>\n",
       "    <tr>\n",
       "      <th>Logistic Regression</th>\n",
       "      <td>0.790642</td>\n",
       "      <td>0.790896</td>\n",
       "      <td>0.266573</td>\n",
       "      <td>0.714732</td>\n",
       "      <td>0.388170</td>\n",
       "    </tr>\n",
       "    <tr>\n",
       "      <th>Most Frequent</th>\n",
       "      <td>0.751078</td>\n",
       "      <td>0.751078</td>\n",
       "      <td>0.000000</td>\n",
       "      <td>0.000000</td>\n",
       "      <td>0.000000</td>\n",
       "    </tr>\n",
       "    <tr>\n",
       "      <th>Nearest Neighbors</th>\n",
       "      <td>0.827498</td>\n",
       "      <td>0.765201</td>\n",
       "      <td>0.317527</td>\n",
       "      <td>0.549199</td>\n",
       "      <td>0.402331</td>\n",
       "    </tr>\n",
       "    <tr>\n",
       "      <th>Random Forest</th>\n",
       "      <td>0.999923</td>\n",
       "      <td>0.849513</td>\n",
       "      <td>0.626269</td>\n",
       "      <td>0.730922</td>\n",
       "      <td>0.674475</td>\n",
       "    </tr>\n",
       "  </tbody>\n",
       "</table>\n",
       "</div>"
      ],
      "text/plain": [
       "                     train_accuracy  test_accuracy  test_recall  \\\n",
       "Logistic Regression        0.790642       0.790896     0.266573   \n",
       "Most Frequent              0.751078       0.751078     0.000000   \n",
       "Nearest Neighbors          0.827498       0.765201     0.317527   \n",
       "Random Forest              0.999923       0.849513     0.626269   \n",
       "\n",
       "                     test_precision   test_f1  \n",
       "Logistic Regression        0.714732  0.388170  \n",
       "Most Frequent              0.000000  0.000000  \n",
       "Nearest Neighbors          0.549199  0.402331  \n",
       "Random Forest              0.730922  0.674475  "
      ]
     },
     "execution_count": 52,
     "metadata": {},
     "output_type": "execute_result"
    }
   ],
   "source": [
    "print('Original')\n",
    "model_results"
   ]
  },
  {
   "cell_type": "code",
   "execution_count": 53,
   "metadata": {},
   "outputs": [
    {
     "name": "stdout",
     "output_type": "stream",
     "text": [
      "SMOTE\n"
     ]
    },
    {
     "data": {
      "text/html": [
       "<div>\n",
       "<style scoped>\n",
       "    .dataframe tbody tr th:only-of-type {\n",
       "        vertical-align: middle;\n",
       "    }\n",
       "\n",
       "    .dataframe tbody tr th {\n",
       "        vertical-align: top;\n",
       "    }\n",
       "\n",
       "    .dataframe thead th {\n",
       "        text-align: right;\n",
       "    }\n",
       "</style>\n",
       "<table border=\"1\" class=\"dataframe\">\n",
       "  <thead>\n",
       "    <tr style=\"text-align: right;\">\n",
       "      <th></th>\n",
       "      <th>train_accuracy</th>\n",
       "      <th>test_accuracy</th>\n",
       "      <th>test_recall</th>\n",
       "      <th>test_precision</th>\n",
       "      <th>test_f1</th>\n",
       "    </tr>\n",
       "  </thead>\n",
       "  <tbody>\n",
       "    <tr>\n",
       "      <th>Random Forest</th>\n",
       "      <td>0.999934</td>\n",
       "      <td>0.839177</td>\n",
       "      <td>0.68027</td>\n",
       "      <td>0.670128</td>\n",
       "      <td>0.675161</td>\n",
       "    </tr>\n",
       "  </tbody>\n",
       "</table>\n",
       "</div>"
      ],
      "text/plain": [
       "               train_accuracy  test_accuracy  test_recall  test_precision  \\\n",
       "Random Forest        0.999934       0.839177      0.68027        0.670128   \n",
       "\n",
       "                test_f1  \n",
       "Random Forest  0.675161  "
      ]
     },
     "execution_count": 53,
     "metadata": {},
     "output_type": "execute_result"
    }
   ],
   "source": [
    "print('SMOTE')\n",
    "smote_results"
   ]
  },
  {
   "cell_type": "code",
   "execution_count": 54,
   "metadata": {},
   "outputs": [
    {
     "data": {
      "text/html": [
       "<div>\n",
       "<style scoped>\n",
       "    .dataframe tbody tr th:only-of-type {\n",
       "        vertical-align: middle;\n",
       "    }\n",
       "\n",
       "    .dataframe tbody tr th {\n",
       "        vertical-align: top;\n",
       "    }\n",
       "\n",
       "    .dataframe thead th {\n",
       "        text-align: right;\n",
       "    }\n",
       "</style>\n",
       "<table border=\"1\" class=\"dataframe\">\n",
       "  <thead>\n",
       "    <tr style=\"text-align: right;\">\n",
       "      <th></th>\n",
       "      <th>train_accuracy</th>\n",
       "      <th>test_accuracy</th>\n",
       "      <th>test_recall</th>\n",
       "      <th>test_precision</th>\n",
       "      <th>test_f1</th>\n",
       "    </tr>\n",
       "  </thead>\n",
       "  <tbody>\n",
       "    <tr>\n",
       "      <th>Random Forest</th>\n",
       "      <td>0.999978</td>\n",
       "      <td>0.838579</td>\n",
       "      <td>0.676757</td>\n",
       "      <td>0.669698</td>\n",
       "      <td>0.673209</td>\n",
       "    </tr>\n",
       "  </tbody>\n",
       "</table>\n",
       "</div>"
      ],
      "text/plain": [
       "               train_accuracy  test_accuracy  test_recall  test_precision  \\\n",
       "Random Forest        0.999978       0.838579     0.676757        0.669698   \n",
       "\n",
       "                test_f1  \n",
       "Random Forest  0.673209  "
      ]
     },
     "execution_count": 54,
     "metadata": {},
     "output_type": "execute_result"
    }
   ],
   "source": [
    "oversample_results"
   ]
  },
  {
   "cell_type": "code",
   "execution_count": null,
   "metadata": {},
   "outputs": [],
   "source": []
  },
  {
   "cell_type": "markdown",
   "metadata": {},
   "source": [
    "<details><summary>Q: What is your conclusion about using SMOTE?</summary>\n",
    "Conclusion: Very similar to the oversampling results. Perhaps because so much oversampling had to occur, the data integrity was in question.</details>"
   ]
  },
  {
   "cell_type": "markdown",
   "metadata": {},
   "source": [
    "<a id=\"weight\"></a>\n",
    "# Imbalance Technique 4: Weight each class in the models\n",
    "\n",
    "Some models (including Random Forests and Logistic Regression) allow you to weight each class. The weight assigned to each class penalizes that data point by the given weight when computing the error."
   ]
  },
  {
   "cell_type": "code",
   "execution_count": 55,
   "metadata": {},
   "outputs": [
    {
     "name": "stdout",
     "output_type": "stream",
     "text": [
      "DONE!\n"
     ]
    }
   ],
   "source": [
    "# 'balanced' adjusts weights inversely proportional to class frequencies\n",
    "#     For class y, its weight becomes: n_samples / (n_classes * np.bincount(y))\n",
    "models['Random Forest (weighted)'] = RandomForestClassifier(n_estimators=100, \n",
    "                                                            class_weight='balanced_subsample')\n",
    "\n",
    "model_results = test_models(models, \n",
    "                            X_train_over, y_train_over, \n",
    "                            X_test_df, y_test, \n",
    "                            subset=('Random Forest'),\n",
    "                            verbose=False)\n",
    "\n",
    "print('DONE!')"
   ]
  },
  {
   "cell_type": "code",
   "execution_count": 56,
   "metadata": {},
   "outputs": [
    {
     "data": {
      "text/html": [
       "<div>\n",
       "<style scoped>\n",
       "    .dataframe tbody tr th:only-of-type {\n",
       "        vertical-align: middle;\n",
       "    }\n",
       "\n",
       "    .dataframe tbody tr th {\n",
       "        vertical-align: top;\n",
       "    }\n",
       "\n",
       "    .dataframe thead th {\n",
       "        text-align: right;\n",
       "    }\n",
       "</style>\n",
       "<table border=\"1\" class=\"dataframe\">\n",
       "  <thead>\n",
       "    <tr style=\"text-align: right;\">\n",
       "      <th></th>\n",
       "      <th>train_accuracy</th>\n",
       "      <th>test_accuracy</th>\n",
       "      <th>test_recall</th>\n",
       "      <th>test_precision</th>\n",
       "      <th>test_f1</th>\n",
       "    </tr>\n",
       "  </thead>\n",
       "  <tbody>\n",
       "    <tr>\n",
       "      <th>Random Forest</th>\n",
       "      <td>0.999978</td>\n",
       "      <td>0.837981</td>\n",
       "      <td>0.678378</td>\n",
       "      <td>0.667553</td>\n",
       "      <td>0.672922</td>\n",
       "    </tr>\n",
       "  </tbody>\n",
       "</table>\n",
       "</div>"
      ],
      "text/plain": [
       "               train_accuracy  test_accuracy  test_recall  test_precision  \\\n",
       "Random Forest        0.999978       0.837981     0.678378        0.667553   \n",
       "\n",
       "                test_f1  \n",
       "Random Forest  0.672922  "
      ]
     },
     "execution_count": 56,
     "metadata": {},
     "output_type": "execute_result"
    }
   ],
   "source": [
    "model_results"
   ]
  },
  {
   "cell_type": "markdown",
   "metadata": {},
   "source": [
    "<details><summary>Q: Does this perform any benefit over earlier techniques?</summary>\n",
    "From the final two rows, we see that weighting the Random Forest model did not improve the metrics much. We could perhaps play around with specific class weights, but it is unlikely to drastically improve.\n",
    "\n",
    "Perhaps we could apply this technique following class oversampling.</details>"
   ]
  },
  {
   "cell_type": "markdown",
   "metadata": {},
   "source": [
    "<a id=\"roc\"></a>\n",
    "# Imbalance Technique 5: Adjust the class cutoff threshold (ROC)\n",
    "\n",
    "After predicting the probability of a class, we can then apply a threshold.\n",
    "\n",
    "By adjusting this threshold, we tradeoff between the Recall (true positive rate) and false positive rate (fpr).\n",
    "\n",
    "`false positive rate = out of all times it was actually negative, what % were FPs?`"
   ]
  },
  {
   "cell_type": "markdown",
   "metadata": {},
   "source": [
    "---\n",
    "\n",
    "Unfortunately, our model overfits so we'll have to generate our test set's ROC.\n",
    "\n",
    "Typically, this will be tuned on the training set.\n",
    "\n",
    "If we choose a different threshold from here, then we must test it on yet another validation set!"
   ]
  },
  {
   "cell_type": "code",
   "execution_count": 57,
   "metadata": {},
   "outputs": [
    {
     "data": {
      "image/png": "[encoded data removed]",
      "text/plain": [
       "<Figure size 432x288 with 1 Axes>"
      ]
     },
     "metadata": {
      "needs_background": "light"
     },
     "output_type": "display_data"
    }
   ],
   "source": [
    "from sklearn.metrics import plot_roc_curve\n",
    "\n",
    "plot_roc_curve(models['Random Forest'], X_test_df, y_test);"
   ]
  },
  {
   "cell_type": "markdown",
   "metadata": {},
   "source": [
    "- y axis = Recall.\n",
    "- x axis = False Positive Rate. \n",
    "\n",
    "The FPR is not precision, but it can still be useful:\n",
    "    \n",
    "    - Precision = true positives / total positive predictions.\n",
    "    - False Positive Rate = false positives / total negatives.\n",
    "\n",
    "---\n",
    "Now, just choose your threshold from the following list to balance fpr/tpr."
   ]
  },
  {
   "cell_type": "code",
   "execution_count": 60,
   "metadata": {},
   "outputs": [
    {
     "data": {
      "text/plain": [
       "0.8943579177769319"
      ]
     },
     "execution_count": 60,
     "metadata": {},
     "output_type": "execute_result"
    }
   ],
   "source": [
    "from sklearn.metrics import roc_curve, auc\n",
    "\n",
    "# For each test X, predict the probability of class 1\n",
    "rf = models['Random Forest']\n",
    "pred_proba = [p[1] for p in rf.predict_proba(X_test_df)]\n",
    "\n",
    "# Compute ROC values manually\n",
    "fpr, tpr, thresholds = roc_curve(y_test,\n",
    "                                 pred_proba,\n",
    "                                 pos_label='>50K')\n",
    "\n",
    "# Compute Area Under the Curve\n",
    "roc_auc = auc(fpr, tpr)\n",
    "\n",
    "roc_auc"
   ]
  },
  {
   "cell_type": "code",
   "execution_count": 61,
   "metadata": {},
   "outputs": [
    {
     "ename": "NameError",
     "evalue": "name 'roc_auc_score' is not defined",
     "output_type": "error",
     "traceback": [
      "\u001b[1;31m---------------------------------------------------------------------------\u001b[0m",
      "\u001b[1;31mNameError\u001b[0m                                 Traceback (most recent call last)",
      "\u001b[1;32m<ipython-input-61-bb280d31fdde>\u001b[0m in \u001b[0;36m<module>\u001b[1;34m\u001b[0m\n\u001b[1;32m----> 1\u001b[1;33m \u001b[0mroc_auc_score\u001b[0m\u001b[1;33m(\u001b[0m\u001b[0my_test\u001b[0m\u001b[1;33m,\u001b[0m \u001b[0mpred_proba\u001b[0m\u001b[1;33m)\u001b[0m\u001b[1;33m\u001b[0m\u001b[1;33m\u001b[0m\u001b[0m\n\u001b[0m",
      "\u001b[1;31mNameError\u001b[0m: name 'roc_auc_score' is not defined"
     ]
    }
   ],
   "source": [
    "roc_auc_score(y_test, pred_proba)"
   ]
  },
  {
   "cell_type": "code",
   "execution_count": 59,
   "metadata": {},
   "outputs": [
    {
     "data": {
      "text/html": [
       "<div>\n",
       "<style scoped>\n",
       "    .dataframe tbody tr th:only-of-type {\n",
       "        vertical-align: middle;\n",
       "    }\n",
       "\n",
       "    .dataframe tbody tr th {\n",
       "        vertical-align: top;\n",
       "    }\n",
       "\n",
       "    .dataframe thead th {\n",
       "        text-align: right;\n",
       "    }\n",
       "</style>\n",
       "<table border=\"1\" class=\"dataframe\">\n",
       "  <thead>\n",
       "    <tr style=\"text-align: right;\">\n",
       "      <th></th>\n",
       "      <th>fpr</th>\n",
       "      <th>tpr</th>\n",
       "      <th>thresholds</th>\n",
       "    </tr>\n",
       "  </thead>\n",
       "  <tbody>\n",
       "    <tr>\n",
       "      <th>0</th>\n",
       "      <td>0.000000</td>\n",
       "      <td>0.000000</td>\n",
       "      <td>2.000000</td>\n",
       "    </tr>\n",
       "    <tr>\n",
       "      <th>1</th>\n",
       "      <td>0.000704</td>\n",
       "      <td>0.050811</td>\n",
       "      <td>1.000000</td>\n",
       "    </tr>\n",
       "    <tr>\n",
       "      <th>2</th>\n",
       "      <td>0.001673</td>\n",
       "      <td>0.097027</td>\n",
       "      <td>0.990000</td>\n",
       "    </tr>\n",
       "    <tr>\n",
       "      <th>3</th>\n",
       "      <td>0.002113</td>\n",
       "      <td>0.129189</td>\n",
       "      <td>0.980000</td>\n",
       "    </tr>\n",
       "    <tr>\n",
       "      <th>4</th>\n",
       "      <td>0.003697</td>\n",
       "      <td>0.157568</td>\n",
       "      <td>0.970000</td>\n",
       "    </tr>\n",
       "    <tr>\n",
       "      <th>5</th>\n",
       "      <td>0.005018</td>\n",
       "      <td>0.181351</td>\n",
       "      <td>0.960000</td>\n",
       "    </tr>\n",
       "    <tr>\n",
       "      <th>6</th>\n",
       "      <td>0.006602</td>\n",
       "      <td>0.205135</td>\n",
       "      <td>0.950000</td>\n",
       "    </tr>\n",
       "    <tr>\n",
       "      <th>7</th>\n",
       "      <td>0.007218</td>\n",
       "      <td>0.222162</td>\n",
       "      <td>0.940000</td>\n",
       "    </tr>\n",
       "    <tr>\n",
       "      <th>8</th>\n",
       "      <td>0.008275</td>\n",
       "      <td>0.239730</td>\n",
       "      <td>0.930000</td>\n",
       "    </tr>\n",
       "    <tr>\n",
       "      <th>9</th>\n",
       "      <td>0.009419</td>\n",
       "      <td>0.257297</td>\n",
       "      <td>0.920000</td>\n",
       "    </tr>\n",
       "    <tr>\n",
       "      <th>10</th>\n",
       "      <td>0.011532</td>\n",
       "      <td>0.272162</td>\n",
       "      <td>0.910000</td>\n",
       "    </tr>\n",
       "    <tr>\n",
       "      <th>11</th>\n",
       "      <td>0.013028</td>\n",
       "      <td>0.288108</td>\n",
       "      <td>0.900000</td>\n",
       "    </tr>\n",
       "    <tr>\n",
       "      <th>12</th>\n",
       "      <td>0.014261</td>\n",
       "      <td>0.304324</td>\n",
       "      <td>0.890000</td>\n",
       "    </tr>\n",
       "    <tr>\n",
       "      <th>13</th>\n",
       "      <td>0.016725</td>\n",
       "      <td>0.318378</td>\n",
       "      <td>0.880000</td>\n",
       "    </tr>\n",
       "    <tr>\n",
       "      <th>14</th>\n",
       "      <td>0.018486</td>\n",
       "      <td>0.333243</td>\n",
       "      <td>0.870000</td>\n",
       "    </tr>\n",
       "    <tr>\n",
       "      <th>15</th>\n",
       "      <td>0.020070</td>\n",
       "      <td>0.347297</td>\n",
       "      <td>0.860000</td>\n",
       "    </tr>\n",
       "    <tr>\n",
       "      <th>16</th>\n",
       "      <td>0.022359</td>\n",
       "      <td>0.360811</td>\n",
       "      <td>0.850000</td>\n",
       "    </tr>\n",
       "    <tr>\n",
       "      <th>17</th>\n",
       "      <td>0.024208</td>\n",
       "      <td>0.371892</td>\n",
       "      <td>0.840000</td>\n",
       "    </tr>\n",
       "    <tr>\n",
       "      <th>18</th>\n",
       "      <td>0.026496</td>\n",
       "      <td>0.383784</td>\n",
       "      <td>0.830000</td>\n",
       "    </tr>\n",
       "    <tr>\n",
       "      <th>19</th>\n",
       "      <td>0.028257</td>\n",
       "      <td>0.392973</td>\n",
       "      <td>0.820000</td>\n",
       "    </tr>\n",
       "    <tr>\n",
       "      <th>20</th>\n",
       "      <td>0.030018</td>\n",
       "      <td>0.404054</td>\n",
       "      <td>0.810000</td>\n",
       "    </tr>\n",
       "    <tr>\n",
       "      <th>21</th>\n",
       "      <td>0.032042</td>\n",
       "      <td>0.417027</td>\n",
       "      <td>0.800000</td>\n",
       "    </tr>\n",
       "    <tr>\n",
       "      <th>22</th>\n",
       "      <td>0.033539</td>\n",
       "      <td>0.430000</td>\n",
       "      <td>0.790000</td>\n",
       "    </tr>\n",
       "    <tr>\n",
       "      <th>23</th>\n",
       "      <td>0.035739</td>\n",
       "      <td>0.437838</td>\n",
       "      <td>0.780000</td>\n",
       "    </tr>\n",
       "    <tr>\n",
       "      <th>24</th>\n",
       "      <td>0.037764</td>\n",
       "      <td>0.449730</td>\n",
       "      <td>0.770000</td>\n",
       "    </tr>\n",
       "    <tr>\n",
       "      <th>25</th>\n",
       "      <td>0.039613</td>\n",
       "      <td>0.459730</td>\n",
       "      <td>0.760000</td>\n",
       "    </tr>\n",
       "    <tr>\n",
       "      <th>26</th>\n",
       "      <td>0.041725</td>\n",
       "      <td>0.471351</td>\n",
       "      <td>0.750000</td>\n",
       "    </tr>\n",
       "    <tr>\n",
       "      <th>27</th>\n",
       "      <td>0.043574</td>\n",
       "      <td>0.481892</td>\n",
       "      <td>0.740000</td>\n",
       "    </tr>\n",
       "    <tr>\n",
       "      <th>28</th>\n",
       "      <td>0.046391</td>\n",
       "      <td>0.491351</td>\n",
       "      <td>0.730000</td>\n",
       "    </tr>\n",
       "    <tr>\n",
       "      <th>29</th>\n",
       "      <td>0.048415</td>\n",
       "      <td>0.497568</td>\n",
       "      <td>0.720000</td>\n",
       "    </tr>\n",
       "    <tr>\n",
       "      <th>30</th>\n",
       "      <td>0.050880</td>\n",
       "      <td>0.508919</td>\n",
       "      <td>0.710000</td>\n",
       "    </tr>\n",
       "    <tr>\n",
       "      <th>31</th>\n",
       "      <td>0.050880</td>\n",
       "      <td>0.509189</td>\n",
       "      <td>0.700833</td>\n",
       "    </tr>\n",
       "    <tr>\n",
       "      <th>32</th>\n",
       "      <td>0.052641</td>\n",
       "      <td>0.517568</td>\n",
       "      <td>0.700000</td>\n",
       "    </tr>\n",
       "    <tr>\n",
       "      <th>33</th>\n",
       "      <td>0.055018</td>\n",
       "      <td>0.527027</td>\n",
       "      <td>0.690000</td>\n",
       "    </tr>\n",
       "    <tr>\n",
       "      <th>34</th>\n",
       "      <td>0.057482</td>\n",
       "      <td>0.535676</td>\n",
       "      <td>0.680000</td>\n",
       "    </tr>\n",
       "    <tr>\n",
       "      <th>35</th>\n",
       "      <td>0.059859</td>\n",
       "      <td>0.541351</td>\n",
       "      <td>0.670000</td>\n",
       "    </tr>\n",
       "    <tr>\n",
       "      <th>36</th>\n",
       "      <td>0.059859</td>\n",
       "      <td>0.541622</td>\n",
       "      <td>0.665000</td>\n",
       "    </tr>\n",
       "    <tr>\n",
       "      <th>37</th>\n",
       "      <td>0.062676</td>\n",
       "      <td>0.552703</td>\n",
       "      <td>0.660000</td>\n",
       "    </tr>\n",
       "    <tr>\n",
       "      <th>38</th>\n",
       "      <td>0.065581</td>\n",
       "      <td>0.563784</td>\n",
       "      <td>0.650000</td>\n",
       "    </tr>\n",
       "    <tr>\n",
       "      <th>39</th>\n",
       "      <td>0.065669</td>\n",
       "      <td>0.563784</td>\n",
       "      <td>0.642000</td>\n",
       "    </tr>\n",
       "    <tr>\n",
       "      <th>40</th>\n",
       "      <td>0.068398</td>\n",
       "      <td>0.574054</td>\n",
       "      <td>0.640000</td>\n",
       "    </tr>\n",
       "    <tr>\n",
       "      <th>41</th>\n",
       "      <td>0.071215</td>\n",
       "      <td>0.583784</td>\n",
       "      <td>0.630000</td>\n",
       "    </tr>\n",
       "    <tr>\n",
       "      <th>42</th>\n",
       "      <td>0.073504</td>\n",
       "      <td>0.589459</td>\n",
       "      <td>0.620000</td>\n",
       "    </tr>\n",
       "    <tr>\n",
       "      <th>43</th>\n",
       "      <td>0.073592</td>\n",
       "      <td>0.589459</td>\n",
       "      <td>0.610667</td>\n",
       "    </tr>\n",
       "    <tr>\n",
       "      <th>44</th>\n",
       "      <td>0.077113</td>\n",
       "      <td>0.600000</td>\n",
       "      <td>0.610000</td>\n",
       "    </tr>\n",
       "    <tr>\n",
       "      <th>45</th>\n",
       "      <td>0.080722</td>\n",
       "      <td>0.609459</td>\n",
       "      <td>0.600000</td>\n",
       "    </tr>\n",
       "    <tr>\n",
       "      <th>46</th>\n",
       "      <td>0.083363</td>\n",
       "      <td>0.616216</td>\n",
       "      <td>0.590000</td>\n",
       "    </tr>\n",
       "    <tr>\n",
       "      <th>47</th>\n",
       "      <td>0.083451</td>\n",
       "      <td>0.616216</td>\n",
       "      <td>0.587500</td>\n",
       "    </tr>\n",
       "    <tr>\n",
       "      <th>48</th>\n",
       "      <td>0.086180</td>\n",
       "      <td>0.624054</td>\n",
       "      <td>0.580000</td>\n",
       "    </tr>\n",
       "    <tr>\n",
       "      <th>49</th>\n",
       "      <td>0.086180</td>\n",
       "      <td>0.624324</td>\n",
       "      <td>0.575833</td>\n",
       "    </tr>\n",
       "    <tr>\n",
       "      <th>50</th>\n",
       "      <td>0.089437</td>\n",
       "      <td>0.632162</td>\n",
       "      <td>0.570000</td>\n",
       "    </tr>\n",
       "    <tr>\n",
       "      <th>51</th>\n",
       "      <td>0.092254</td>\n",
       "      <td>0.639189</td>\n",
       "      <td>0.560000</td>\n",
       "    </tr>\n",
       "    <tr>\n",
       "      <th>52</th>\n",
       "      <td>0.095335</td>\n",
       "      <td>0.648649</td>\n",
       "      <td>0.550000</td>\n",
       "    </tr>\n",
       "    <tr>\n",
       "      <th>53</th>\n",
       "      <td>0.095423</td>\n",
       "      <td>0.648649</td>\n",
       "      <td>0.548643</td>\n",
       "    </tr>\n",
       "    <tr>\n",
       "      <th>54</th>\n",
       "      <td>0.098415</td>\n",
       "      <td>0.655405</td>\n",
       "      <td>0.540000</td>\n",
       "    </tr>\n",
       "    <tr>\n",
       "      <th>55</th>\n",
       "      <td>0.102377</td>\n",
       "      <td>0.661351</td>\n",
       "      <td>0.530000</td>\n",
       "    </tr>\n",
       "    <tr>\n",
       "      <th>56</th>\n",
       "      <td>0.102377</td>\n",
       "      <td>0.661622</td>\n",
       "      <td>0.524667</td>\n",
       "    </tr>\n",
       "    <tr>\n",
       "      <th>57</th>\n",
       "      <td>0.106338</td>\n",
       "      <td>0.668649</td>\n",
       "      <td>0.520000</td>\n",
       "    </tr>\n",
       "    <tr>\n",
       "      <th>58</th>\n",
       "      <td>0.106338</td>\n",
       "      <td>0.668919</td>\n",
       "      <td>0.515000</td>\n",
       "    </tr>\n",
       "    <tr>\n",
       "      <th>59</th>\n",
       "      <td>0.110035</td>\n",
       "      <td>0.678378</td>\n",
       "      <td>0.510000</td>\n",
       "    </tr>\n",
       "    <tr>\n",
       "      <th>60</th>\n",
       "      <td>0.113468</td>\n",
       "      <td>0.687027</td>\n",
       "      <td>0.500000</td>\n",
       "    </tr>\n",
       "    <tr>\n",
       "      <th>61</th>\n",
       "      <td>0.117165</td>\n",
       "      <td>0.694324</td>\n",
       "      <td>0.490000</td>\n",
       "    </tr>\n",
       "    <tr>\n",
       "      <th>62</th>\n",
       "      <td>0.121567</td>\n",
       "      <td>0.701892</td>\n",
       "      <td>0.480000</td>\n",
       "    </tr>\n",
       "    <tr>\n",
       "      <th>63</th>\n",
       "      <td>0.125176</td>\n",
       "      <td>0.708649</td>\n",
       "      <td>0.470000</td>\n",
       "    </tr>\n",
       "    <tr>\n",
       "      <th>64</th>\n",
       "      <td>0.129313</td>\n",
       "      <td>0.715676</td>\n",
       "      <td>0.460000</td>\n",
       "    </tr>\n",
       "    <tr>\n",
       "      <th>65</th>\n",
       "      <td>0.134419</td>\n",
       "      <td>0.724595</td>\n",
       "      <td>0.450000</td>\n",
       "    </tr>\n",
       "    <tr>\n",
       "      <th>66</th>\n",
       "      <td>0.139525</td>\n",
       "      <td>0.730541</td>\n",
       "      <td>0.440000</td>\n",
       "    </tr>\n",
       "    <tr>\n",
       "      <th>67</th>\n",
       "      <td>0.143486</td>\n",
       "      <td>0.737838</td>\n",
       "      <td>0.430000</td>\n",
       "    </tr>\n",
       "    <tr>\n",
       "      <th>68</th>\n",
       "      <td>0.147447</td>\n",
       "      <td>0.745676</td>\n",
       "      <td>0.420000</td>\n",
       "    </tr>\n",
       "    <tr>\n",
       "      <th>69</th>\n",
       "      <td>0.147535</td>\n",
       "      <td>0.745676</td>\n",
       "      <td>0.417500</td>\n",
       "    </tr>\n",
       "    <tr>\n",
       "      <th>70</th>\n",
       "      <td>0.151232</td>\n",
       "      <td>0.753243</td>\n",
       "      <td>0.410000</td>\n",
       "    </tr>\n",
       "    <tr>\n",
       "      <th>71</th>\n",
       "      <td>0.156426</td>\n",
       "      <td>0.760541</td>\n",
       "      <td>0.400000</td>\n",
       "    </tr>\n",
       "    <tr>\n",
       "      <th>72</th>\n",
       "      <td>0.160651</td>\n",
       "      <td>0.768108</td>\n",
       "      <td>0.390000</td>\n",
       "    </tr>\n",
       "    <tr>\n",
       "      <th>73</th>\n",
       "      <td>0.164789</td>\n",
       "      <td>0.775946</td>\n",
       "      <td>0.380000</td>\n",
       "    </tr>\n",
       "    <tr>\n",
       "      <th>74</th>\n",
       "      <td>0.170246</td>\n",
       "      <td>0.782703</td>\n",
       "      <td>0.370000</td>\n",
       "    </tr>\n",
       "    <tr>\n",
       "      <th>75</th>\n",
       "      <td>0.175616</td>\n",
       "      <td>0.789730</td>\n",
       "      <td>0.360000</td>\n",
       "    </tr>\n",
       "    <tr>\n",
       "      <th>76</th>\n",
       "      <td>0.180194</td>\n",
       "      <td>0.794595</td>\n",
       "      <td>0.350000</td>\n",
       "    </tr>\n",
       "    <tr>\n",
       "      <th>77</th>\n",
       "      <td>0.185651</td>\n",
       "      <td>0.801351</td>\n",
       "      <td>0.340000</td>\n",
       "    </tr>\n",
       "    <tr>\n",
       "      <th>78</th>\n",
       "      <td>0.190933</td>\n",
       "      <td>0.806216</td>\n",
       "      <td>0.330000</td>\n",
       "    </tr>\n",
       "    <tr>\n",
       "      <th>79</th>\n",
       "      <td>0.196831</td>\n",
       "      <td>0.815405</td>\n",
       "      <td>0.320000</td>\n",
       "    </tr>\n",
       "    <tr>\n",
       "      <th>80</th>\n",
       "      <td>0.202817</td>\n",
       "      <td>0.818919</td>\n",
       "      <td>0.310000</td>\n",
       "    </tr>\n",
       "    <tr>\n",
       "      <th>81</th>\n",
       "      <td>0.208363</td>\n",
       "      <td>0.827568</td>\n",
       "      <td>0.300000</td>\n",
       "    </tr>\n",
       "    <tr>\n",
       "      <th>82</th>\n",
       "      <td>0.215141</td>\n",
       "      <td>0.836486</td>\n",
       "      <td>0.290000</td>\n",
       "    </tr>\n",
       "    <tr>\n",
       "      <th>83</th>\n",
       "      <td>0.222359</td>\n",
       "      <td>0.841351</td>\n",
       "      <td>0.280000</td>\n",
       "    </tr>\n",
       "    <tr>\n",
       "      <th>84</th>\n",
       "      <td>0.228345</td>\n",
       "      <td>0.849730</td>\n",
       "      <td>0.270000</td>\n",
       "    </tr>\n",
       "    <tr>\n",
       "      <th>85</th>\n",
       "      <td>0.234947</td>\n",
       "      <td>0.855405</td>\n",
       "      <td>0.260000</td>\n",
       "    </tr>\n",
       "    <tr>\n",
       "      <th>86</th>\n",
       "      <td>0.241197</td>\n",
       "      <td>0.861622</td>\n",
       "      <td>0.250000</td>\n",
       "    </tr>\n",
       "    <tr>\n",
       "      <th>87</th>\n",
       "      <td>0.250352</td>\n",
       "      <td>0.867297</td>\n",
       "      <td>0.240000</td>\n",
       "    </tr>\n",
       "    <tr>\n",
       "      <th>88</th>\n",
       "      <td>0.258363</td>\n",
       "      <td>0.874595</td>\n",
       "      <td>0.230000</td>\n",
       "    </tr>\n",
       "    <tr>\n",
       "      <th>89</th>\n",
       "      <td>0.265317</td>\n",
       "      <td>0.881622</td>\n",
       "      <td>0.220000</td>\n",
       "    </tr>\n",
       "    <tr>\n",
       "      <th>90</th>\n",
       "      <td>0.272623</td>\n",
       "      <td>0.891081</td>\n",
       "      <td>0.210000</td>\n",
       "    </tr>\n",
       "    <tr>\n",
       "      <th>91</th>\n",
       "      <td>0.282042</td>\n",
       "      <td>0.896216</td>\n",
       "      <td>0.200000</td>\n",
       "    </tr>\n",
       "    <tr>\n",
       "      <th>92</th>\n",
       "      <td>0.290669</td>\n",
       "      <td>0.902973</td>\n",
       "      <td>0.190000</td>\n",
       "    </tr>\n",
       "    <tr>\n",
       "      <th>93</th>\n",
       "      <td>0.300528</td>\n",
       "      <td>0.908919</td>\n",
       "      <td>0.180000</td>\n",
       "    </tr>\n",
       "    <tr>\n",
       "      <th>94</th>\n",
       "      <td>0.309419</td>\n",
       "      <td>0.916216</td>\n",
       "      <td>0.170000</td>\n",
       "    </tr>\n",
       "    <tr>\n",
       "      <th>95</th>\n",
       "      <td>0.320511</td>\n",
       "      <td>0.920811</td>\n",
       "      <td>0.160000</td>\n",
       "    </tr>\n",
       "    <tr>\n",
       "      <th>96</th>\n",
       "      <td>0.332394</td>\n",
       "      <td>0.925135</td>\n",
       "      <td>0.150000</td>\n",
       "    </tr>\n",
       "    <tr>\n",
       "      <th>97</th>\n",
       "      <td>0.345158</td>\n",
       "      <td>0.931622</td>\n",
       "      <td>0.140000</td>\n",
       "    </tr>\n",
       "    <tr>\n",
       "      <th>98</th>\n",
       "      <td>0.356954</td>\n",
       "      <td>0.938378</td>\n",
       "      <td>0.130000</td>\n",
       "    </tr>\n",
       "    <tr>\n",
       "      <th>99</th>\n",
       "      <td>0.370158</td>\n",
       "      <td>0.943514</td>\n",
       "      <td>0.120000</td>\n",
       "    </tr>\n",
       "    <tr>\n",
       "      <th>100</th>\n",
       "      <td>0.383715</td>\n",
       "      <td>0.949189</td>\n",
       "      <td>0.110000</td>\n",
       "    </tr>\n",
       "    <tr>\n",
       "      <th>101</th>\n",
       "      <td>0.400704</td>\n",
       "      <td>0.952973</td>\n",
       "      <td>0.100000</td>\n",
       "    </tr>\n",
       "    <tr>\n",
       "      <th>102</th>\n",
       "      <td>0.419366</td>\n",
       "      <td>0.957838</td>\n",
       "      <td>0.090000</td>\n",
       "    </tr>\n",
       "    <tr>\n",
       "      <th>103</th>\n",
       "      <td>0.440141</td>\n",
       "      <td>0.960541</td>\n",
       "      <td>0.080000</td>\n",
       "    </tr>\n",
       "    <tr>\n",
       "      <th>104</th>\n",
       "      <td>0.461444</td>\n",
       "      <td>0.965135</td>\n",
       "      <td>0.070000</td>\n",
       "    </tr>\n",
       "    <tr>\n",
       "      <th>105</th>\n",
       "      <td>0.485299</td>\n",
       "      <td>0.969730</td>\n",
       "      <td>0.060000</td>\n",
       "    </tr>\n",
       "    <tr>\n",
       "      <th>106</th>\n",
       "      <td>0.513204</td>\n",
       "      <td>0.974865</td>\n",
       "      <td>0.050000</td>\n",
       "    </tr>\n",
       "    <tr>\n",
       "      <th>107</th>\n",
       "      <td>0.544454</td>\n",
       "      <td>0.981351</td>\n",
       "      <td>0.040000</td>\n",
       "    </tr>\n",
       "    <tr>\n",
       "      <th>108</th>\n",
       "      <td>0.583275</td>\n",
       "      <td>0.985405</td>\n",
       "      <td>0.030000</td>\n",
       "    </tr>\n",
       "    <tr>\n",
       "      <th>109</th>\n",
       "      <td>0.634859</td>\n",
       "      <td>0.990270</td>\n",
       "      <td>0.020000</td>\n",
       "    </tr>\n",
       "    <tr>\n",
       "      <th>110</th>\n",
       "      <td>0.724120</td>\n",
       "      <td>0.993784</td>\n",
       "      <td>0.010000</td>\n",
       "    </tr>\n",
       "    <tr>\n",
       "      <th>111</th>\n",
       "      <td>1.000000</td>\n",
       "      <td>1.000000</td>\n",
       "      <td>0.000000</td>\n",
       "    </tr>\n",
       "  </tbody>\n",
       "</table>\n",
       "</div>"
      ],
      "text/plain": [
       "          fpr       tpr  thresholds\n",
       "0    0.000000  0.000000    2.000000\n",
       "1    0.000704  0.050811    1.000000\n",
       "2    0.001673  0.097027    0.990000\n",
       "3    0.002113  0.129189    0.980000\n",
       "4    0.003697  0.157568    0.970000\n",
       "5    0.005018  0.181351    0.960000\n",
       "6    0.006602  0.205135    0.950000\n",
       "7    0.007218  0.222162    0.940000\n",
       "8    0.008275  0.239730    0.930000\n",
       "9    0.009419  0.257297    0.920000\n",
       "10   0.011532  0.272162    0.910000\n",
       "11   0.013028  0.288108    0.900000\n",
       "12   0.014261  0.304324    0.890000\n",
       "13   0.016725  0.318378    0.880000\n",
       "14   0.018486  0.333243    0.870000\n",
       "15   0.020070  0.347297    0.860000\n",
       "16   0.022359  0.360811    0.850000\n",
       "17   0.024208  0.371892    0.840000\n",
       "18   0.026496  0.383784    0.830000\n",
       "19   0.028257  0.392973    0.820000\n",
       "20   0.030018  0.404054    0.810000\n",
       "21   0.032042  0.417027    0.800000\n",
       "22   0.033539  0.430000    0.790000\n",
       "23   0.035739  0.437838    0.780000\n",
       "24   0.037764  0.449730    0.770000\n",
       "25   0.039613  0.459730    0.760000\n",
       "26   0.041725  0.471351    0.750000\n",
       "27   0.043574  0.481892    0.740000\n",
       "28   0.046391  0.491351    0.730000\n",
       "29   0.048415  0.497568    0.720000\n",
       "30   0.050880  0.508919    0.710000\n",
       "31   0.050880  0.509189    0.700833\n",
       "32   0.052641  0.517568    0.700000\n",
       "33   0.055018  0.527027    0.690000\n",
       "34   0.057482  0.535676    0.680000\n",
       "35   0.059859  0.541351    0.670000\n",
       "36   0.059859  0.541622    0.665000\n",
       "37   0.062676  0.552703    0.660000\n",
       "38   0.065581  0.563784    0.650000\n",
       "39   0.065669  0.563784    0.642000\n",
       "40   0.068398  0.574054    0.640000\n",
       "41   0.071215  0.583784    0.630000\n",
       "42   0.073504  0.589459    0.620000\n",
       "43   0.073592  0.589459    0.610667\n",
       "44   0.077113  0.600000    0.610000\n",
       "45   0.080722  0.609459    0.600000\n",
       "46   0.083363  0.616216    0.590000\n",
       "47   0.083451  0.616216    0.587500\n",
       "48   0.086180  0.624054    0.580000\n",
       "49   0.086180  0.624324    0.575833\n",
       "50   0.089437  0.632162    0.570000\n",
       "51   0.092254  0.639189    0.560000\n",
       "52   0.095335  0.648649    0.550000\n",
       "53   0.095423  0.648649    0.548643\n",
       "54   0.098415  0.655405    0.540000\n",
       "55   0.102377  0.661351    0.530000\n",
       "56   0.102377  0.661622    0.524667\n",
       "57   0.106338  0.668649    0.520000\n",
       "58   0.106338  0.668919    0.515000\n",
       "59   0.110035  0.678378    0.510000\n",
       "60   0.113468  0.687027    0.500000\n",
       "61   0.117165  0.694324    0.490000\n",
       "62   0.121567  0.701892    0.480000\n",
       "63   0.125176  0.708649    0.470000\n",
       "64   0.129313  0.715676    0.460000\n",
       "65   0.134419  0.724595    0.450000\n",
       "66   0.139525  0.730541    0.440000\n",
       "67   0.143486  0.737838    0.430000\n",
       "68   0.147447  0.745676    0.420000\n",
       "69   0.147535  0.745676    0.417500\n",
       "70   0.151232  0.753243    0.410000\n",
       "71   0.156426  0.760541    0.400000\n",
       "72   0.160651  0.768108    0.390000\n",
       "73   0.164789  0.775946    0.380000\n",
       "74   0.170246  0.782703    0.370000\n",
       "75   0.175616  0.789730    0.360000\n",
       "76   0.180194  0.794595    0.350000\n",
       "77   0.185651  0.801351    0.340000\n",
       "78   0.190933  0.806216    0.330000\n",
       "79   0.196831  0.815405    0.320000\n",
       "80   0.202817  0.818919    0.310000\n",
       "81   0.208363  0.827568    0.300000\n",
       "82   0.215141  0.836486    0.290000\n",
       "83   0.222359  0.841351    0.280000\n",
       "84   0.228345  0.849730    0.270000\n",
       "85   0.234947  0.855405    0.260000\n",
       "86   0.241197  0.861622    0.250000\n",
       "87   0.250352  0.867297    0.240000\n",
       "88   0.258363  0.874595    0.230000\n",
       "89   0.265317  0.881622    0.220000\n",
       "90   0.272623  0.891081    0.210000\n",
       "91   0.282042  0.896216    0.200000\n",
       "92   0.290669  0.902973    0.190000\n",
       "93   0.300528  0.908919    0.180000\n",
       "94   0.309419  0.916216    0.170000\n",
       "95   0.320511  0.920811    0.160000\n",
       "96   0.332394  0.925135    0.150000\n",
       "97   0.345158  0.931622    0.140000\n",
       "98   0.356954  0.938378    0.130000\n",
       "99   0.370158  0.943514    0.120000\n",
       "100  0.383715  0.949189    0.110000\n",
       "101  0.400704  0.952973    0.100000\n",
       "102  0.419366  0.957838    0.090000\n",
       "103  0.440141  0.960541    0.080000\n",
       "104  0.461444  0.965135    0.070000\n",
       "105  0.485299  0.969730    0.060000\n",
       "106  0.513204  0.974865    0.050000\n",
       "107  0.544454  0.981351    0.040000\n",
       "108  0.583275  0.985405    0.030000\n",
       "109  0.634859  0.990270    0.020000\n",
       "110  0.724120  0.993784    0.010000\n",
       "111  1.000000  1.000000    0.000000"
      ]
     },
     "execution_count": 59,
     "metadata": {},
     "output_type": "execute_result"
    }
   ],
   "source": [
    "# NOTE: true positive rate = recall\n",
    "#      false positive rate = out of all times it was actually negative, what % were FPs?\n",
    "\n",
    "pd.set_option('display.max_rows', 120)\n",
    "pd.DataFrame.from_dict({'fpr': fpr, 'tpr': tpr, 'thresholds': thresholds})"
   ]
  },
  {
   "cell_type": "markdown",
   "metadata": {},
   "source": [
    "---\n",
    "<a id=\"next\"></a>\n",
    "# Next Steps - Possible Ideas\n",
    "\n",
    "+ Instead of only comparing models using Recall, try using AUC instead. This makes sense because AUC measures how far apart the two classes are in \"model space\". We ultimately want the classes to be very distinct from each other, so that should work better than just optimizing for Recall alone.\n",
    "+ We did not attempt to optimize the random forest model. So, we are missing obvious sources of improvement.\n",
    "\n",
    "    + Immediately, we notice that the random forest model overfits. So, we would want to try pruning the trees or making them have less depth to begin with. We could also use CV to adjust some parameters, since we are given a validation set from the beginning!\n",
    "\n",
    "+ We relied on the test set exclusively for estimating OOS performance. Instead, it would be nice to get a more accurate estimate with error bounds by using CV.\n",
    "+ Ideally, to productionalize this we would have it output a CSV with a list of the customers predicted to make >50K.\n",
    "+ Apply results from the EDA to improve the model. For example, removing non-correlated columns or log-transforming the results might improve the usability of the features.\n"
   ]
  },
  {
   "cell_type": "markdown",
   "metadata": {},
   "source": [
    "So far, I would choose random forest with the slight improvement from oversampling."
   ]
  }
 ],
 "metadata": {
  "kernelspec": {
   "display_name": "Python 3",
   "language": "python",
   "name": "python3"
  },
  "language_info": {
   "codemirror_mode": {
    "name": "ipython",
    "version": 3
   },
   "file_extension": ".py",
   "mimetype": "text/x-python",
   "name": "python",
   "nbconvert_exporter": "python",
   "pygments_lexer": "ipython3",
   "version": "3.8.5"
  }
 },
 "nbformat": 4,
 "nbformat_minor": 4
}
