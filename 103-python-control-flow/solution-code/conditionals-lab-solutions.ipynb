{
 "cells": [
  {
   "cell_type": "markdown",
   "metadata": {},
   "source": [
    "![](https://ga-dash.s3.amazonaws.com/production/assets/logo-9f88ae6c9c3871690e33280fcf557f33.png) \n",
    "\n",
    "# Python Fundamentals 2: Conditionals Lab"
   ]
  },
  {
   "cell_type": "markdown",
   "metadata": {},
   "source": [
    "In this lab, you're going to write code to solve a few problems.\n",
    "\n",
    "You will practice these programming concepts we covered in class:\n",
    "* Declaring and using variables.\n",
    "* Using mathematical operators.\n",
    "* Implementing Python conditionals: `if`, `elif`, and `else`.\n",
    "\n",
    "---\n",
    "\n",
    "# Part 1: Mini-Quiz"
   ]
  },
  {
   "cell_type": "markdown",
   "metadata": {},
   "source": [
    "1. True or false: An `if` keyword can live without an `else` keyword. \n",
    "**TRUE**\n",
    "\n",
    "2. True or false: An `else` keyword can live without an `if` keyword. \n",
    "**FALSE**\n",
    "\n",
    "3. True or false: An `elif` keyword can live without an `if` keyword. \n",
    "**FALSE**\n",
    "    \n",
    "4. True or false: An `if` + `elif` keyword can live without an `else` keyword. \n",
    "**TRUE**\n",
    "\n",
    "5. True or false: The following statements are equivalent. \n",
    "**FALSE (try `a = 1`)**. The first asks whether `a` is the object `True`. The second implicitly converts `a` into a boolean first (i.e. `bool(a)`).\n",
    "\n",
    "```python\n",
    "if a == True:\n",
    "    print(\"Hi!\")\n",
    "```\n",
    "\n",
    "```python\n",
    "if a:\n",
    "    print(\"Hi!\")\n",
    "```\n",
    "\n",
    "6. In the following code, what prints? \n",
    "**1<br>2<br>4<br>7<br>8<br>9**\n",
    "\n",
    "```python\n",
    "a = True\n",
    "b = True\n",
    "c = False\n",
    "\n",
    "if a:\n",
    "    print(\"1\")\n",
    "\n",
    "if b:\n",
    "    print(\"2\")\n",
    "\n",
    "if c:\n",
    "    print(\"3\")\n",
    "\n",
    "if a and b:\n",
    "    print(\"4\")\n",
    "\n",
    "if a and c:\n",
    "    print(\"5\")\n",
    "\n",
    "if b and c:\n",
    "    print(\"6\")\n",
    "\n",
    "if a or b:\n",
    "    print(\"7\")\n",
    "\n",
    "if a or c:\n",
    "    print(\"8\")\n",
    "\n",
    "if b or c:\n",
    "    print(\"9\")\n",
    "```\n",
    "\n",
    "7. In the following code, what prints? \n",
    "**2**\n",
    "\n",
    "```python\n",
    "a = False\n",
    "b = True\n",
    "c = True\n",
    "\n",
    "if a:\n",
    "    print(\"1\")\n",
    "elif b:\n",
    "    print(\"2\")\n",
    "elif c:\n",
    "    print(\"3\")\n",
    "else:\n",
    "    print(\"4\")\n",
    "```"
   ]
  },
  {
   "cell_type": "code",
   "execution_count": 1,
   "metadata": {},
   "outputs": [],
   "source": []
  },
  {
   "cell_type": "markdown",
   "metadata": {},
   "source": [
    "# Part 2: Code Challenges"
   ]
  },
  {
   "cell_type": "markdown",
   "metadata": {},
   "source": [
    "## Problem 1: Most Clocks Are Normal, But Some Are Cuckoo!\n",
    "\n",
    "### Skill you're practicing: Writing conditionals.\n",
    "\n",
    "You're making a program for your coworkers that displays a message on their desktop's idle screen. Depending on the time of day, you want to print a different quote. You'll create a variable, `time`, which has an integer value between zero and 23, representing the hour of the day in [military time](https://www.thebalancecareers.com/military-time-3356971), which is a 24-hour clock. Write a conditional statement with Python code that prints exactly one message using the following rules:\n",
    "\n",
    "```\n",
    "If the time of day is before 9 a.m. --> print the quote \"Morning is wonderful. Its only drawback is that it comes at such an inconvenient time of day.\"\n",
    "\n",
    "Otherwise if the time of day is before or exactly 4 p.m. --> print the quote \"Working hard or hardly working?\"\n",
    "\n",
    "Otherwise, if the time of day is before 8 p.m. --> print the quote \"How did it get so late so soon?\"\n",
    "\n",
    "Otherwise if the time of day is before 10 p.m. --> print the quote \"A day without sunshine is like, you know, night.\"\n",
    "\n",
    "Otherwise, for any time 10 p.m. or later --> print the quote \"Burning the midnight oil!\"\n",
    "```"
   ]
  },
  {
   "cell_type": "code",
   "execution_count": 1,
   "metadata": {},
   "outputs": [
    {
     "name": "stdout",
     "output_type": "stream",
     "text": [
      "Morning is wonderful. Its only drawback is that it comes at such an inconvenient time of a day.\n"
     ]
    }
   ],
   "source": [
    "time = 8\n",
    "\n",
    "if time < 9:\n",
    "    print(\"Morning is wonderful. Its only drawback is that it comes at such an inconvenient time of a day.\")\n",
    "elif time <= 16:\n",
    "    print(\"Working hard or hardly working?\")\n",
    "elif time < 20:\n",
    "    print(\"How did it get so late so soon?\")\n",
    "elif time < 22:\n",
    "    print(\"A day without sunshine is like, you know, night.\")\n",
    "else:\n",
    "    print(\"Burning the midnight oil!\")"
   ]
  },
  {
   "cell_type": "markdown",
   "metadata": {},
   "source": [
    "> **Hint:** Test your code with different values for time of day. Make sure you are only printing one statement, regardless of the value of `time`!"
   ]
  },
  {
   "cell_type": "markdown",
   "metadata": {},
   "source": [
    "---\n",
    "\n",
    "## Problem 2: I Came, I 'Saur, I Conquered\n",
    "\n",
    "### Skill you're practicing: Writing conditionals with multiple conditions.\n",
    "\n",
    "For this problem, put your solution into a file called `problem2.py`.\n",
    "\n",
    "The mighty Tyrannosaurus rex is the king of dinosaurs, and he does whatever he pleases. When he's hungry, he eats. When he's angry, he fights. When he's bored, he roars. When he's tired, he sleeps! Write a conditional statement that selects one of the following actions for T-Rex based on his current mood. T-Rex's actions are ordered by precedence:\n",
    "\n",
    "```\n",
    "If T-Rex is angry, hungry, and bored he will eat the Triceratops.\n",
    "Otherwise if T-Rex is tired and hungry, he will eat the Iguanadon.\n",
    "Otherwise if T-Rex is hungry and bored, he will eat the Stegasaurus.\n",
    "Otherwise if T-Rex is tired, he goes to sleep.\n",
    "Otherwise if T-Rex is angry and bored, he will fight with the Velociraptor.\n",
    "Otherwise if T-Rex is angry or bored, he roars.\n",
    "Otherwise T-Rex gives a toothy smile.\n",
    "```"
   ]
  },
  {
   "cell_type": "code",
   "execution_count": 2,
   "metadata": {},
   "outputs": [
    {
     "name": "stdout",
     "output_type": "stream",
     "text": [
      "T-Rex fights with the Velociraptor\n"
     ]
    }
   ],
   "source": [
    "angry = True\n",
    "bored = True\n",
    "hungry = False\n",
    "tired = False\n",
    "\n",
    "# Example if statement\n",
    "if angry and hungry and bored:\n",
    "    print(\"T-Rex eats the Triceratops!\")\n",
    "elif tired and hungry:\n",
    "    print(\"T-Rex eats the Iguanadon\")\n",
    "elif hungry and bored:\n",
    "    print(\"T-Rex eats the Stegasaurus\")\n",
    "elif tired:\n",
    "    print(\"T-Rex goes to sleep.\")\n",
    "elif angry and bored:\n",
    "    print(\"T-Rex fights with the Velociraptor\")\n",
    "elif angry or bored:\n",
    "    print(\"T-Rex roars! RAWR!\")\n",
    "else:\n",
    "    print(\"T-Rex gives a toothy smile.\")"
   ]
  },
  {
   "cell_type": "code",
   "execution_count": null,
   "metadata": {},
   "outputs": [],
   "source": []
  }
 ],
 "metadata": {
  "kernelspec": {
   "display_name": "Python 3",
   "language": "python",
   "name": "python3"
  },
  "language_info": {
   "codemirror_mode": {
    "name": "ipython",
    "version": 3
   },
   "file_extension": ".py",
   "mimetype": "text/x-python",
   "name": "python",
   "nbconvert_exporter": "python",
   "pygments_lexer": "ipython3",
   "version": "3.8.5"
  }
 },
 "nbformat": 4,
 "nbformat_minor": 4
}
