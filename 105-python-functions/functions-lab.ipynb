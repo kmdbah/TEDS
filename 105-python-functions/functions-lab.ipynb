{
 "cells": [
  {
   "cell_type": "markdown",
   "metadata": {},
   "source": [
    "<img src=\"http://imgur.com/1ZcRyrc.png\" style=\"float: left; margin: 20px\" width=\"50\" height=\"50\">\n",
    "\n",
    "# Python Fundamentals 4: Functions Lab"
   ]
  },
  {
   "cell_type": "markdown",
   "metadata": {},
   "source": [
    "---\n",
    "### Exercise 1\n",
    "\n",
    "Write a function that takes the base and height of a triangle and RETURNS the area."
   ]
  },
  {
   "cell_type": "code",
   "execution_count": null,
   "metadata": {},
   "outputs": [],
   "source": [
    "def triangle_area(b,h):\n",
    "    return b * h * 0.5\n",
    "\n",
    "assert triangle_area(b,h) = "
   ]
  },
  {
   "cell_type": "markdown",
   "metadata": {},
   "source": [
    "---\n",
    "### Exercise 2\n",
    "\n",
    "Write a function that takes a list of animals and PRINTS them each out in all capital letters."
   ]
  },
  {
   "cell_type": "code",
   "execution_count": null,
   "metadata": {},
   "outputs": [],
   "source": []
  },
  {
   "cell_type": "markdown",
   "metadata": {},
   "source": [
    "---\n",
    "### Exercise 3\n",
    "\n",
    "Write a function that takes a string as an argument and RETURNS the number of\n",
    "vowels in that string."
   ]
  },
  {
   "cell_type": "code",
   "execution_count": null,
   "metadata": {},
   "outputs": [],
   "source": []
  },
  {
   "cell_type": "markdown",
   "metadata": {},
   "source": [
    "---\n",
    "### Exercise 4\n",
    "Write a function that takes a string of words and RETURNS them capitalized as if they were a title. You may not use .title(). \n",
    "\n",
    "_Example:_ \n",
    "- \"united states of america\" --> \"United States Of America\""
   ]
  },
  {
   "cell_type": "code",
   "execution_count": 8,
   "metadata": {},
   "outputs": [
    {
     "name": "stdout",
     "output_type": "stream",
     "text": [
      "United States Of America\n"
     ]
    }
   ],
   "source": [
    "def titler(sstring):\n",
    "    chunks = sstring.split()\n",
    "    caps = []\n",
    "    for chunk in chunks:\n",
    "        caps.append(chunk.capitalize())\n",
    "    return ' '.join(caps)\n",
    "\n",
    "print(titler('united states of america'))"
   ]
  },
  {
   "cell_type": "markdown",
   "metadata": {},
   "source": [
    "---\n",
    "### Exercise 5\n",
    "\n",
    "Write a function that takes a string of words and RETURNS the letters of each word reversed, but the words are still in the same order.\n",
    "\n",
    "_Example:_ \n",
    "- \"United States of America\" --> \"detinU setatS fO aciremA\""
   ]
  },
  {
   "cell_type": "code",
   "execution_count": 10,
   "metadata": {},
   "outputs": [
    {
     "name": "stdout",
     "output_type": "stream",
     "text": [
      "detinU setatS fO aciremA\n"
     ]
    }
   ],
   "source": [
    "def reverser(sstring):\n",
    "    chunks = sstring.split()\n",
    "    caps = []\n",
    "    for chunk in chunks:\n",
    "        caps.append(chunk[::-1])\n",
    "    return ' '.join(caps)\n",
    "\n",
    "print(reverser('United States Of America'))"
   ]
  },
  {
   "cell_type": "markdown",
   "metadata": {},
   "source": [
    "---\n",
    "### Exercise 6\n",
    "\n",
    "Write a function that plays \"99 Bottles of Beer\".\n",
    "\n",
    "_Example:_ The function should PRINT something like:\n",
    " \n",
    "```\n",
    "99 bottles of beer on the wall, 99 bottles of beer.\n",
    "Take one down, pass it around, 98 bottles of beer on the wall...\n",
    "...\n",
    "1 bottle of beer on the wall, 1 bottle of beer.\n",
    "Take one down, pass it around, no more bottles of beer on the wall...\n",
    "No more bottles of beer on the wall, no more bottles of beer.\n",
    "We've taken them down and passed them around; now we're drunk and passed out!\n",
    "```\n",
    "\n",
    "> NOTE: Remember to take grammar into account here! No \"1 bottles\" of beer."
   ]
  },
  {
   "cell_type": "code",
   "execution_count": 33,
   "metadata": {},
   "outputs": [
    {
     "name": "stdout",
     "output_type": "stream",
     "text": [
      "99 bottles of beer on the wall, 99 bottles of beer,\n",
      "Take one down, pass it around, 98 bottles of beer on the wall...\n",
      "98 bottles of beer on the wall, 98 bottles of beer,\n",
      "Take one down, pass it around, 97 bottles of beer on the wall...\n",
      "97 bottles of beer on the wall, 97 bottles of beer,\n",
      "Take one down, pass it around, 96 bottles of beer on the wall...\n",
      "96 bottles of beer on the wall, 96 bottles of beer,\n",
      "Take one down, pass it around, 95 bottles of beer on the wall...\n",
      "95 bottles of beer on the wall, 95 bottles of beer,\n",
      "Take one down, pass it around, 94 bottles of beer on the wall...\n",
      "94 bottles of beer on the wall, 94 bottles of beer,\n",
      "Take one down, pass it around, 93 bottles of beer on the wall...\n",
      "93 bottles of beer on the wall, 93 bottles of beer,\n",
      "Take one down, pass it around, 92 bottles of beer on the wall...\n",
      "92 bottles of beer on the wall, 92 bottles of beer,\n",
      "Take one down, pass it around, 91 bottles of beer on the wall...\n",
      "91 bottles of beer on the wall, 91 bottles of beer,\n",
      "Take one down, pass it around, 90 bottles of beer on the wall...\n",
      "90 bottles of beer on the wall, 90 bottles of beer,\n",
      "Take one down, pass it around, 89 bottles of beer on the wall...\n",
      "89 bottles of beer on the wall, 89 bottles of beer,\n",
      "Take one down, pass it around, 88 bottles of beer on the wall...\n",
      "88 bottles of beer on the wall, 88 bottles of beer,\n",
      "Take one down, pass it around, 87 bottles of beer on the wall...\n",
      "87 bottles of beer on the wall, 87 bottles of beer,\n",
      "Take one down, pass it around, 86 bottles of beer on the wall...\n",
      "86 bottles of beer on the wall, 86 bottles of beer,\n",
      "Take one down, pass it around, 85 bottles of beer on the wall...\n",
      "85 bottles of beer on the wall, 85 bottles of beer,\n",
      "Take one down, pass it around, 84 bottles of beer on the wall...\n",
      "84 bottles of beer on the wall, 84 bottles of beer,\n",
      "Take one down, pass it around, 83 bottles of beer on the wall...\n",
      "83 bottles of beer on the wall, 83 bottles of beer,\n",
      "Take one down, pass it around, 82 bottles of beer on the wall...\n",
      "82 bottles of beer on the wall, 82 bottles of beer,\n",
      "Take one down, pass it around, 81 bottles of beer on the wall...\n",
      "81 bottles of beer on the wall, 81 bottles of beer,\n",
      "Take one down, pass it around, 80 bottles of beer on the wall...\n",
      "80 bottles of beer on the wall, 80 bottles of beer,\n",
      "Take one down, pass it around, 79 bottles of beer on the wall...\n",
      "79 bottles of beer on the wall, 79 bottles of beer,\n",
      "Take one down, pass it around, 78 bottles of beer on the wall...\n",
      "78 bottles of beer on the wall, 78 bottles of beer,\n",
      "Take one down, pass it around, 77 bottles of beer on the wall...\n",
      "77 bottles of beer on the wall, 77 bottles of beer,\n",
      "Take one down, pass it around, 76 bottles of beer on the wall...\n",
      "76 bottles of beer on the wall, 76 bottles of beer,\n",
      "Take one down, pass it around, 75 bottles of beer on the wall...\n",
      "75 bottles of beer on the wall, 75 bottles of beer,\n",
      "Take one down, pass it around, 74 bottles of beer on the wall...\n",
      "74 bottles of beer on the wall, 74 bottles of beer,\n",
      "Take one down, pass it around, 73 bottles of beer on the wall...\n",
      "73 bottles of beer on the wall, 73 bottles of beer,\n",
      "Take one down, pass it around, 72 bottles of beer on the wall...\n",
      "72 bottles of beer on the wall, 72 bottles of beer,\n",
      "Take one down, pass it around, 71 bottles of beer on the wall...\n",
      "71 bottles of beer on the wall, 71 bottles of beer,\n",
      "Take one down, pass it around, 70 bottles of beer on the wall...\n",
      "70 bottles of beer on the wall, 70 bottles of beer,\n",
      "Take one down, pass it around, 69 bottles of beer on the wall...\n",
      "69 bottles of beer on the wall, 69 bottles of beer,\n",
      "Take one down, pass it around, 68 bottles of beer on the wall...\n",
      "68 bottles of beer on the wall, 68 bottles of beer,\n",
      "Take one down, pass it around, 67 bottles of beer on the wall...\n",
      "67 bottles of beer on the wall, 67 bottles of beer,\n",
      "Take one down, pass it around, 66 bottles of beer on the wall...\n",
      "66 bottles of beer on the wall, 66 bottles of beer,\n",
      "Take one down, pass it around, 65 bottles of beer on the wall...\n",
      "65 bottles of beer on the wall, 65 bottles of beer,\n",
      "Take one down, pass it around, 64 bottles of beer on the wall...\n",
      "64 bottles of beer on the wall, 64 bottles of beer,\n",
      "Take one down, pass it around, 63 bottles of beer on the wall...\n",
      "63 bottles of beer on the wall, 63 bottles of beer,\n",
      "Take one down, pass it around, 62 bottles of beer on the wall...\n",
      "62 bottles of beer on the wall, 62 bottles of beer,\n",
      "Take one down, pass it around, 61 bottles of beer on the wall...\n",
      "61 bottles of beer on the wall, 61 bottles of beer,\n",
      "Take one down, pass it around, 60 bottles of beer on the wall...\n",
      "60 bottles of beer on the wall, 60 bottles of beer,\n",
      "Take one down, pass it around, 59 bottles of beer on the wall...\n",
      "59 bottles of beer on the wall, 59 bottles of beer,\n",
      "Take one down, pass it around, 58 bottles of beer on the wall...\n",
      "58 bottles of beer on the wall, 58 bottles of beer,\n",
      "Take one down, pass it around, 57 bottles of beer on the wall...\n",
      "57 bottles of beer on the wall, 57 bottles of beer,\n",
      "Take one down, pass it around, 56 bottles of beer on the wall...\n",
      "56 bottles of beer on the wall, 56 bottles of beer,\n",
      "Take one down, pass it around, 55 bottles of beer on the wall...\n",
      "55 bottles of beer on the wall, 55 bottles of beer,\n",
      "Take one down, pass it around, 54 bottles of beer on the wall...\n",
      "54 bottles of beer on the wall, 54 bottles of beer,\n",
      "Take one down, pass it around, 53 bottles of beer on the wall...\n",
      "53 bottles of beer on the wall, 53 bottles of beer,\n",
      "Take one down, pass it around, 52 bottles of beer on the wall...\n",
      "52 bottles of beer on the wall, 52 bottles of beer,\n",
      "Take one down, pass it around, 51 bottles of beer on the wall...\n",
      "51 bottles of beer on the wall, 51 bottles of beer,\n",
      "Take one down, pass it around, 50 bottles of beer on the wall...\n",
      "50 bottles of beer on the wall, 50 bottles of beer,\n",
      "Take one down, pass it around, 49 bottles of beer on the wall...\n",
      "49 bottles of beer on the wall, 49 bottles of beer,\n",
      "Take one down, pass it around, 48 bottles of beer on the wall...\n",
      "48 bottles of beer on the wall, 48 bottles of beer,\n",
      "Take one down, pass it around, 47 bottles of beer on the wall...\n",
      "47 bottles of beer on the wall, 47 bottles of beer,\n",
      "Take one down, pass it around, 46 bottles of beer on the wall...\n",
      "46 bottles of beer on the wall, 46 bottles of beer,\n",
      "Take one down, pass it around, 45 bottles of beer on the wall...\n",
      "45 bottles of beer on the wall, 45 bottles of beer,\n",
      "Take one down, pass it around, 44 bottles of beer on the wall...\n",
      "44 bottles of beer on the wall, 44 bottles of beer,\n",
      "Take one down, pass it around, 43 bottles of beer on the wall...\n",
      "43 bottles of beer on the wall, 43 bottles of beer,\n",
      "Take one down, pass it around, 42 bottles of beer on the wall...\n",
      "42 bottles of beer on the wall, 42 bottles of beer,\n",
      "Take one down, pass it around, 41 bottles of beer on the wall...\n",
      "41 bottles of beer on the wall, 41 bottles of beer,\n",
      "Take one down, pass it around, 40 bottles of beer on the wall...\n",
      "40 bottles of beer on the wall, 40 bottles of beer,\n",
      "Take one down, pass it around, 39 bottles of beer on the wall...\n",
      "39 bottles of beer on the wall, 39 bottles of beer,\n",
      "Take one down, pass it around, 38 bottles of beer on the wall...\n",
      "38 bottles of beer on the wall, 38 bottles of beer,\n",
      "Take one down, pass it around, 37 bottles of beer on the wall...\n",
      "37 bottles of beer on the wall, 37 bottles of beer,\n",
      "Take one down, pass it around, 36 bottles of beer on the wall...\n",
      "36 bottles of beer on the wall, 36 bottles of beer,\n",
      "Take one down, pass it around, 35 bottles of beer on the wall...\n",
      "35 bottles of beer on the wall, 35 bottles of beer,\n",
      "Take one down, pass it around, 34 bottles of beer on the wall...\n",
      "34 bottles of beer on the wall, 34 bottles of beer,\n",
      "Take one down, pass it around, 33 bottles of beer on the wall...\n",
      "33 bottles of beer on the wall, 33 bottles of beer,\n",
      "Take one down, pass it around, 32 bottles of beer on the wall...\n",
      "32 bottles of beer on the wall, 32 bottles of beer,\n",
      "Take one down, pass it around, 31 bottles of beer on the wall...\n",
      "31 bottles of beer on the wall, 31 bottles of beer,\n",
      "Take one down, pass it around, 30 bottles of beer on the wall...\n",
      "30 bottles of beer on the wall, 30 bottles of beer,\n",
      "Take one down, pass it around, 29 bottles of beer on the wall...\n",
      "29 bottles of beer on the wall, 29 bottles of beer,\n",
      "Take one down, pass it around, 28 bottles of beer on the wall...\n",
      "28 bottles of beer on the wall, 28 bottles of beer,\n",
      "Take one down, pass it around, 27 bottles of beer on the wall...\n",
      "27 bottles of beer on the wall, 27 bottles of beer,\n",
      "Take one down, pass it around, 26 bottles of beer on the wall...\n",
      "26 bottles of beer on the wall, 26 bottles of beer,\n",
      "Take one down, pass it around, 25 bottles of beer on the wall...\n",
      "25 bottles of beer on the wall, 25 bottles of beer,\n",
      "Take one down, pass it around, 24 bottles of beer on the wall...\n",
      "24 bottles of beer on the wall, 24 bottles of beer,\n",
      "Take one down, pass it around, 23 bottles of beer on the wall...\n",
      "23 bottles of beer on the wall, 23 bottles of beer,\n",
      "Take one down, pass it around, 22 bottles of beer on the wall...\n",
      "22 bottles of beer on the wall, 22 bottles of beer,\n",
      "Take one down, pass it around, 21 bottles of beer on the wall...\n",
      "21 bottles of beer on the wall, 21 bottles of beer,\n",
      "Take one down, pass it around, 20 bottles of beer on the wall...\n",
      "20 bottles of beer on the wall, 20 bottles of beer,\n",
      "Take one down, pass it around, 19 bottles of beer on the wall...\n",
      "19 bottles of beer on the wall, 19 bottles of beer,\n",
      "Take one down, pass it around, 18 bottles of beer on the wall...\n",
      "18 bottles of beer on the wall, 18 bottles of beer,\n",
      "Take one down, pass it around, 17 bottles of beer on the wall...\n",
      "17 bottles of beer on the wall, 17 bottles of beer,\n",
      "Take one down, pass it around, 16 bottles of beer on the wall...\n",
      "16 bottles of beer on the wall, 16 bottles of beer,\n",
      "Take one down, pass it around, 15 bottles of beer on the wall...\n",
      "15 bottles of beer on the wall, 15 bottles of beer,\n",
      "Take one down, pass it around, 14 bottles of beer on the wall...\n",
      "14 bottles of beer on the wall, 14 bottles of beer,\n",
      "Take one down, pass it around, 13 bottles of beer on the wall...\n",
      "13 bottles of beer on the wall, 13 bottles of beer,\n",
      "Take one down, pass it around, 12 bottles of beer on the wall...\n",
      "12 bottles of beer on the wall, 12 bottles of beer,\n",
      "Take one down, pass it around, 11 bottles of beer on the wall...\n",
      "11 bottles of beer on the wall, 11 bottles of beer,\n",
      "Take one down, pass it around, 10 bottles of beer on the wall...\n",
      "10 bottles of beer on the wall, 10 bottles of beer,\n",
      "Take one down, pass it around, 9 bottles of beer on the wall...\n",
      "9 bottles of beer on the wall, 9 bottles of beer,\n",
      "Take one down, pass it around, 8 bottles of beer on the wall...\n",
      "8 bottles of beer on the wall, 8 bottles of beer,\n",
      "Take one down, pass it around, 7 bottles of beer on the wall...\n",
      "7 bottles of beer on the wall, 7 bottles of beer,\n",
      "Take one down, pass it around, 6 bottles of beer on the wall...\n",
      "6 bottles of beer on the wall, 6 bottles of beer,\n",
      "Take one down, pass it around, 5 bottles of beer on the wall...\n",
      "5 bottles of beer on the wall, 5 bottles of beer,\n",
      "Take one down, pass it around, 4 bottles of beer on the wall...\n",
      "4 bottles of beer on the wall, 4 bottles of beer,\n",
      "Take one down, pass it around, 3 bottles of beer on the wall...\n",
      "3 bottles of beer on the wall, 3 bottles of beer,\n",
      "Take one down, pass it around, 2 bottles of beer on the wall...\n",
      "2 bottles of beer on the wall, 2 bottles of beer,\n",
      "Take one down, pass it around, 1 bottles of beer on the wall...\n",
      "1 bottle of beer on the wall, 1 bottle of beer,\n",
      "Take one down, pass it around, no more bottles of beer on the wall...\n",
      "No more bottles of beer on the wall, no more bottles of beer.\n",
      "We've taken them down and passed them around; now we're drunk and passed out!\n"
     ]
    }
   ],
   "source": [
    "for bottle in range(99,-1,-1):\n",
    "    if bottle >1:\n",
    "        print(f'{bottle} bottles of beer on the wall, {bottle} bottles of beer,\\nTake one down, pass it around, {bottle-1} bottles of beer on the wall...')\n",
    "    elif bottle == 1:\n",
    "        print(f'{bottle} bottle of beer on the wall, {bottle} bottle of beer,\\nTake one down, pass it around, no more bottles of beer on the wall...')\n",
    "    else:\n",
    "        print('No more bottles of beer on the wall, no more bottles of beer.\\nWe\\'ve taken them down and passed them around; now we\\'re drunk and passed out!')"
   ]
  },
  {
   "cell_type": "markdown",
   "metadata": {},
   "source": [
    "---\n",
    "### Exercise 7\n",
    "\n",
    "Write a Pig Latin translator. In Pig Latin, you take the first letter of each\n",
    "word and move it to the end. If it's a consonant, add \"ay\" to the end. If\n",
    "it's a vowel, add \"way\". For example:\n",
    "\n",
    "_Examples:_\n",
    "- \"data\" --> \"ataday\"\n",
    "- \"orange\" --> \"rangeoway\"\n",
    "\n",
    "\n",
    "\n"
   ]
  },
  {
   "cell_type": "code",
   "execution_count": 44,
   "metadata": {},
   "outputs": [
    {
     "name": "stdout",
     "output_type": "stream",
     "text": [
      "Ellohay ooklay taway ymay igpay atinlay entencesay\n"
     ]
    }
   ],
   "source": [
    "def pig_latin(eng_str):\n",
    "    engs = eng_str.split()\n",
    "    pigs = []\n",
    "    for word in engs:\n",
    "        if word[0] in ['a','e','i','o','u']:\n",
    "            pig = word[1::] + word[0].lower() + 'way'\n",
    "            pigs.append(pig)\n",
    "        else:\n",
    "            pig = word[1::] + word[0].lower() + 'ay'\n",
    "            pigs.append(pig)\n",
    "    return ' '.join(pigs).capitalize()\n",
    "\n",
    "print(pig_latin('Hello look at my pig latin sentence'))"
   ]
  },
  {
   "cell_type": "markdown",
   "metadata": {},
   "source": [
    "---\n",
    "### Exercise 8\n",
    "\n",
    "Write a function that takes in a string of words, or a list of strings, and\n",
    "prints them in a frame of asterisks. \n",
    "\n",
    "_Example:_\n",
    "\n",
    "```\n",
    "\"Hello world example\" -->\n",
    "\n",
    "***********\n",
    "* hello   *\n",
    "* world   *\n",
    "* example *\n",
    "***********\n",
    "```\n",
    "\n",
    "> The width of the frame should vary according to the longest word as shown above.\n"
   ]
  },
  {
   "cell_type": "code",
   "execution_count": 70,
   "metadata": {},
   "outputs": [
    {
     "name": "stdout",
     "output_type": "stream",
     "text": [
      "***********\n",
      "* hello   *\n",
      "* world   *\n",
      "* example *\n",
      "***********\n"
     ]
    }
   ],
   "source": [
    "def framer(fr_str):\n",
    "    words = fr_str.split()\n",
    "    box_wid = len(max(words, key=len))\n",
    "    print('*' * (box_wid + 4))\n",
    "    for word in words:\n",
    "        print('* ' + word + (' ' * (box_wid-len(word))) + ' *')\n",
    "    print('*' * (box_wid + 4))\n",
    "\n",
    "\n",
    "framer('hello world example')"
   ]
  },
  {
   "cell_type": "markdown",
   "metadata": {},
   "source": [
    "---\n",
    "### Exercise 9\n",
    "\n",
    "Write a function that computers the factorial of a given number. The factorial\n",
    "of a number n is the product of all the numbers 1 up to n.\n",
    "\n",
    "_Example:_ \n",
    "- factorial(5) --> 1 * 2 * 3 * 4 * 5 = 120\n",
    "\n"
   ]
  },
  {
   "cell_type": "code",
   "execution_count": 76,
   "metadata": {},
   "outputs": [
    {
     "data": {
      "text/plain": [
       "120"
      ]
     },
     "execution_count": 76,
     "metadata": {},
     "output_type": "execute_result"
    }
   ],
   "source": [
    "def factorial(num):\n",
    "    prod = 1\n",
    "    for mult in range(1,num+1):\n",
    "        prod = prod * mult\n",
    "    return prod\n",
    "\n",
    "factorial(5)\n",
    "    "
   ]
  },
  {
   "cell_type": "markdown",
   "metadata": {},
   "source": [
    "---\n",
    "### Exercise 10\n",
    "\n",
    "Write a function that gives the binomial combination of two numbers. This is\n",
    "computed as follows:\n",
    "\n",
    "`comb(n, k) = factorial(n) / (factorial(n - k) * factorial(k))`"
   ]
  },
  {
   "cell_type": "code",
   "execution_count": 80,
   "metadata": {},
   "outputs": [
    {
     "name": "stdout",
     "output_type": "stream",
     "text": [
      "120\n",
      "2\n",
      "6\n"
     ]
    },
    {
     "data": {
      "text/plain": [
       "10.0"
      ]
     },
     "execution_count": 80,
     "metadata": {},
     "output_type": "execute_result"
    }
   ],
   "source": [
    "def comb(n, k):\n",
    "    return factorial(n) / (factorial(n - k) * factorial(k))\n",
    "\n",
    "comb(5, 3)\n"
   ]
  },
  {
   "cell_type": "code",
   "execution_count": null,
   "metadata": {},
   "outputs": [],
   "source": []
  }
 ],
 "metadata": {
  "kernelspec": {
   "display_name": "Python 3",
   "language": "python",
   "name": "python3"
  },
  "language_info": {
   "codemirror_mode": {
    "name": "ipython",
    "version": 3
   },
   "file_extension": ".py",
   "mimetype": "text/x-python",
   "name": "python",
   "nbconvert_exporter": "python",
   "pygments_lexer": "ipython3",
   "version": "3.8.5"
  }
 },
 "nbformat": 4,
 "nbformat_minor": 4
}
