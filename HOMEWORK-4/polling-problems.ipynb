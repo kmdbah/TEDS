{
 "cells": [
  {
   "cell_type": "markdown",
   "metadata": {},
   "source": [
    "<img src=\"https://ga-dash.s3.amazonaws.com/production/assets/logo-9f88ae6c9c3871690e33280fcf557f33.png\" width=\"50\" height=\"50\">\n",
    "\n",
    "# Homework 4 - Political Polling"
   ]
  },
  {
   "cell_type": "markdown",
   "metadata": {},
   "source": [
    "## Part 0: Imports\n",
    "In the below cell, please import all modules you need. You may come back to this cell to add new modules you've discovered you might need. **The only way to get this part wrong is to have imports in later cells in this notebook**."
   ]
  },
  {
   "cell_type": "markdown",
   "metadata": {},
   "source": []
  },
  {
   "cell_type": "code",
   "execution_count": 51,
   "metadata": {},
   "outputs": [],
   "source": [
    "import pandas as pd\n",
    "import numpy as np\n",
    "import matplotlib.pyplot as plt\n",
    "from sklearn.ensemble import RandomForestRegressor\n",
    "import sklearn.metrics as mt\n",
    "from sklearn.model_selection import train_test_split\n",
    "from sklearn.linear_model import LinearRegression\n",
    "from sklearn.linear_model import LogisticRegression"
   ]
  },
  {
   "cell_type": "markdown",
   "metadata": {},
   "source": [
    "## Part 1: Read in data\n",
    "Explore it, too. Clean anything you need to."
   ]
  },
  {
   "cell_type": "code",
   "execution_count": 2,
   "metadata": {},
   "outputs": [
    {
     "data": {
      "text/html": [
       "<div>\n",
       "<style scoped>\n",
       "    .dataframe tbody tr th:only-of-type {\n",
       "        vertical-align: middle;\n",
       "    }\n",
       "\n",
       "    .dataframe tbody tr th {\n",
       "        vertical-align: top;\n",
       "    }\n",
       "\n",
       "    .dataframe thead th {\n",
       "        text-align: right;\n",
       "    }\n",
       "</style>\n",
       "<table border=\"1\" class=\"dataframe\">\n",
       "  <thead>\n",
       "    <tr style=\"text-align: right;\">\n",
       "      <th></th>\n",
       "      <th>response</th>\n",
       "      <th>ager</th>\n",
       "      <th>educ</th>\n",
       "      <th>file_race</th>\n",
       "      <th>gender</th>\n",
       "      <th>race_eth</th>\n",
       "      <th>approve</th>\n",
       "      <th>genballot</th>\n",
       "      <th>hdem_fav</th>\n",
       "      <th>hrep_fav</th>\n",
       "      <th>age_combined</th>\n",
       "      <th>educ4</th>\n",
       "      <th>file_party</th>\n",
       "      <th>gender_combined</th>\n",
       "      <th>likely</th>\n",
       "      <th>partyid</th>\n",
       "      <th>region</th>\n",
       "      <th>turnout_class</th>\n",
       "      <th>phone_type</th>\n",
       "    </tr>\n",
       "  </thead>\n",
       "  <tbody>\n",
       "    <tr>\n",
       "      <th>0</th>\n",
       "      <td>Rep</td>\n",
       "      <td>50 to 64</td>\n",
       "      <td>Graduate or Professional Degree</td>\n",
       "      <td>Unknown</td>\n",
       "      <td>Female</td>\n",
       "      <td>Hispanic</td>\n",
       "      <td>Approve</td>\n",
       "      <td>Reps. keep House</td>\n",
       "      <td>Unfavorable</td>\n",
       "      <td>Favorable</td>\n",
       "      <td>45 to 64</td>\n",
       "      <td>Postgraduate Degree</td>\n",
       "      <td>Republican</td>\n",
       "      <td>Female</td>\n",
       "      <td>Very likely</td>\n",
       "      <td>Independent (No party)</td>\n",
       "      <td>North</td>\n",
       "      <td>85 percent or higher</td>\n",
       "      <td>Cell</td>\n",
       "    </tr>\n",
       "    <tr>\n",
       "      <th>1</th>\n",
       "      <td>Rep</td>\n",
       "      <td>18 to 34</td>\n",
       "      <td>Some college or trade school</td>\n",
       "      <td>Unknown</td>\n",
       "      <td>Male</td>\n",
       "      <td>White</td>\n",
       "      <td>Approve</td>\n",
       "      <td>Reps. keep House</td>\n",
       "      <td>Don't know</td>\n",
       "      <td>Don't know</td>\n",
       "      <td>18 to 29</td>\n",
       "      <td>Some College Educ.</td>\n",
       "      <td>Other</td>\n",
       "      <td>Male</td>\n",
       "      <td>Somewhat likely</td>\n",
       "      <td>Republican</td>\n",
       "      <td>South</td>\n",
       "      <td>Less than 50 percent</td>\n",
       "      <td>Cell</td>\n",
       "    </tr>\n",
       "    <tr>\n",
       "      <th>2</th>\n",
       "      <td>Dem</td>\n",
       "      <td>50 to 64</td>\n",
       "      <td>Graduate or Professional Degree</td>\n",
       "      <td>White</td>\n",
       "      <td>Female</td>\n",
       "      <td>White</td>\n",
       "      <td>Disapp.</td>\n",
       "      <td>Dems. take House</td>\n",
       "      <td>Favorable</td>\n",
       "      <td>Unfavorable</td>\n",
       "      <td>45 to 64</td>\n",
       "      <td>Postgraduate Degree</td>\n",
       "      <td>Democratic</td>\n",
       "      <td>Female</td>\n",
       "      <td>Almost certain</td>\n",
       "      <td>Democrat</td>\n",
       "      <td>Charlottesville</td>\n",
       "      <td>85 percent or higher</td>\n",
       "      <td>Cell</td>\n",
       "    </tr>\n",
       "    <tr>\n",
       "      <th>3</th>\n",
       "      <td>Rep</td>\n",
       "      <td>65 and older</td>\n",
       "      <td>Graduate or Professional Degree</td>\n",
       "      <td>White</td>\n",
       "      <td>Female</td>\n",
       "      <td>White</td>\n",
       "      <td>Approve</td>\n",
       "      <td>Reps. keep House</td>\n",
       "      <td>Unfavorable</td>\n",
       "      <td>Favorable</td>\n",
       "      <td>65 and older</td>\n",
       "      <td>Postgraduate Degree</td>\n",
       "      <td>Republican</td>\n",
       "      <td>Female</td>\n",
       "      <td>Almost certain</td>\n",
       "      <td>Republican</td>\n",
       "      <td>South</td>\n",
       "      <td>85 percent or higher</td>\n",
       "      <td>Cell</td>\n",
       "    </tr>\n",
       "    <tr>\n",
       "      <th>4</th>\n",
       "      <td>Dem</td>\n",
       "      <td>18 to 34</td>\n",
       "      <td>Bachelors' degree</td>\n",
       "      <td>White</td>\n",
       "      <td>Male</td>\n",
       "      <td>Other</td>\n",
       "      <td>Approve</td>\n",
       "      <td>Dems. take House</td>\n",
       "      <td>Don't know</td>\n",
       "      <td>Don't know</td>\n",
       "      <td>18 to 29</td>\n",
       "      <td>4-year College Grad.</td>\n",
       "      <td>Democratic</td>\n",
       "      <td>Male</td>\n",
       "      <td>Almost certain</td>\n",
       "      <td>Democrat</td>\n",
       "      <td>South</td>\n",
       "      <td>50 to 85 percent</td>\n",
       "      <td>Cell</td>\n",
       "    </tr>\n",
       "  </tbody>\n",
       "</table>\n",
       "</div>"
      ],
      "text/plain": [
       "  response          ager                             educ file_race  gender  \\\n",
       "0      Rep      50 to 64  Graduate or Professional Degree   Unknown  Female   \n",
       "1      Rep      18 to 34     Some college or trade school   Unknown    Male   \n",
       "2      Dem      50 to 64  Graduate or Professional Degree     White  Female   \n",
       "3      Rep  65 and older  Graduate or Professional Degree     White  Female   \n",
       "4      Dem      18 to 34                Bachelors' degree     White    Male   \n",
       "\n",
       "   race_eth  approve         genballot     hdem_fav     hrep_fav  \\\n",
       "0  Hispanic  Approve  Reps. keep House  Unfavorable    Favorable   \n",
       "1     White  Approve  Reps. keep House   Don't know   Don't know   \n",
       "2     White  Disapp.  Dems. take House    Favorable  Unfavorable   \n",
       "3     White  Approve  Reps. keep House  Unfavorable    Favorable   \n",
       "4     Other  Approve  Dems. take House   Don't know   Don't know   \n",
       "\n",
       "   age_combined                 educ4  file_party gender_combined  \\\n",
       "0      45 to 64   Postgraduate Degree  Republican          Female   \n",
       "1      18 to 29    Some College Educ.       Other            Male   \n",
       "2      45 to 64   Postgraduate Degree  Democratic          Female   \n",
       "3  65 and older   Postgraduate Degree  Republican          Female   \n",
       "4      18 to 29  4-year College Grad.  Democratic            Male   \n",
       "\n",
       "            likely                 partyid           region  \\\n",
       "0      Very likely  Independent (No party)            North   \n",
       "1  Somewhat likely              Republican            South   \n",
       "2   Almost certain                Democrat  Charlottesville   \n",
       "3   Almost certain              Republican            South   \n",
       "4   Almost certain                Democrat            South   \n",
       "\n",
       "          turnout_class phone_type  \n",
       "0  85 percent or higher       Cell  \n",
       "1  Less than 50 percent       Cell  \n",
       "2  85 percent or higher       Cell  \n",
       "3  85 percent or higher       Cell  \n",
       "4      50 to 85 percent       Cell  "
      ]
     },
     "execution_count": 2,
     "metadata": {},
     "output_type": "execute_result"
    }
   ],
   "source": [
    "va_pol = pd.read_csv('data/polling-va-05.csv')\n",
    "va_pol.head()"
   ]
  },
  {
   "cell_type": "code",
   "execution_count": 3,
   "metadata": {},
   "outputs": [
    {
     "name": "stdout",
     "output_type": "stream",
     "text": [
      "<class 'pandas.core.frame.DataFrame'>\n",
      "RangeIndex: 501 entries, 0 to 500\n",
      "Data columns (total 19 columns):\n",
      " #   Column           Non-Null Count  Dtype \n",
      "---  ------           --------------  ----- \n",
      " 0   response         501 non-null    object\n",
      " 1   ager             501 non-null    object\n",
      " 2   educ             501 non-null    object\n",
      " 3   file_race        501 non-null    object\n",
      " 4   gender           501 non-null    object\n",
      " 5   race_eth         501 non-null    object\n",
      " 6   approve          501 non-null    object\n",
      " 7   genballot        501 non-null    object\n",
      " 8   hdem_fav         501 non-null    object\n",
      " 9   hrep_fav         501 non-null    object\n",
      " 10  age_combined     501 non-null    object\n",
      " 11  educ4            501 non-null    object\n",
      " 12  file_party       501 non-null    object\n",
      " 13  gender_combined  501 non-null    object\n",
      " 14  likely           501 non-null    object\n",
      " 15  partyid          501 non-null    object\n",
      " 16  region           501 non-null    object\n",
      " 17  turnout_class    501 non-null    object\n",
      " 18  phone_type       501 non-null    object\n",
      "dtypes: object(19)\n",
      "memory usage: 74.5+ KB\n"
     ]
    }
   ],
   "source": [
    "va_pol.info()"
   ]
  },
  {
   "cell_type": "code",
   "execution_count": 4,
   "metadata": {},
   "outputs": [],
   "source": [
    "va_pol.replace(\"[DO NOT READ] Don't know/Refused\", np.NaN, inplace=True)"
   ]
  },
  {
   "cell_type": "code",
   "execution_count": 5,
   "metadata": {},
   "outputs": [],
   "source": [
    "va_pol.replace(\"[DO NOT READ] Refused\", np.NaN, inplace=True)"
   ]
  },
  {
   "cell_type": "code",
   "execution_count": 6,
   "metadata": {},
   "outputs": [
    {
     "data": {
      "text/plain": [
       "response            0\n",
       "ager               25\n",
       "educ                4\n",
       "file_race           0\n",
       "gender              0\n",
       "race_eth            6\n",
       "approve             0\n",
       "genballot           0\n",
       "hdem_fav            0\n",
       "hrep_fav            0\n",
       "age_combined        0\n",
       "educ4               4\n",
       "file_party          0\n",
       "gender_combined     0\n",
       "likely              6\n",
       "partyid            15\n",
       "region              0\n",
       "turnout_class       0\n",
       "phone_type          0\n",
       "dtype: int64"
      ]
     },
     "execution_count": 6,
     "metadata": {},
     "output_type": "execute_result"
    }
   ],
   "source": [
    "va_pol.isnull().sum(axis = 0)"
   ]
  },
  {
   "cell_type": "code",
   "execution_count": 7,
   "metadata": {},
   "outputs": [
    {
     "data": {
      "text/plain": [
       "race_eth  file_race\n",
       "Asian     Asian          1\n",
       "          Other          1\n",
       "          White          1\n",
       "Black     Black         42\n",
       "          White         26\n",
       "          Unknown        2\n",
       "Hispanic  White         11\n",
       "          Black          3\n",
       "          Hispanic       3\n",
       "          Unknown        1\n",
       "Other     White          8\n",
       "          Unknown        2\n",
       "          Black          1\n",
       "White     White        332\n",
       "          Unknown       30\n",
       "          Black         17\n",
       "          Hispanic       8\n",
       "          Asian          3\n",
       "          Other          3\n",
       "Name: file_race, dtype: int64"
      ]
     },
     "execution_count": 7,
     "metadata": {},
     "output_type": "execute_result"
    }
   ],
   "source": [
    "va_pol.groupby(['race_eth'])[\"file_race\"].value_counts()"
   ]
  },
  {
   "cell_type": "code",
   "execution_count": 8,
   "metadata": {},
   "outputs": [
    {
     "data": {
      "text/html": [
       "<div>\n",
       "<style scoped>\n",
       "    .dataframe tbody tr th:only-of-type {\n",
       "        vertical-align: middle;\n",
       "    }\n",
       "\n",
       "    .dataframe tbody tr th {\n",
       "        vertical-align: top;\n",
       "    }\n",
       "\n",
       "    .dataframe thead th {\n",
       "        text-align: right;\n",
       "    }\n",
       "</style>\n",
       "<table border=\"1\" class=\"dataframe\">\n",
       "  <thead>\n",
       "    <tr style=\"text-align: right;\">\n",
       "      <th></th>\n",
       "      <th>response</th>\n",
       "      <th>gender</th>\n",
       "      <th>race_eth</th>\n",
       "      <th>approve</th>\n",
       "      <th>genballot</th>\n",
       "      <th>hdem_fav</th>\n",
       "      <th>hrep_fav</th>\n",
       "      <th>age_combined</th>\n",
       "      <th>educ4</th>\n",
       "      <th>file_party</th>\n",
       "      <th>gender_combined</th>\n",
       "      <th>likely</th>\n",
       "      <th>partyid</th>\n",
       "      <th>region</th>\n",
       "      <th>turnout_class</th>\n",
       "      <th>phone_type</th>\n",
       "    </tr>\n",
       "  </thead>\n",
       "  <tbody>\n",
       "    <tr>\n",
       "      <th>0</th>\n",
       "      <td>Rep</td>\n",
       "      <td>Female</td>\n",
       "      <td>Hispanic</td>\n",
       "      <td>Approve</td>\n",
       "      <td>Reps. keep House</td>\n",
       "      <td>Unfavorable</td>\n",
       "      <td>Favorable</td>\n",
       "      <td>45 to 64</td>\n",
       "      <td>Postgraduate Degree</td>\n",
       "      <td>Republican</td>\n",
       "      <td>Female</td>\n",
       "      <td>Very likely</td>\n",
       "      <td>Independent (No party)</td>\n",
       "      <td>North</td>\n",
       "      <td>85 percent or higher</td>\n",
       "      <td>Cell</td>\n",
       "    </tr>\n",
       "    <tr>\n",
       "      <th>1</th>\n",
       "      <td>Rep</td>\n",
       "      <td>Male</td>\n",
       "      <td>White</td>\n",
       "      <td>Approve</td>\n",
       "      <td>Reps. keep House</td>\n",
       "      <td>Don't know</td>\n",
       "      <td>Don't know</td>\n",
       "      <td>18 to 29</td>\n",
       "      <td>Some College Educ.</td>\n",
       "      <td>Other</td>\n",
       "      <td>Male</td>\n",
       "      <td>Somewhat likely</td>\n",
       "      <td>Republican</td>\n",
       "      <td>South</td>\n",
       "      <td>Less than 50 percent</td>\n",
       "      <td>Cell</td>\n",
       "    </tr>\n",
       "    <tr>\n",
       "      <th>2</th>\n",
       "      <td>Dem</td>\n",
       "      <td>Female</td>\n",
       "      <td>White</td>\n",
       "      <td>Disapp.</td>\n",
       "      <td>Dems. take House</td>\n",
       "      <td>Favorable</td>\n",
       "      <td>Unfavorable</td>\n",
       "      <td>45 to 64</td>\n",
       "      <td>Postgraduate Degree</td>\n",
       "      <td>Democratic</td>\n",
       "      <td>Female</td>\n",
       "      <td>Almost certain</td>\n",
       "      <td>Democrat</td>\n",
       "      <td>Charlottesville</td>\n",
       "      <td>85 percent or higher</td>\n",
       "      <td>Cell</td>\n",
       "    </tr>\n",
       "    <tr>\n",
       "      <th>3</th>\n",
       "      <td>Rep</td>\n",
       "      <td>Female</td>\n",
       "      <td>White</td>\n",
       "      <td>Approve</td>\n",
       "      <td>Reps. keep House</td>\n",
       "      <td>Unfavorable</td>\n",
       "      <td>Favorable</td>\n",
       "      <td>65 and older</td>\n",
       "      <td>Postgraduate Degree</td>\n",
       "      <td>Republican</td>\n",
       "      <td>Female</td>\n",
       "      <td>Almost certain</td>\n",
       "      <td>Republican</td>\n",
       "      <td>South</td>\n",
       "      <td>85 percent or higher</td>\n",
       "      <td>Cell</td>\n",
       "    </tr>\n",
       "    <tr>\n",
       "      <th>4</th>\n",
       "      <td>Dem</td>\n",
       "      <td>Male</td>\n",
       "      <td>Other</td>\n",
       "      <td>Approve</td>\n",
       "      <td>Dems. take House</td>\n",
       "      <td>Don't know</td>\n",
       "      <td>Don't know</td>\n",
       "      <td>18 to 29</td>\n",
       "      <td>4-year College Grad.</td>\n",
       "      <td>Democratic</td>\n",
       "      <td>Male</td>\n",
       "      <td>Almost certain</td>\n",
       "      <td>Democrat</td>\n",
       "      <td>South</td>\n",
       "      <td>50 to 85 percent</td>\n",
       "      <td>Cell</td>\n",
       "    </tr>\n",
       "  </tbody>\n",
       "</table>\n",
       "</div>"
      ],
      "text/plain": [
       "  response  gender  race_eth  approve         genballot     hdem_fav  \\\n",
       "0      Rep  Female  Hispanic  Approve  Reps. keep House  Unfavorable   \n",
       "1      Rep    Male     White  Approve  Reps. keep House   Don't know   \n",
       "2      Dem  Female     White  Disapp.  Dems. take House    Favorable   \n",
       "3      Rep  Female     White  Approve  Reps. keep House  Unfavorable   \n",
       "4      Dem    Male     Other  Approve  Dems. take House   Don't know   \n",
       "\n",
       "      hrep_fav  age_combined                 educ4  file_party  \\\n",
       "0    Favorable      45 to 64   Postgraduate Degree  Republican   \n",
       "1   Don't know      18 to 29    Some College Educ.       Other   \n",
       "2  Unfavorable      45 to 64   Postgraduate Degree  Democratic   \n",
       "3    Favorable  65 and older   Postgraduate Degree  Republican   \n",
       "4   Don't know      18 to 29  4-year College Grad.  Democratic   \n",
       "\n",
       "  gender_combined           likely                 partyid           region  \\\n",
       "0          Female      Very likely  Independent (No party)            North   \n",
       "1            Male  Somewhat likely              Republican            South   \n",
       "2          Female   Almost certain                Democrat  Charlottesville   \n",
       "3          Female   Almost certain              Republican            South   \n",
       "4            Male   Almost certain                Democrat            South   \n",
       "\n",
       "          turnout_class phone_type  \n",
       "0  85 percent or higher       Cell  \n",
       "1  Less than 50 percent       Cell  \n",
       "2  85 percent or higher       Cell  \n",
       "3  85 percent or higher       Cell  \n",
       "4      50 to 85 percent       Cell  "
      ]
     },
     "execution_count": 8,
     "metadata": {},
     "output_type": "execute_result"
    }
   ],
   "source": [
    "pol = va_pol.drop(['ager', 'file_race', 'educ'], axis=1)\n",
    "pol.head()"
   ]
  },
  {
   "cell_type": "code",
   "execution_count": 9,
   "metadata": {},
   "outputs": [
    {
     "data": {
      "text/plain": [
       "response            0\n",
       "gender              0\n",
       "race_eth            6\n",
       "approve             0\n",
       "genballot           0\n",
       "hdem_fav            0\n",
       "hrep_fav            0\n",
       "age_combined        0\n",
       "educ4               4\n",
       "file_party          0\n",
       "gender_combined     0\n",
       "likely              6\n",
       "partyid            15\n",
       "region              0\n",
       "turnout_class       0\n",
       "phone_type          0\n",
       "dtype: int64"
      ]
     },
     "execution_count": 9,
     "metadata": {},
     "output_type": "execute_result"
    }
   ],
   "source": [
    "pol.isnull().sum(axis = 0)"
   ]
  },
  {
   "cell_type": "code",
   "execution_count": 10,
   "metadata": {},
   "outputs": [
    {
     "data": {
      "text/plain": [
       "file_party  partyid                                  \n",
       "Democratic  Democrat                                     76\n",
       "            Independent (No party)                       36\n",
       "            NaN                                           3\n",
       "            Republican                                    3\n",
       "Other       Independent (No party)                       75\n",
       "            Democrat                                     63\n",
       "            Republican                                   54\n",
       "            NaN                                          10\n",
       "            or as a member of another political party     4\n",
       "Republican  Republican                                   96\n",
       "            Independent (No party)                       59\n",
       "            Democrat                                     11\n",
       "            or as a member of another political party     9\n",
       "            NaN                                           2\n",
       "Name: partyid, dtype: int64"
      ]
     },
     "execution_count": 10,
     "metadata": {},
     "output_type": "execute_result"
    }
   ],
   "source": [
    "va_pol.groupby(['file_party'])[\"partyid\"].value_counts(dropna=False)"
   ]
  },
  {
   "cell_type": "code",
   "execution_count": 11,
   "metadata": {},
   "outputs": [],
   "source": [
    "#if reported party ID is unknown/refused, use file party ID\n",
    "\n",
    "pol.partyid.fillna(pol.file_party, inplace=True)"
   ]
  },
  {
   "cell_type": "code",
   "execution_count": 12,
   "metadata": {},
   "outputs": [
    {
     "data": {
      "text/plain": [
       "file_party  partyid                                  \n",
       "Democratic  Democrat                                     76\n",
       "            Independent (No party)                       36\n",
       "            Democratic                                    3\n",
       "            Republican                                    3\n",
       "Other       Independent (No party)                       75\n",
       "            Democrat                                     63\n",
       "            Republican                                   54\n",
       "            Other                                        10\n",
       "            or as a member of another political party     4\n",
       "Republican  Republican                                   98\n",
       "            Independent (No party)                       59\n",
       "            Democrat                                     11\n",
       "            or as a member of another political party     9\n",
       "Name: partyid, dtype: int64"
      ]
     },
     "execution_count": 12,
     "metadata": {},
     "output_type": "execute_result"
    }
   ],
   "source": [
    "pol.groupby(['file_party'])[\"partyid\"].value_counts(dropna=False)"
   ]
  },
  {
   "cell_type": "code",
   "execution_count": 13,
   "metadata": {},
   "outputs": [
    {
     "data": {
      "text/plain": [
       "(13, 16)"
      ]
     },
     "execution_count": 13,
     "metadata": {},
     "output_type": "execute_result"
    }
   ],
   "source": [
    "pol[pol.isna().any(axis=1)].shape"
   ]
  },
  {
   "cell_type": "code",
   "execution_count": 14,
   "metadata": {},
   "outputs": [],
   "source": [
    "pol.dropna(inplace=True)"
   ]
  },
  {
   "cell_type": "code",
   "execution_count": 15,
   "metadata": {},
   "outputs": [
    {
     "data": {
      "text/plain": [
       "(0, 16)"
      ]
     },
     "execution_count": 15,
     "metadata": {},
     "output_type": "execute_result"
    }
   ],
   "source": [
    "pol[pol.isna().any(axis=1)].shape"
   ]
  },
  {
   "cell_type": "code",
   "execution_count": 16,
   "metadata": {},
   "outputs": [
    {
     "data": {
      "text/plain": [
       "gender_combined  gender\n",
       "Female           Female    273\n",
       "                 Male        3\n",
       "Male             Male      208\n",
       "                 Female      4\n",
       "Name: gender, dtype: int64"
      ]
     },
     "execution_count": 16,
     "metadata": {},
     "output_type": "execute_result"
    }
   ],
   "source": [
    "pol.groupby(['gender_combined'])[\"gender\"].value_counts(dropna=False)"
   ]
  },
  {
   "cell_type": "code",
   "execution_count": 17,
   "metadata": {},
   "outputs": [
    {
     "data": {
      "text/plain": [
       "Dem    220\n",
       "Rep    220\n",
       "Und     48\n",
       "Name: response, dtype: int64"
      ]
     },
     "execution_count": 17,
     "metadata": {},
     "output_type": "execute_result"
    }
   ],
   "source": [
    "pol.response.value_counts()"
   ]
  },
  {
   "cell_type": "code",
   "execution_count": 18,
   "metadata": {},
   "outputs": [
    {
     "data": {
      "text/plain": [
       "Approve       243\n",
       "Disapp.       217\n",
       "Don't know     28\n",
       "Name: approve, dtype: int64"
      ]
     },
     "execution_count": 18,
     "metadata": {},
     "output_type": "execute_result"
    }
   ],
   "source": [
    "pol.approve.value_counts()"
   ]
  },
  {
   "cell_type": "code",
   "execution_count": 19,
   "metadata": {},
   "outputs": [
    {
     "data": {
      "text/plain": [
       "Favorable      189\n",
       "Unfavorable    167\n",
       "Don't know     132\n",
       "Name: hrep_fav, dtype: int64"
      ]
     },
     "execution_count": 19,
     "metadata": {},
     "output_type": "execute_result"
    }
   ],
   "source": [
    "pol.hrep_fav.value_counts()"
   ]
  },
  {
   "cell_type": "code",
   "execution_count": 20,
   "metadata": {},
   "outputs": [
    {
     "data": {
      "text/plain": [
       "45 to 64        198\n",
       "65 and older    186\n",
       "30 to 44         74\n",
       "18 to 29         30\n",
       "Name: age_combined, dtype: int64"
      ]
     },
     "execution_count": 20,
     "metadata": {},
     "output_type": "execute_result"
    }
   ],
   "source": [
    "pol.age_combined.value_counts()"
   ]
  },
  {
   "cell_type": "code",
   "execution_count": 21,
   "metadata": {},
   "outputs": [
    {
     "data": {
      "text/plain": [
       "Some College Educ.           159\n",
       "Postgraduate Degree          120\n",
       "4-year College Grad.         108\n",
       "High School Grad. or Less    101\n",
       "Name: educ4, dtype: int64"
      ]
     },
     "execution_count": 21,
     "metadata": {},
     "output_type": "execute_result"
    }
   ],
   "source": [
    "pol.educ4.value_counts()"
   ]
  },
  {
   "cell_type": "code",
   "execution_count": 22,
   "metadata": {},
   "outputs": [
    {
     "data": {
      "text/plain": [
       "Almost certain       306\n",
       "Very likely          124\n",
       "Somewhat likely       22\n",
       "Not very likely       15\n",
       "Not at all likely     11\n",
       "Already voted         10\n",
       "Name: likely, dtype: int64"
      ]
     },
     "execution_count": 22,
     "metadata": {},
     "output_type": "execute_result"
    }
   ],
   "source": [
    "pol.likely.value_counts()"
   ]
  },
  {
   "cell_type": "code",
   "execution_count": 23,
   "metadata": {},
   "outputs": [
    {
     "data": {
      "text/plain": [
       "Independent (No party)                       167\n",
       "Republican                                   155\n",
       "Democrat                                     145\n",
       "or as a member of another political party     12\n",
       "Other                                          8\n",
       "Democratic                                     1\n",
       "Name: partyid, dtype: int64"
      ]
     },
     "execution_count": 23,
     "metadata": {},
     "output_type": "execute_result"
    }
   ],
   "source": [
    "pol.partyid.value_counts()"
   ]
  },
  {
   "cell_type": "code",
   "execution_count": 24,
   "metadata": {},
   "outputs": [
    {
     "data": {
      "text/plain": [
       "Other         187\n",
       "Republican    155\n",
       "Democrat      146\n",
       "Name: partyid, dtype: int64"
      ]
     },
     "execution_count": 24,
     "metadata": {},
     "output_type": "execute_result"
    }
   ],
   "source": [
    "#cleaning up party ID variables\n",
    "\n",
    "party = {'Independent (No party)':'Other', 'or as a member of another political party':'Other', 'Democratic':'Democrat'}\n",
    "pol.partyid.replace(party, inplace=True)\n",
    "pol.partyid.value_counts()"
   ]
  },
  {
   "cell_type": "code",
   "execution_count": 25,
   "metadata": {},
   "outputs": [
    {
     "data": {
      "text/plain": [
       "187"
      ]
     },
     "execution_count": 25,
     "metadata": {},
     "output_type": "execute_result"
    }
   ],
   "source": [
    "8+167+12"
   ]
  },
  {
   "cell_type": "code",
   "execution_count": 26,
   "metadata": {},
   "outputs": [
    {
     "data": {
      "text/plain": [
       "South              284\n",
       "Charlottesville    103\n",
       "North              101\n",
       "Name: region, dtype: int64"
      ]
     },
     "execution_count": 26,
     "metadata": {},
     "output_type": "execute_result"
    }
   ],
   "source": [
    "pol.region.value_counts()"
   ]
  },
  {
   "cell_type": "code",
   "execution_count": 27,
   "metadata": {},
   "outputs": [
    {
     "data": {
      "text/plain": [
       "Reps. keep House    239\n",
       "Dems. take House    219\n",
       "Don't know           30\n",
       "Name: genballot, dtype: int64"
      ]
     },
     "execution_count": 27,
     "metadata": {},
     "output_type": "execute_result"
    }
   ],
   "source": [
    "pol.genballot.value_counts()"
   ]
  },
  {
   "cell_type": "code",
   "execution_count": 28,
   "metadata": {},
   "outputs": [
    {
     "data": {
      "text/plain": [
       "Dem    220\n",
       "Rep    220\n",
       "Und     48\n",
       "Name: response, dtype: int64"
      ]
     },
     "execution_count": 28,
     "metadata": {},
     "output_type": "execute_result"
    }
   ],
   "source": [
    "pol.response.value_counts()"
   ]
  },
  {
   "cell_type": "markdown",
   "metadata": {},
   "source": [
    "## Part 2: Dummy Encoding\n",
    "Dummify all categorical variables from the previous part that you want to use in the next part. In this step, you should also label encode your y-variable (ie. map values to 0/1/2) and create your $\\mathbf{X}$ and $\\mathbf{y}$ variables."
   ]
  },
  {
   "cell_type": "code",
   "execution_count": 29,
   "metadata": {},
   "outputs": [
    {
     "data": {
      "text/plain": [
       "Index(['response', 'gender', 'race_eth', 'approve', 'genballot', 'hdem_fav',\n",
       "       'hrep_fav', 'age_combined', 'educ4', 'file_party', 'gender_combined',\n",
       "       'likely', 'partyid', 'region', 'turnout_class', 'phone_type'],\n",
       "      dtype='object')"
      ]
     },
     "execution_count": 29,
     "metadata": {},
     "output_type": "execute_result"
    }
   ],
   "source": [
    "pol.columns"
   ]
  },
  {
   "cell_type": "code",
   "execution_count": 30,
   "metadata": {},
   "outputs": [],
   "source": [
    "# y = response\n",
    "# x = gender, race_eth, approve, genballot, hdem_fav, hrep_fav, age_combined, educ4, likely, partyid, region"
   ]
  },
  {
   "cell_type": "code",
   "execution_count": 31,
   "metadata": {},
   "outputs": [],
   "source": [
    "# create dummy variables\n",
    "\n",
    "\n",
    "gender_dum = pd.get_dummies(pol.gender, drop_first=True) # 0 = Female \n",
    "race = pd.get_dummies(pol.race_eth, prefix='race', drop_first=True) # 0 = White\n",
    "is_approve = pd.get_dummies(pol.approve, prefix='approve', drop_first=True) # 0 = Approves (of Republican incumbent?)\n",
    "predicts_dem_win = pd.get_dummies(pol.genballot, prefix='genballot', drop_first=True) # 0 = predicts Republicans will keep the House\n",
    "dislikes_dems = pd.get_dummies(pol.hdem_fav, prefix='fav_dem', drop_first=True) # 0 = Favorable view of Democrats\n",
    "dislikes_reps = pd.get_dummies(pol.hrep_fav, prefix='fav_rep', drop_first=True) # 0 = Favorable view of Republicans\n",
    "party_affil = pd.get_dummies(pol.partyid, prefix='party', drop_first=True) # 0 = Independent, 1 = Republican, 2 = Democrat\n",
    "region_d = pd.get_dummies(pol.region, prefix='region', drop_first=True) # 0 = South, 1 = Charlottesville, 2 = North\n",
    "vote_rep = pd.get_dummies(pol.response, prefix='response', drop_first=True)"
   ]
  },
  {
   "cell_type": "code",
   "execution_count": null,
   "metadata": {},
   "outputs": [],
   "source": []
  },
  {
   "cell_type": "code",
   "execution_count": 32,
   "metadata": {
    "scrolled": true
   },
   "outputs": [],
   "source": [
    "# encode other categorical variables\n",
    "\n",
    "age_grp = {'18 to 29':0, '30 to 44':1, '45 to 64':2, '65 and older':3} # value increasing with age\n",
    "edu_grp = {'High School Grad. or Less':0, 'Some College Educ.':1, '4-year College Grad.':2, 'Postgraduate Degree':3} # increasing with education\n",
    "likely_grp = {'Not at all likely':0, 'Not very likely':1, 'Somewhat likely':2, 'Very likely':3, 'Almost certain':4, 'Already voted':5} # increasing with likelihood of voting\n",
    "\n",
    "pol.age_combined.replace(age_grp, inplace=True)\n",
    "pol.educ4.replace(edu_grp, inplace=True)\n",
    "pol.likely.replace(likely_grp, inplace=True)"
   ]
  },
  {
   "cell_type": "code",
   "execution_count": 64,
   "metadata": {},
   "outputs": [
    {
     "data": {
      "text/html": [
       "<div>\n",
       "<style scoped>\n",
       "    .dataframe tbody tr th:only-of-type {\n",
       "        vertical-align: middle;\n",
       "    }\n",
       "\n",
       "    .dataframe tbody tr th {\n",
       "        vertical-align: top;\n",
       "    }\n",
       "\n",
       "    .dataframe thead th {\n",
       "        text-align: right;\n",
       "    }\n",
       "</style>\n",
       "<table border=\"1\" class=\"dataframe\">\n",
       "  <thead>\n",
       "    <tr style=\"text-align: right;\">\n",
       "      <th></th>\n",
       "      <th>response</th>\n",
       "      <th>gender</th>\n",
       "      <th>race_eth</th>\n",
       "      <th>approve</th>\n",
       "      <th>genballot</th>\n",
       "      <th>hdem_fav</th>\n",
       "      <th>hrep_fav</th>\n",
       "      <th>age_combined</th>\n",
       "      <th>educ4</th>\n",
       "      <th>file_party</th>\n",
       "      <th>...</th>\n",
       "      <th>fav_dem_Favorable</th>\n",
       "      <th>fav_dem_Unfavorable</th>\n",
       "      <th>fav_rep_Favorable</th>\n",
       "      <th>fav_rep_Unfavorable</th>\n",
       "      <th>party_Other</th>\n",
       "      <th>party_Republican</th>\n",
       "      <th>region_North</th>\n",
       "      <th>region_South</th>\n",
       "      <th>response_Rep</th>\n",
       "      <th>response_Und</th>\n",
       "    </tr>\n",
       "  </thead>\n",
       "  <tbody>\n",
       "    <tr>\n",
       "      <th>0</th>\n",
       "      <td>Rep</td>\n",
       "      <td>Female</td>\n",
       "      <td>Hispanic</td>\n",
       "      <td>Approve</td>\n",
       "      <td>Reps. keep House</td>\n",
       "      <td>Unfavorable</td>\n",
       "      <td>Favorable</td>\n",
       "      <td>2</td>\n",
       "      <td>3</td>\n",
       "      <td>Republican</td>\n",
       "      <td>...</td>\n",
       "      <td>0</td>\n",
       "      <td>1</td>\n",
       "      <td>1</td>\n",
       "      <td>0</td>\n",
       "      <td>1</td>\n",
       "      <td>0</td>\n",
       "      <td>1</td>\n",
       "      <td>0</td>\n",
       "      <td>1</td>\n",
       "      <td>0</td>\n",
       "    </tr>\n",
       "    <tr>\n",
       "      <th>1</th>\n",
       "      <td>Rep</td>\n",
       "      <td>Male</td>\n",
       "      <td>White</td>\n",
       "      <td>Approve</td>\n",
       "      <td>Reps. keep House</td>\n",
       "      <td>Don't know</td>\n",
       "      <td>Don't know</td>\n",
       "      <td>0</td>\n",
       "      <td>1</td>\n",
       "      <td>Other</td>\n",
       "      <td>...</td>\n",
       "      <td>0</td>\n",
       "      <td>0</td>\n",
       "      <td>0</td>\n",
       "      <td>0</td>\n",
       "      <td>0</td>\n",
       "      <td>1</td>\n",
       "      <td>0</td>\n",
       "      <td>1</td>\n",
       "      <td>1</td>\n",
       "      <td>0</td>\n",
       "    </tr>\n",
       "    <tr>\n",
       "      <th>2</th>\n",
       "      <td>Dem</td>\n",
       "      <td>Female</td>\n",
       "      <td>White</td>\n",
       "      <td>Disapp.</td>\n",
       "      <td>Dems. take House</td>\n",
       "      <td>Favorable</td>\n",
       "      <td>Unfavorable</td>\n",
       "      <td>2</td>\n",
       "      <td>3</td>\n",
       "      <td>Democratic</td>\n",
       "      <td>...</td>\n",
       "      <td>1</td>\n",
       "      <td>0</td>\n",
       "      <td>0</td>\n",
       "      <td>1</td>\n",
       "      <td>0</td>\n",
       "      <td>0</td>\n",
       "      <td>0</td>\n",
       "      <td>0</td>\n",
       "      <td>0</td>\n",
       "      <td>0</td>\n",
       "    </tr>\n",
       "    <tr>\n",
       "      <th>3</th>\n",
       "      <td>Rep</td>\n",
       "      <td>Female</td>\n",
       "      <td>White</td>\n",
       "      <td>Approve</td>\n",
       "      <td>Reps. keep House</td>\n",
       "      <td>Unfavorable</td>\n",
       "      <td>Favorable</td>\n",
       "      <td>3</td>\n",
       "      <td>3</td>\n",
       "      <td>Republican</td>\n",
       "      <td>...</td>\n",
       "      <td>0</td>\n",
       "      <td>1</td>\n",
       "      <td>1</td>\n",
       "      <td>0</td>\n",
       "      <td>0</td>\n",
       "      <td>1</td>\n",
       "      <td>0</td>\n",
       "      <td>1</td>\n",
       "      <td>1</td>\n",
       "      <td>0</td>\n",
       "    </tr>\n",
       "    <tr>\n",
       "      <th>4</th>\n",
       "      <td>Dem</td>\n",
       "      <td>Male</td>\n",
       "      <td>Other</td>\n",
       "      <td>Approve</td>\n",
       "      <td>Dems. take House</td>\n",
       "      <td>Don't know</td>\n",
       "      <td>Don't know</td>\n",
       "      <td>0</td>\n",
       "      <td>2</td>\n",
       "      <td>Democratic</td>\n",
       "      <td>...</td>\n",
       "      <td>0</td>\n",
       "      <td>0</td>\n",
       "      <td>0</td>\n",
       "      <td>0</td>\n",
       "      <td>0</td>\n",
       "      <td>0</td>\n",
       "      <td>0</td>\n",
       "      <td>1</td>\n",
       "      <td>0</td>\n",
       "      <td>0</td>\n",
       "    </tr>\n",
       "    <tr>\n",
       "      <th>...</th>\n",
       "      <td>...</td>\n",
       "      <td>...</td>\n",
       "      <td>...</td>\n",
       "      <td>...</td>\n",
       "      <td>...</td>\n",
       "      <td>...</td>\n",
       "      <td>...</td>\n",
       "      <td>...</td>\n",
       "      <td>...</td>\n",
       "      <td>...</td>\n",
       "      <td>...</td>\n",
       "      <td>...</td>\n",
       "      <td>...</td>\n",
       "      <td>...</td>\n",
       "      <td>...</td>\n",
       "      <td>...</td>\n",
       "      <td>...</td>\n",
       "      <td>...</td>\n",
       "      <td>...</td>\n",
       "      <td>...</td>\n",
       "      <td>...</td>\n",
       "    </tr>\n",
       "    <tr>\n",
       "      <th>496</th>\n",
       "      <td>Rep</td>\n",
       "      <td>Male</td>\n",
       "      <td>White</td>\n",
       "      <td>Approve</td>\n",
       "      <td>Reps. keep House</td>\n",
       "      <td>Don't know</td>\n",
       "      <td>Favorable</td>\n",
       "      <td>3</td>\n",
       "      <td>0</td>\n",
       "      <td>Republican</td>\n",
       "      <td>...</td>\n",
       "      <td>0</td>\n",
       "      <td>0</td>\n",
       "      <td>1</td>\n",
       "      <td>0</td>\n",
       "      <td>0</td>\n",
       "      <td>1</td>\n",
       "      <td>0</td>\n",
       "      <td>1</td>\n",
       "      <td>1</td>\n",
       "      <td>0</td>\n",
       "    </tr>\n",
       "    <tr>\n",
       "      <th>497</th>\n",
       "      <td>Dem</td>\n",
       "      <td>Male</td>\n",
       "      <td>White</td>\n",
       "      <td>Disapp.</td>\n",
       "      <td>Don't know</td>\n",
       "      <td>Don't know</td>\n",
       "      <td>Don't know</td>\n",
       "      <td>1</td>\n",
       "      <td>3</td>\n",
       "      <td>Republican</td>\n",
       "      <td>...</td>\n",
       "      <td>0</td>\n",
       "      <td>0</td>\n",
       "      <td>0</td>\n",
       "      <td>0</td>\n",
       "      <td>1</td>\n",
       "      <td>0</td>\n",
       "      <td>0</td>\n",
       "      <td>0</td>\n",
       "      <td>0</td>\n",
       "      <td>0</td>\n",
       "    </tr>\n",
       "    <tr>\n",
       "      <th>498</th>\n",
       "      <td>Rep</td>\n",
       "      <td>Female</td>\n",
       "      <td>White</td>\n",
       "      <td>Approve</td>\n",
       "      <td>Reps. keep House</td>\n",
       "      <td>Favorable</td>\n",
       "      <td>Don't know</td>\n",
       "      <td>3</td>\n",
       "      <td>0</td>\n",
       "      <td>Republican</td>\n",
       "      <td>...</td>\n",
       "      <td>1</td>\n",
       "      <td>0</td>\n",
       "      <td>0</td>\n",
       "      <td>0</td>\n",
       "      <td>0</td>\n",
       "      <td>1</td>\n",
       "      <td>1</td>\n",
       "      <td>0</td>\n",
       "      <td>1</td>\n",
       "      <td>0</td>\n",
       "    </tr>\n",
       "    <tr>\n",
       "      <th>499</th>\n",
       "      <td>Dem</td>\n",
       "      <td>Female</td>\n",
       "      <td>White</td>\n",
       "      <td>Disapp.</td>\n",
       "      <td>Dems. take House</td>\n",
       "      <td>Favorable</td>\n",
       "      <td>Unfavorable</td>\n",
       "      <td>3</td>\n",
       "      <td>2</td>\n",
       "      <td>Republican</td>\n",
       "      <td>...</td>\n",
       "      <td>1</td>\n",
       "      <td>0</td>\n",
       "      <td>0</td>\n",
       "      <td>1</td>\n",
       "      <td>1</td>\n",
       "      <td>0</td>\n",
       "      <td>0</td>\n",
       "      <td>0</td>\n",
       "      <td>0</td>\n",
       "      <td>0</td>\n",
       "    </tr>\n",
       "    <tr>\n",
       "      <th>500</th>\n",
       "      <td>Rep</td>\n",
       "      <td>Female</td>\n",
       "      <td>White</td>\n",
       "      <td>Approve</td>\n",
       "      <td>Reps. keep House</td>\n",
       "      <td>Don't know</td>\n",
       "      <td>Don't know</td>\n",
       "      <td>1</td>\n",
       "      <td>3</td>\n",
       "      <td>Republican</td>\n",
       "      <td>...</td>\n",
       "      <td>0</td>\n",
       "      <td>0</td>\n",
       "      <td>0</td>\n",
       "      <td>0</td>\n",
       "      <td>0</td>\n",
       "      <td>1</td>\n",
       "      <td>1</td>\n",
       "      <td>0</td>\n",
       "      <td>1</td>\n",
       "      <td>0</td>\n",
       "    </tr>\n",
       "  </tbody>\n",
       "</table>\n",
       "<p>488 rows × 35 columns</p>\n",
       "</div>"
      ],
      "text/plain": [
       "    response  gender  race_eth  approve         genballot     hdem_fav  \\\n",
       "0        Rep  Female  Hispanic  Approve  Reps. keep House  Unfavorable   \n",
       "1        Rep    Male     White  Approve  Reps. keep House   Don't know   \n",
       "2        Dem  Female     White  Disapp.  Dems. take House    Favorable   \n",
       "3        Rep  Female     White  Approve  Reps. keep House  Unfavorable   \n",
       "4        Dem    Male     Other  Approve  Dems. take House   Don't know   \n",
       "..       ...     ...       ...      ...               ...          ...   \n",
       "496      Rep    Male     White  Approve  Reps. keep House   Don't know   \n",
       "497      Dem    Male     White  Disapp.        Don't know   Don't know   \n",
       "498      Rep  Female     White  Approve  Reps. keep House    Favorable   \n",
       "499      Dem  Female     White  Disapp.  Dems. take House    Favorable   \n",
       "500      Rep  Female     White  Approve  Reps. keep House   Don't know   \n",
       "\n",
       "        hrep_fav  age_combined  educ4  file_party  ... fav_dem_Favorable  \\\n",
       "0      Favorable             2      3  Republican  ...                 0   \n",
       "1     Don't know             0      1       Other  ...                 0   \n",
       "2    Unfavorable             2      3  Democratic  ...                 1   \n",
       "3      Favorable             3      3  Republican  ...                 0   \n",
       "4     Don't know             0      2  Democratic  ...                 0   \n",
       "..           ...           ...    ...         ...  ...               ...   \n",
       "496    Favorable             3      0  Republican  ...                 0   \n",
       "497   Don't know             1      3  Republican  ...                 0   \n",
       "498   Don't know             3      0  Republican  ...                 1   \n",
       "499  Unfavorable             3      2  Republican  ...                 1   \n",
       "500   Don't know             1      3  Republican  ...                 0   \n",
       "\n",
       "     fav_dem_Unfavorable fav_rep_Favorable fav_rep_Unfavorable party_Other  \\\n",
       "0                      1                 1                   0           1   \n",
       "1                      0                 0                   0           0   \n",
       "2                      0                 0                   1           0   \n",
       "3                      1                 1                   0           0   \n",
       "4                      0                 0                   0           0   \n",
       "..                   ...               ...                 ...         ...   \n",
       "496                    0                 1                   0           0   \n",
       "497                    0                 0                   0           1   \n",
       "498                    0                 0                   0           0   \n",
       "499                    0                 0                   1           1   \n",
       "500                    0                 0                   0           0   \n",
       "\n",
       "    party_Republican  region_North  region_South  response_Rep  response_Und  \n",
       "0                  0             1             0             1             0  \n",
       "1                  1             0             1             1             0  \n",
       "2                  0             0             0             0             0  \n",
       "3                  1             0             1             1             0  \n",
       "4                  0             0             1             0             0  \n",
       "..               ...           ...           ...           ...           ...  \n",
       "496                1             0             1             1             0  \n",
       "497                0             0             0             0             0  \n",
       "498                1             1             0             1             0  \n",
       "499                0             0             0             0             0  \n",
       "500                1             1             0             1             0  \n",
       "\n",
       "[488 rows x 35 columns]"
      ]
     },
     "execution_count": 64,
     "metadata": {},
     "output_type": "execute_result"
    }
   ],
   "source": [
    "pol"
   ]
  },
  {
   "cell_type": "code",
   "execution_count": 34,
   "metadata": {},
   "outputs": [],
   "source": [
    "new_vars = [gender_dum, race, is_approve, predicts_dem_win, dislikes_dems, dislikes_reps, party_affil, region_d, vote_rep]\n",
    "\n",
    "for var in new_vars:\n",
    "    pol = pd.concat([pol, var], axis=1)\n"
   ]
  },
  {
   "cell_type": "code",
   "execution_count": 35,
   "metadata": {},
   "outputs": [
    {
     "data": {
      "text/plain": [
       "Index(['response', 'gender', 'race_eth', 'approve', 'genballot', 'hdem_fav',\n",
       "       'hrep_fav', 'age_combined', 'educ4', 'file_party', 'gender_combined',\n",
       "       'likely', 'partyid', 'region', 'turnout_class', 'phone_type', 'Male',\n",
       "       'race_Black', 'race_Hispanic', 'race_Other', 'race_White',\n",
       "       'approve_Disapp.', 'approve_Don't know', 'genballot_Don't know',\n",
       "       'genballot_Reps. keep House', 'fav_dem_Favorable',\n",
       "       'fav_dem_Unfavorable', 'fav_rep_Favorable', 'fav_rep_Unfavorable',\n",
       "       'party_Other', 'party_Republican', 'region_North', 'region_South',\n",
       "       'response_Rep', 'response_Und'],\n",
       "      dtype='object')"
      ]
     },
     "execution_count": 35,
     "metadata": {},
     "output_type": "execute_result"
    }
   ],
   "source": [
    "pol.columns"
   ]
  },
  {
   "cell_type": "code",
   "execution_count": 36,
   "metadata": {},
   "outputs": [
    {
     "data": {
      "text/plain": [
       "White       389\n",
       "Black        67\n",
       "Hispanic     18\n",
       "Other        11\n",
       "Asian         3\n",
       "Name: race_eth, dtype: int64"
      ]
     },
     "execution_count": 36,
     "metadata": {},
     "output_type": "execute_result"
    }
   ],
   "source": [
    "pol.race_eth.value_counts()"
   ]
  },
  {
   "cell_type": "code",
   "execution_count": 37,
   "metadata": {},
   "outputs": [],
   "source": [
    "features = ['age_combined', 'educ4', 'likely', 'Male', 'race_Black',\n",
    "            'race_Hispanic', 'race_Other', 'race_White', 'approve_Disapp.',\n",
    "            \"approve_Don't know\", \"genballot_Don't know\", 'genballot_Reps. keep House',\n",
    "            'fav_dem_Favorable', 'fav_dem_Unfavorable', 'fav_rep_Favorable', 'fav_rep_Unfavorable',\n",
    "            'party_Other', 'party_Republican', 'region_North', 'region_South']\n",
    "X = pol[features]\n",
    "y = pol.response_Rep"
   ]
  },
  {
   "cell_type": "markdown",
   "metadata": {},
   "source": [
    "## Part 3: Fit a Random Forest Model to Predict Poll Response\n",
    "No need to do any fancing tuning, unless you want to."
   ]
  },
  {
   "cell_type": "code",
   "execution_count": 38,
   "metadata": {},
   "outputs": [
    {
     "data": {
      "text/plain": [
       "RandomForestRegressor(max_features=5, n_estimators=150, oob_score=True)"
      ]
     },
     "execution_count": 38,
     "metadata": {},
     "output_type": "execute_result"
    }
   ],
   "source": [
    "rfreg = RandomForestRegressor(n_estimators=150,\n",
    "                              max_features=5,\n",
    "                              oob_score=True)\n",
    "rfreg.fit(X, y)"
   ]
  },
  {
   "cell_type": "code",
   "execution_count": 39,
   "metadata": {},
   "outputs": [
    {
     "data": {
      "text/html": [
       "<div>\n",
       "<style scoped>\n",
       "    .dataframe tbody tr th:only-of-type {\n",
       "        vertical-align: middle;\n",
       "    }\n",
       "\n",
       "    .dataframe tbody tr th {\n",
       "        vertical-align: top;\n",
       "    }\n",
       "\n",
       "    .dataframe thead th {\n",
       "        text-align: right;\n",
       "    }\n",
       "</style>\n",
       "<table border=\"1\" class=\"dataframe\">\n",
       "  <thead>\n",
       "    <tr style=\"text-align: right;\">\n",
       "      <th></th>\n",
       "      <th>feature</th>\n",
       "      <th>importance</th>\n",
       "    </tr>\n",
       "  </thead>\n",
       "  <tbody>\n",
       "    <tr>\n",
       "      <th>5</th>\n",
       "      <td>race_Hispanic</td>\n",
       "      <td>0.000978</td>\n",
       "    </tr>\n",
       "    <tr>\n",
       "      <th>6</th>\n",
       "      <td>race_Other</td>\n",
       "      <td>0.001436</td>\n",
       "    </tr>\n",
       "    <tr>\n",
       "      <th>18</th>\n",
       "      <td>region_North</td>\n",
       "      <td>0.005714</td>\n",
       "    </tr>\n",
       "    <tr>\n",
       "      <th>7</th>\n",
       "      <td>race_White</td>\n",
       "      <td>0.008221</td>\n",
       "    </tr>\n",
       "    <tr>\n",
       "      <th>16</th>\n",
       "      <td>party_Other</td>\n",
       "      <td>0.009826</td>\n",
       "    </tr>\n",
       "    <tr>\n",
       "      <th>10</th>\n",
       "      <td>genballot_Don't know</td>\n",
       "      <td>0.010038</td>\n",
       "    </tr>\n",
       "    <tr>\n",
       "      <th>4</th>\n",
       "      <td>race_Black</td>\n",
       "      <td>0.011802</td>\n",
       "    </tr>\n",
       "    <tr>\n",
       "      <th>19</th>\n",
       "      <td>region_South</td>\n",
       "      <td>0.012007</td>\n",
       "    </tr>\n",
       "    <tr>\n",
       "      <th>9</th>\n",
       "      <td>approve_Don't know</td>\n",
       "      <td>0.012287</td>\n",
       "    </tr>\n",
       "    <tr>\n",
       "      <th>3</th>\n",
       "      <td>Male</td>\n",
       "      <td>0.019869</td>\n",
       "    </tr>\n",
       "    <tr>\n",
       "      <th>0</th>\n",
       "      <td>age_combined</td>\n",
       "      <td>0.024167</td>\n",
       "    </tr>\n",
       "    <tr>\n",
       "      <th>1</th>\n",
       "      <td>educ4</td>\n",
       "      <td>0.025161</td>\n",
       "    </tr>\n",
       "    <tr>\n",
       "      <th>15</th>\n",
       "      <td>fav_rep_Unfavorable</td>\n",
       "      <td>0.027822</td>\n",
       "    </tr>\n",
       "    <tr>\n",
       "      <th>2</th>\n",
       "      <td>likely</td>\n",
       "      <td>0.037595</td>\n",
       "    </tr>\n",
       "    <tr>\n",
       "      <th>17</th>\n",
       "      <td>party_Republican</td>\n",
       "      <td>0.062305</td>\n",
       "    </tr>\n",
       "    <tr>\n",
       "      <th>13</th>\n",
       "      <td>fav_dem_Unfavorable</td>\n",
       "      <td>0.065875</td>\n",
       "    </tr>\n",
       "    <tr>\n",
       "      <th>12</th>\n",
       "      <td>fav_dem_Favorable</td>\n",
       "      <td>0.070295</td>\n",
       "    </tr>\n",
       "    <tr>\n",
       "      <th>14</th>\n",
       "      <td>fav_rep_Favorable</td>\n",
       "      <td>0.140510</td>\n",
       "    </tr>\n",
       "    <tr>\n",
       "      <th>8</th>\n",
       "      <td>approve_Disapp.</td>\n",
       "      <td>0.174435</td>\n",
       "    </tr>\n",
       "    <tr>\n",
       "      <th>11</th>\n",
       "      <td>genballot_Reps. keep House</td>\n",
       "      <td>0.279656</td>\n",
       "    </tr>\n",
       "  </tbody>\n",
       "</table>\n",
       "</div>"
      ],
      "text/plain": [
       "                       feature  importance\n",
       "5                race_Hispanic    0.000978\n",
       "6                   race_Other    0.001436\n",
       "18                region_North    0.005714\n",
       "7                   race_White    0.008221\n",
       "16                 party_Other    0.009826\n",
       "10        genballot_Don't know    0.010038\n",
       "4                   race_Black    0.011802\n",
       "19                region_South    0.012007\n",
       "9           approve_Don't know    0.012287\n",
       "3                         Male    0.019869\n",
       "0                 age_combined    0.024167\n",
       "1                        educ4    0.025161\n",
       "15         fav_rep_Unfavorable    0.027822\n",
       "2                       likely    0.037595\n",
       "17            party_Republican    0.062305\n",
       "13         fav_dem_Unfavorable    0.065875\n",
       "12           fav_dem_Favorable    0.070295\n",
       "14           fav_rep_Favorable    0.140510\n",
       "8              approve_Disapp.    0.174435\n",
       "11  genballot_Reps. keep House    0.279656"
      ]
     },
     "execution_count": 39,
     "metadata": {},
     "output_type": "execute_result"
    }
   ],
   "source": [
    "pd.DataFrame({'feature':features,\n",
    "              'importance':rfreg.feature_importances_}).sort_values(by='importance')"
   ]
  },
  {
   "cell_type": "markdown",
   "metadata": {},
   "source": [
    "## Part 4: Evaluation"
   ]
  },
  {
   "cell_type": "markdown",
   "metadata": {},
   "source": [
    "### Part 4A: What is the baseline accuracy of your model? Did your OOB score beat it?"
   ]
  },
  {
   "cell_type": "code",
   "execution_count": 42,
   "metadata": {},
   "outputs": [
    {
     "name": "stdout",
     "output_type": "stream",
     "text": [
      "0.45081967213114754\n",
      "0.7914240408033801\n"
     ]
    }
   ],
   "source": [
    "print(y.mean())\n",
    "print((rfreg.oob_score_))"
   ]
  },
  {
   "cell_type": "code",
   "execution_count": null,
   "metadata": {},
   "outputs": [],
   "source": []
  },
  {
   "cell_type": "markdown",
   "metadata": {},
   "source": [
    "### Part 4B: Metrics\n",
    "Show me each of the following model metrics for your model:\n",
    "* Accuracy score\n",
    "* Confusion matrix\n",
    "* Log-likelihood score (sometimes called log-loss or cross-entropy)\n",
    "\n",
    "**HINT:** For that last one, you'll need `metrics.log_loss`, which needs your predicted values to be in the form of `predict_proba`."
   ]
  },
  {
   "cell_type": "code",
   "execution_count": 60,
   "metadata": {},
   "outputs": [
    {
     "name": "stdout",
     "output_type": "stream",
     "text": [
      "0.7914240408033801\n",
      "[[55  8]\n",
      " [ 5 54]]\n"
     ]
    },
    {
     "name": "stderr",
     "output_type": "stream",
     "text": [
      "C:\\Users\\614318\\Anaconda3\\lib\\site-packages\\sklearn\\linear_model\\_logistic.py:762: ConvergenceWarning: lbfgs failed to converge (status=1):\n",
      "STOP: TOTAL NO. of ITERATIONS REACHED LIMIT.\n",
      "\n",
      "Increase the number of iterations (max_iter) or scale the data as shown in:\n",
      "    https://scikit-learn.org/stable/modules/preprocessing.html\n",
      "Please also refer to the documentation for alternative solver options:\n",
      "    https://scikit-learn.org/stable/modules/linear_model.html#logistic-regression\n",
      "  n_iter_i = _check_optimize_result(\n"
     ]
    },
    {
     "data": {
      "text/plain": [
       "0.1328872111174878"
      ]
     },
     "execution_count": 60,
     "metadata": {},
     "output_type": "execute_result"
    }
   ],
   "source": [
    "print((rfreg.oob_score_))\n",
    "\n",
    "X_train, X_test, y_train, y_test = train_test_split(X,y, random_state = 123)\n",
    "logit_simple = LogisticRegression(C=1e9).fit(X_train, y_train)\n",
    "logit_pred_proba = logit_simple.predict_proba(X_test)[:,1]\n",
    "\n",
    "print(mt.confusion_matrix(y_true=y_test, y_pred=logit_pred_proba > .5))\n",
    "\n",
    "logreg = LogisticRegression()\n",
    "\n",
    "logreg.fit(X, y)\n",
    "pred = logreg.predict(X)\n",
    "log_proba = logreg.predict_proba(X)\n",
    "log_proba\n",
    "mt.log_loss(y, log_proba)"
   ]
  },
  {
   "cell_type": "code",
   "execution_count": null,
   "metadata": {},
   "outputs": [],
   "source": []
  },
  {
   "cell_type": "markdown",
   "metadata": {},
   "source": [
    "## Part BONUS: You\n",
    "According to your model, how does it say YOU will vote? Setting this up is a bit of a challenge, so this is not mandatory.\n",
    "\n",
    "(You can make up things about you if you want.)"
   ]
  },
  {
   "cell_type": "code",
   "execution_count": 72,
   "metadata": {},
   "outputs": [
    {
     "data": {
      "text/plain": [
       "array([0.22666667])"
      ]
     },
     "execution_count": 72,
     "metadata": {},
     "output_type": "execute_result"
    }
   ],
   "source": [
    "#copied down features for my reference.\n",
    "\n",
    "features = ['age_combined', 'educ4', 'likely', 'Male', 'race_Black',\n",
    "            'race_Hispanic', 'race_Other', 'race_White', 'approve_Disapp.',\n",
    "            \"approve_Don't know\", \"genballot_Don't know\", 'genballot_Reps. keep House',\n",
    "            'fav_dem_Favorable', 'fav_dem_Unfavorable', 'fav_rep_Favorable', 'fav_rep_Unfavorable',\n",
    "            'party_Other', 'party_Republican', 'region_North', 'region_South']\n",
    "\n",
    "my_stats = [[1,3,4,1,0,0,0,1,1,0,1,0,0,1,0,1,0,1,1,0]]\n",
    "\n",
    "rfreg.predict(my_stats)\n",
    "\n",
    "# This model gives me a 22.67% change of voting Republican."
   ]
  },
  {
   "cell_type": "code",
   "execution_count": null,
   "metadata": {},
   "outputs": [],
   "source": []
  }
 ],
 "metadata": {
  "kernelspec": {
   "display_name": "Python 3",
   "language": "python",
   "name": "python3"
  },
  "language_info": {
   "codemirror_mode": {
    "name": "ipython",
    "version": 3
   },
   "file_extension": ".py",
   "mimetype": "text/x-python",
   "name": "python",
   "nbconvert_exporter": "python",
   "pygments_lexer": "ipython3",
   "version": "3.8.5"
  }
 },
 "nbformat": 4,
 "nbformat_minor": 4
}
