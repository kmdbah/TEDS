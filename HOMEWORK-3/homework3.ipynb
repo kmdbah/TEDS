{
 "cells": [
  {
   "cell_type": "markdown",
   "metadata": {},
   "source": [
    "<img src=\"https://ga-dash.s3.amazonaws.com/production/assets/logo-9f88ae6c9c3871690e33280fcf557f33.png\" width=\"50\" height=\"50\">\n",
    "\n",
    "# Homework 3"
   ]
  },
  {
   "cell_type": "markdown",
   "metadata": {},
   "source": [
    "## Problem 0: Load Libraries"
   ]
  },
  {
   "cell_type": "code",
   "execution_count": 77,
   "metadata": {},
   "outputs": [],
   "source": [
    "import numpy as np\n",
    "import pandas as pd\n",
    "import matplotlib.pyplot as plt\n",
    "import scipy.stats as stats"
   ]
  },
  {
   "cell_type": "markdown",
   "metadata": {},
   "source": [
    "## Problem 1: Matrix Algebra"
   ]
  },
  {
   "cell_type": "code",
   "execution_count": 78,
   "metadata": {},
   "outputs": [],
   "source": [
    "###### Run this cell -- it does not need modification. #######\n",
    "from sklearn.linear_model import LinearRegression, Ridge\n",
    "\n",
    "def matches_sklearn_linreg(betas, X, y):\n",
    "    \"\"\"\n",
    "    Returns True if `betas` match the sklearn LinearRegression betas,\n",
    "    given data `X` and target `y`.\n",
    "    \"\"\"\n",
    "    # Our X already has an intercept column of 1s prepended,\n",
    "    #  so we tell sklearn not to prepend another one\n",
    "    lr = LinearRegression(fit_intercept=False)\n",
    "    lr.fit(X, y)\n",
    "\n",
    "    lr_betas = lr.coef_.reshape(-1,1)\n",
    "    return np.isclose(lr_betas, betas).all()\n",
    "\n",
    "\n",
    "def matches_sklearn_ridge(ridge_func, X, y, alpha=1.0):\n",
    "    \"\"\"\n",
    "    Returns True if the `ridge_func` betas match the \n",
    "    sklearn Ridge betas, given data `X` and target `y`.\n",
    "    \"\"\"\n",
    "    ridge_lr = Ridge(alpha=alpha, fit_intercept=False, solver='cholesky')\n",
    "    ridge_lr.fit(X, y)\n",
    "\n",
    "    ridge_betas = ridge_lr.coef_.reshape(-1,1)\n",
    "    return np.isclose(ridge_betas, ridge_func(alpha)).all()"
   ]
  },
  {
   "cell_type": "markdown",
   "metadata": {},
   "source": [
    "In this problem, you'll compute the coefficients for a regression manually, using linear algebra. Below, I construct a matrix 𝐗 and vector 𝐲 for you. Produce the OLS estimate as follows### Part A: Ordinary Least Squares\n",
    "In this problem, you'll compute the coefficients for a regression _manually_, using linear algebra. Below, I construct a matrix $\\mathbf{X}$ and vector $\\mathbf{y}$ for you. Produce the OLS estimate as follows:\n",
    "\n",
    "$$\\hat\\beta = (\\mathbf{X}^T\\mathbf{X})^{-1}\\mathbf{X}^T\\mathbf{y}$$\n",
    "\n",
    "(Here, $\\beta$ is the vector of slope estimates, if you know what that means. If you don't, know that you're just being tasked with computing $\\beta$ here!)"
   ]
  },
  {
   "cell_type": "code",
   "execution_count": 79,
   "metadata": {},
   "outputs": [],
   "source": [
    "# Note that X has a column of 1s prepended (for the y-intercept)\n",
    "X = np.load('data/X.npy')   # 300x20 matrix\n",
    "y = np.load('data/y.npy')   # 300x1 column vector"
   ]
  },
  {
   "cell_type": "code",
   "execution_count": null,
   "metadata": {},
   "outputs": [],
   "source": []
  },
  {
   "cell_type": "code",
   "execution_count": 80,
   "metadata": {},
   "outputs": [
    {
     "name": "stdout",
     "output_type": "stream",
     "text": [
      "[[ 3.9556884 ]\n",
      " [-3.91274951]\n",
      " [ 8.053053  ]\n",
      " [-8.0174642 ]\n",
      " [ 8.94947197]\n",
      " [ 6.0516628 ]\n",
      " [ 5.03354572]\n",
      " [ 7.9140303 ]\n",
      " [ 4.02806253]\n",
      " [-1.00055382]\n",
      " [-1.02853503]\n",
      " [ 3.00893106]\n",
      " [ 9.95585065]\n",
      " [-0.96541588]\n",
      " [-6.97124311]\n",
      " [-4.97763643]\n",
      " [-3.96938252]\n",
      " [-8.04199218]\n",
      " [-3.06000985]\n",
      " [-9.09528544]]\n"
     ]
    },
    {
     "data": {
      "text/plain": [
       "True"
      ]
     },
     "execution_count": 80,
     "metadata": {},
     "output_type": "execute_result"
    }
   ],
   "source": [
    "betas = np.linalg.inv((X.T @ X)) @ (X.T @ y)\n",
    "\n",
    "print(betas)\n",
    "\n",
    "# TEST - when uncommented, returns True if correct\n",
    "matches_sklearn_linreg(betas, X, y)"
   ]
  },
  {
   "cell_type": "markdown",
   "metadata": {},
   "source": [
    "### Part B: Ridge Regression\n",
    "Now, we're going to compute a column vector of coefficients ($\\beta$, pronounced \"beta\") for a special variant of OLS called _ridge regression_. For some scalar $\\alpha > 0$ (pronounced \"alpha\"), they are computed as follows:\n",
    "\n",
    "$$\\hat\\beta^{\\text{ridge}} = (\\mathbf{X}^T\\mathbf{X} + \\alpha I)^{-1}\\mathbf{X}^T\\mathbf{y}$$\n",
    "\n",
    "**Write a function that takes $\\alpha$ as input, and outputs $\\hat\\beta^{\\text{ridge}}$**.\n",
    "\n",
    "_HINT:_ To make an identity matrix of size $n$, you can use `np.eye(n)`."
   ]
  },
  {
   "cell_type": "code",
   "execution_count": 81,
   "metadata": {},
   "outputs": [
    {
     "data": {
      "text/plain": [
       "True"
      ]
     },
     "execution_count": 81,
     "metadata": {},
     "output_type": "execute_result"
    }
   ],
   "source": [
    "def ridge_coefs(alpha):\n",
    "    answer = np.linalg.inv(X.T @ X + (alpha * np.eye(len(X.T)))) @ (X.T @ y)\n",
    "    return answer\n",
    "\n",
    "# TEST - when uncommented, returns True if correct\n",
    "\n",
    "matches_sklearn_ridge(ridge_coefs, X, y, alpha=1.0)"
   ]
  },
  {
   "cell_type": "markdown",
   "metadata": {},
   "source": [
    "### Part C: Ridge Trace Plot\n",
    "Using your function `ridge_coefs` and the vector of $\\alpha$s given below, make a line plot with $\\alpha$ on the x-axis, and $\\|\\hat\\beta^{\\text{ridge}}\\|$ on the y-axis. (Recall that $||x||$ is the magnitude of $x$.)\n",
    "\n",
    "> Ridge regression is a technique for combatting overfitting. It limits the size of $||\\beta||$, which yields a less complex model that is less likely to overfit.\n",
    "\n",
    "You should notice that $||\\beta||$ (the model complexity) decreases as $\\alpha$ increases. "
   ]
  },
  {
   "cell_type": "code",
   "execution_count": 82,
   "metadata": {},
   "outputs": [
    {
     "data": {
      "image/png": "[encoded data removed]",
      "text/plain": [
       "<Figure size 432x288 with 1 Axes>"
      ]
     },
     "metadata": {
      "needs_background": "light"
     },
     "output_type": "display_data"
    }
   ],
   "source": [
    "import matplotlib.pyplot as plt\n",
    "\n",
    "alphas = np.linspace(1, 1000, 100)\n",
    "\n",
    "ridge_list = []\n",
    "for i in alphas:\n",
    "    ridge_list.append(np.linalg.norm(ridge_coefs(i)))\n",
    "\n",
    "plt.plot(alphas, ridge_list);"
   ]
  },
  {
   "cell_type": "code",
   "execution_count": null,
   "metadata": {},
   "outputs": [],
   "source": []
  },
  {
   "cell_type": "markdown",
   "metadata": {},
   "source": [
    "## Problem 2: Hypothesis Testing"
   ]
  },
  {
   "cell_type": "markdown",
   "metadata": {},
   "source": [
    "### Part A: Data\n",
    "Read in the `phone-time.csv` data. It contains daily statistics on the amount of minutes spent on the phone by Tim and Heather. Plot histograms of each person's phone usage. Do you think they're normally distributed? (Optional: Can you research and use a statistical test to determine if they are normal?)"
   ]
  },
  {
   "cell_type": "code",
   "execution_count": 83,
   "metadata": {},
   "outputs": [
    {
     "data": {
      "image/png": "[encoded data removed]",
      "text/plain": [
       "<Figure size 432x288 with 1 Axes>"
      ]
     },
     "metadata": {
      "needs_background": "light"
     },
     "output_type": "display_data"
    }
   ],
   "source": [
    "ph_df = pd.read_csv('./data/phone-time.csv', sep=',')\n",
    "\n",
    "tim_df = ph_df[ph_df.name == 'Tim']\n",
    "\n",
    "hth_df = ph_df[ph_df.name == 'Heather']\n",
    "\n",
    "tim_df.hist();"
   ]
  },
  {
   "cell_type": "code",
   "execution_count": 84,
   "metadata": {},
   "outputs": [
    {
     "data": {
      "image/png": "[encoded data removed]",
      "text/plain": [
       "<Figure size 432x288 with 1 Axes>"
      ]
     },
     "metadata": {
      "needs_background": "light"
     },
     "output_type": "display_data"
    }
   ],
   "source": [
    "hth_df.hist();"
   ]
  },
  {
   "cell_type": "code",
   "execution_count": 85,
   "metadata": {},
   "outputs": [
    {
     "name": "stdout",
     "output_type": "stream",
     "text": [
      "26.377604987009793\n",
      "21.2771445871357\n",
      "19.45538908856192\n",
      "17.105278155747598\n",
      "ShapiroResult(statistic=0.8966165781021118, pvalue=9.925183985615149e-05)\n",
      "ShapiroResult(statistic=0.9418814182281494, pvalue=0.006579215172678232)\n"
     ]
    }
   ],
   "source": [
    "print(hth_df.time.mean())\n",
    "print(hth_df.time.median())\n",
    "\n",
    "print(tim_df.time.mean())\n",
    "print(tim_df.time.median())\n",
    "\n",
    "#Answer: visually neither appears to be normally distributed, and in both distributions the median != the mean\n",
    "\n",
    "print(stats.shapiro(hth_df.time))\n",
    "print(stats.shapiro(tim_df.time))\n",
    "\n",
    "#the shapiro-wilk test shows very low p-value so we can reject null hypothesis that the distributions are normal."
   ]
  },
  {
   "cell_type": "markdown",
   "metadata": {},
   "source": [
    "### Part B: Test Differences\n",
    "Are Tim's and Heather's phone-usage times significantly different?\n",
    "\n",
    "Carry out the appropriate hypothesis test of the difference in mean (or median!) phone times. **When importing the appropriate test, make sure your input goes in the very first cell of this notebook alongside your other imports!**\n",
    "\n",
    "Hint:\n",
    "* If you believe the distributions are normally distributed, use a **two-sample t-test**.\n",
    "    - This tests whether or not the two _means_ are the same or different.\n",
    "* If you believe the distributions are _not_ normal, use a **Mann-Whitney(-Wilcoxon) test**.\n",
    "    - This tests whether or not the two _medians_ are the same or different. \n",
    "\n"
   ]
  },
  {
   "cell_type": "code",
   "execution_count": 87,
   "metadata": {},
   "outputs": [
    {
     "name": "stdout",
     "output_type": "stream",
     "text": [
      "MannwhitneyuResult(statistic=1514.0, pvalue=0.06700346427027845)\n",
      "Ttest_indResult(statistic=-2.072859925796017, pvalue=0.04036261391204511)\n"
     ]
    }
   ],
   "source": [
    "tim_time = tim_df.time\n",
    "hth_time = hth_df.time\n",
    "\n",
    "print(stats.mannwhitneyu(tim_time, hth_time))\n",
    "\n",
    "print(stats.ttest_ind(tim_time, hth_time, axis=0, equal_var=True))\n"
   ]
  },
  {
   "cell_type": "markdown",
   "metadata": {},
   "source": [
    "### Part C: Interpretation\n",
    "In plain English, interpret your findings in Part B. Interpretation should be so simple, even a client can understand it."
   ]
  },
  {
   "cell_type": "code",
   "execution_count": 91,
   "metadata": {},
   "outputs": [],
   "source": [
    "# The Mann-Whitney test tells us that we are unable to reject the null hypothesis that Tim and Heather's phone usage is the same."
   ]
  },
  {
   "cell_type": "code",
   "execution_count": null,
   "metadata": {},
   "outputs": [],
   "source": []
  },
  {
   "cell_type": "code",
   "execution_count": null,
   "metadata": {},
   "outputs": [],
   "source": [
    "\n"
   ]
  },
  {
   "cell_type": "code",
   "execution_count": null,
   "metadata": {},
   "outputs": [],
   "source": []
  }
 ],
 "metadata": {
  "kernelspec": {
   "display_name": "Python 3",
   "language": "python",
   "name": "python3"
  },
  "language_info": {
   "codemirror_mode": {
    "name": "ipython",
    "version": 3
   },
   "file_extension": ".py",
   "mimetype": "text/x-python",
   "name": "python",
   "nbconvert_exporter": "python",
   "pygments_lexer": "ipython3",
   "version": "3.8.5"
  }
 },
 "nbformat": 4,
 "nbformat_minor": 4
}
