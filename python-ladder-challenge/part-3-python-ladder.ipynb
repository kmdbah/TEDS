{
 "cells": [
  {
   "cell_type": "markdown",
   "metadata": {},
   "source": [
    "<img src=\"http://imgur.com/1ZcRyrc.png\" style=\"float: left; margin: 20px; height: 55px\" />\n",
    "\n",
    "# Python Ladder Challenge - Notebook 3\n",
    "\n",
    "_Author:_ Tim Book"
   ]
  },
  {
   "cell_type": "markdown",
   "metadata": {},
   "source": [
    "# Climb the Ladder!\n",
    "Our class moves quickly! Sometimes, it feels like we make leaps in logic that are a bit too big. Learn Python _slowly_, by doing many, many examples. Problems in this notebook start out easy and progressively get harder, so that the next rung of the Python ladder is always within reach."
   ]
  },
  {
   "cell_type": "markdown",
   "metadata": {},
   "source": [
    "# Section VII: Functions\n",
    "In this section, every question gives example(s). You can (but don't need to) name your function accordingly. You _should_ test out the example to make sure your function works properly. If the example doesn't work, your answer is likely incorrect."
   ]
  },
  {
   "cell_type": "markdown",
   "metadata": {},
   "source": [
    "72) Write a function to compute the area of a triangle. You only need the base and height of a triangle to compute its area.\n",
    "\n",
    "* _Example:_ `area_triangle(5, 4) == 10.0`"
   ]
  },
  {
   "cell_type": "code",
   "execution_count": 3,
   "metadata": {},
   "outputs": [
    {
     "name": "stdout",
     "output_type": "stream",
     "text": [
      "4.5\n"
     ]
    }
   ],
   "source": [
    "def area_triangle (b, h):\n",
    "    return b * h * 0.5\n",
    "\n",
    "print(area_triangle(3,3))"
   ]
  },
  {
   "cell_type": "markdown",
   "metadata": {},
   "source": [
    "73) Import `pi` from `math` and write a function to compute the area of a circle. You only need the radius of a circle to compute its area.\n",
    "\n",
    "* _Example:_ `area_circle(10) == 314.159...`"
   ]
  },
  {
   "cell_type": "code",
   "execution_count": 7,
   "metadata": {},
   "outputs": [
    {
     "name": "stdout",
     "output_type": "stream",
     "text": [
      "452.3893421169302\n"
     ]
    }
   ],
   "source": [
    "from math import pi\n",
    "\n",
    "def area_circle(r):\n",
    "    return pi * r ** 2\n",
    "\n",
    "print(area_circle(12))"
   ]
  },
  {
   "cell_type": "markdown",
   "metadata": {},
   "source": [
    "74) Write a function that takes in a number `max_num` and returns the sum of the numbers 1 through `max_num` (inclusive).\n",
    "* _Example:_ `sum_n(5) == 1 + 2 + 3 + 4 + 5 == 15`"
   ]
  },
  {
   "cell_type": "code",
   "execution_count": 10,
   "metadata": {},
   "outputs": [
    {
     "name": "stdout",
     "output_type": "stream",
     "text": [
      "15\n"
     ]
    }
   ],
   "source": [
    "def sum_n(max_num):\n",
    "    cumul = 0\n",
    "    for i in range(1, max_num+1):\n",
    "        cumul += i\n",
    "    return cumul\n",
    "\n",
    "print(sum_n(5))"
   ]
  },
  {
   "cell_type": "markdown",
   "metadata": {},
   "source": [
    "75) Write a function that takes in a number `max_num` and returns the sum of the square of the numbers 1 through `max_num` (inclusive).\n",
    "* `sum_squares(5) == 1 + 4 + 9 + 16 + 25 == 55`"
   ]
  },
  {
   "cell_type": "code",
   "execution_count": 13,
   "metadata": {},
   "outputs": [
    {
     "name": "stdout",
     "output_type": "stream",
     "text": [
      "55\n"
     ]
    }
   ],
   "source": [
    "def sum_sq(max_num):\n",
    "    cumul = 0\n",
    "    for i in range(1, max_num+1):\n",
    "        cumul += i ** 2\n",
    "    return cumul\n",
    "\n",
    "print(sum_sq(5))"
   ]
  },
  {
   "cell_type": "markdown",
   "metadata": {},
   "source": [
    "76) Write a function that takes a number (an amount in euros) and convert it to U.S. dollars. There are 1.1 U.S. dollars per euro.\n",
    "* `to_dollar(10) == 11.0`"
   ]
  },
  {
   "cell_type": "code",
   "execution_count": 14,
   "metadata": {},
   "outputs": [
    {
     "name": "stdout",
     "output_type": "stream",
     "text": [
      "11.0\n"
     ]
    }
   ],
   "source": [
    "def to_dollar(euro):\n",
    "    return euro * 1.1\n",
    "\n",
    "print(to_dollar(10))"
   ]
  },
  {
   "cell_type": "markdown",
   "metadata": {},
   "source": [
    "76) Write a function that takes a list of numbers (amounts in euros), and returns them converted to dollars. Use your answer to the previous question in your answer to this question.\n",
    "* _Example:_ `to_dollar_list([1, 10, 100]) == [1.1, 11.0, 110.0]`\n",
    "* _Note:_ You may get some decimal weirdness here."
   ]
  },
  {
   "cell_type": "code",
   "execution_count": 28,
   "metadata": {},
   "outputs": [
    {
     "name": "stdout",
     "output_type": "stream",
     "text": [
      "[1.1, 11.0, 110.00000000000001]\n",
      "[1.1, 11.0, 110.00000000000001]\n"
     ]
    }
   ],
   "source": [
    "def to_dollar_list(euros):\n",
    "    dollars = [euro * 1.1 for euro in euros]\n",
    "    return dollars\n",
    "\n",
    "print(to_dollar_list([1, 10, 100]))"
   ]
  },
  {
   "cell_type": "markdown",
   "metadata": {},
   "source": [
    "77) Write a function that takes a number (a person's height) and returns \"Tall enough\" if they are at least 5 feet (60 inches) or \"Too short\" if they are below 5 feet.\n",
    "* _Example:_ `is_tall(72) == 'Tall enough'`\n",
    "* _Example:_ `is_tall(52) == 'Too short'`"
   ]
  },
  {
   "cell_type": "code",
   "execution_count": 33,
   "metadata": {},
   "outputs": [
    {
     "name": "stdout",
     "output_type": "stream",
     "text": [
      "Too short\n"
     ]
    }
   ],
   "source": [
    "def is_tall(height):\n",
    "    if height >= 60:\n",
    "        return 'Tall enough'\n",
    "    else:\n",
    "        return 'Too short'\n",
    "\n",
    "print(is_tall(52))"
   ]
  },
  {
   "cell_type": "markdown",
   "metadata": {},
   "source": [
    "78) Write a function that takes a list of numbers (peoples' heights) and returns a list of strings \"Tall enough\" or \"Too short\" as in the previous problem. Use your answer to the previous problem to help answer this problem.\n",
    "* _Example:_ `is_tall_list([58, 70, 60]) == ['Too short', 'Tall enough', 'Tall enough']`"
   ]
  },
  {
   "cell_type": "code",
   "execution_count": 34,
   "metadata": {},
   "outputs": [
    {
     "name": "stdout",
     "output_type": "stream",
     "text": [
      "['Too Short', 'Tall enough', 'Tall enough']\n"
     ]
    }
   ],
   "source": [
    "def is_tall_list(heights):\n",
    "    tall_list = [\"Tall enough\" if i >= 60 else \"Too Short\" for i in heights]\n",
    "    return tall_list\n",
    "\n",
    "print(is_tall_list([58,70,60]))"
   ]
  },
  {
   "cell_type": "markdown",
   "metadata": {},
   "source": [
    "79) Write a function that takes in a numeric grade (0 to 100) and returns the letter grade (no pluses or minuses). In a traditional rubric, that would be as follows:\n",
    "\n",
    "* 90 or above = A\n",
    "* 80 - 89 = B\n",
    "* 70 - 79 = C\n",
    "* 60 - 69 = D\n",
    "* 59 or below = F\n",
    "    \n",
    "    \n",
    "* _Example:_ `letter_grade(85) == 'B'`"
   ]
  },
  {
   "cell_type": "code",
   "execution_count": 36,
   "metadata": {},
   "outputs": [
    {
     "name": "stdout",
     "output_type": "stream",
     "text": [
      "B\n"
     ]
    }
   ],
   "source": [
    "def letter_grade(num):\n",
    "    if num >= 90:\n",
    "        return 'A'\n",
    "    elif num >= 80:\n",
    "        return 'B'\n",
    "    elif num >= 70:\n",
    "        return 'C'\n",
    "    elif num >= 60:\n",
    "        return 'D'\n",
    "    else:\n",
    "        return 'F'\n",
    "\n",
    "print(letter_grade(85))\n",
    "    "
   ]
  },
  {
   "cell_type": "markdown",
   "metadata": {},
   "source": [
    "80) Write _another_ function that takes a list of numeric grades and returns their letter grades. Use the function written above in your answer.\n",
    "\n",
    "* _Example:_ `letter_grades([85, 62, 90]) == ['B', 'D', 'A']`"
   ]
  },
  {
   "cell_type": "code",
   "execution_count": 46,
   "metadata": {},
   "outputs": [
    {
     "name": "stdout",
     "output_type": "stream",
     "text": [
      "['B', 'D', 'A']\n"
     ]
    }
   ],
   "source": [
    "def letter_grades(heights):\n",
    "    letter_list = ['A' if i >= 90 else 'B' if i >=80 else 'C' if i >= 70 else 'D' if i >= 60 else 'F' for i in heights]\n",
    "    return letter_list\n",
    "\n",
    "print(letter_grades([85,62,90]))"
   ]
  },
  {
   "cell_type": "markdown",
   "metadata": {},
   "source": [
    "81) Write a function that takes in a string and returns the number of vowels in that string. (No, y is not a vowel).\n",
    "* _Example:_ `vowel_count('General Assembly') == 5`"
   ]
  },
  {
   "cell_type": "code",
   "execution_count": 54,
   "metadata": {},
   "outputs": [
    {
     "name": "stdout",
     "output_type": "stream",
     "text": [
      "5\n"
     ]
    }
   ],
   "source": [
    "def vowel_count(vow_str):\n",
    "    vowels = ['a', 'e', 'i', 'o', 'u']\n",
    "    vow_str = vow_str.lower()\n",
    "    count = [char for char in vow_str if char in vowels]\n",
    "    return len(count)\n",
    "\n",
    "print(vowel_count('General Assembly'))"
   ]
  },
  {
   "cell_type": "markdown",
   "metadata": {},
   "source": [
    "82) Write a function that takes in a string and returns that string with its consonants capitalized and vowels lowercased.\n",
    "\n",
    "* _Example:_ `toggle_case('General Assembly') == 'GeNeRaL aSSeMBLY'`"
   ]
  },
  {
   "cell_type": "code",
   "execution_count": 55,
   "metadata": {},
   "outputs": [
    {
     "name": "stdout",
     "output_type": "stream",
     "text": [
      "GeNeRaL ASSeMBLY\n"
     ]
    }
   ],
   "source": [
    "def toggle_case(old_str):\n",
    "    vowels = ['a', 'e', 'i', 'o', 'u']\n",
    "    tog_str = ''\n",
    "    for char in old_str:\n",
    "        if char in vowels:\n",
    "            tog_str += char.lower()\n",
    "        else:\n",
    "            tog_str += char.upper()\n",
    "    return tog_str\n",
    "\n",
    "print(toggle_case('General Assembly'))\n",
    "        \n",
    "    "
   ]
  },
  {
   "cell_type": "markdown",
   "metadata": {},
   "source": [
    "83) Write a function that takes in a string and returns that string with its vowels removed.\n",
    "* _Example:_ `disemvowel('Python is my favorite language') == 'Pythn s my fvrt lngg'`"
   ]
  },
  {
   "cell_type": "code",
   "execution_count": 56,
   "metadata": {},
   "outputs": [
    {
     "name": "stdout",
     "output_type": "stream",
     "text": [
      "Pythn s my fvrt lngg\n"
     ]
    }
   ],
   "source": [
    "def disemvowel(gut_str):\n",
    "    vowels = ['a', 'e', 'i', 'o', 'u']\n",
    "    gut_str = gut_str.lower()\n",
    "    for char in gut_str:\n",
    "        if char in vowels:\n",
    "            gut_str = gut_str.replace(char, '')\n",
    "    return gut_str\n",
    "\n",
    "print(disemvowel('Python is my favorite language'))"
   ]
  },
  {
   "cell_type": "markdown",
   "metadata": {},
   "source": [
    "84) Write a function that takes in a string and returns that string with its vowels removed for each word _except for one-letter words_, in which case leave the vowel intact. You should use your answer in the previous problem to answer this.\n",
    "* _Example:_ `smart_disemvowel('I love Python programming') == 'I lv Pythn prgrmmng'`"
   ]
  },
  {
   "cell_type": "code",
   "execution_count": 61,
   "metadata": {},
   "outputs": [
    {
     "name": "stdout",
     "output_type": "stream",
     "text": [
      " I lv Pythn prgrmmng\n"
     ]
    }
   ],
   "source": [
    "def smart_disemvowel(phrase):\n",
    "    vowels = ['a', 'e', 'i', 'o', 'u']\n",
    "    word_list = phrase.split(' ')\n",
    "    disemvowel_str = ''\n",
    "    for word in word_list:\n",
    "        if word not in vowels:\n",
    "            for char in vowels:\n",
    "                word = word.replace(char, '')\n",
    "        disemvowel_str += ' ' + word\n",
    "    return disemvowel_str\n",
    "\n",
    "print(smart_disemvowel(\"I love Python programming\"))\n"
   ]
  },
  {
   "cell_type": "markdown",
   "metadata": {},
   "source": [
    "85) Write a function that takes in a string (likely multiple words long) and returns that string with the order of the words reversed.\n",
    "* _Example:_ `word_reverser('Data science is cool') == 'cool is science Data'`"
   ]
  },
  {
   "cell_type": "code",
   "execution_count": 72,
   "metadata": {},
   "outputs": [
    {
     "name": "stdout",
     "output_type": "stream",
     "text": [
      "cool is science Data\n"
     ]
    }
   ],
   "source": [
    "def word_reverser(rev_str):\n",
    "    str_chunks = rev_str.split()\n",
    "    str_chunks = str_chunks[::-1]\n",
    "    new_str = ' '.join(str_chunks)\n",
    "    return new_str\n",
    "\n",
    "\n",
    "print(word_reverser('Data science is cool'))"
   ]
  },
  {
   "cell_type": "markdown",
   "metadata": {},
   "source": [
    "86) Write a function that takes in a string (likely multiple words long) and returns that string with each word reversed, but with the words in the same order.\n",
    "* _Example:_ `letter_reverser('Data science is cool') == 'ataD ecneics si looc'`"
   ]
  },
  {
   "cell_type": "code",
   "execution_count": 74,
   "metadata": {},
   "outputs": [
    {
     "name": "stdout",
     "output_type": "stream",
     "text": [
      "ataD ecneics si looc\n"
     ]
    }
   ],
   "source": [
    "def word_reverser(rev_str):\n",
    "    str_chunks = rev_str.split()\n",
    "    rev_chunks = [str[::-1] for str in str_chunks]\n",
    "    new_str = ' '.join(rev_chunks)\n",
    "    return new_str\n",
    "\n",
    "\n",
    "print(word_reverser('Data science is cool'))"
   ]
  },
  {
   "cell_type": "markdown",
   "metadata": {},
   "source": [
    "87) Write a function that converts a string to \"leet speak\". Leet speak is a made-up internet language which you replace characters with symbols that look like those characters. For example:\n",
    "\n",
    "* _Example:_ `to_leet_speak('i am elite') == '! @M 31!73'`\n",
    "* _Hint:_ Recall what `.get()` does when called on a dictionary? Will this help you with spaces or other non-letter characters?\n",
    "\n",
    "_Note:_ This problem is borrowed from [this](https://www.codewars.com/kata/toleetspeak) wonderful Codewars challenge!\n",
    "\n",
    "Below is the English-to-leet dictionary:"
   ]
  },
  {
   "cell_type": "code",
   "execution_count": 76,
   "metadata": {},
   "outputs": [
    {
     "name": "stdout",
     "output_type": "stream",
     "text": [
      "I AM ELITE\n"
     ]
    },
    {
     "data": {
      "text/plain": [
       "'! @M 31!73'"
      ]
     },
     "execution_count": 76,
     "metadata": {},
     "output_type": "execute_result"
    }
   ],
   "source": [
    "LEET_DICT = {'A' : '@', 'B' : '8', 'C' : '(', 'D' : 'D', 'E' : '3',\n",
    "             'F' : 'F', 'G' : '6', 'H' : '#', 'I' : '!', 'J' : 'J',\n",
    "             'K' : 'K', 'L' : '1', 'M' : 'M', 'N' : 'N', 'O' : '0',\n",
    "             'P' : 'P', 'Q' : 'Q', 'R' : 'R', 'S' : '$', 'T' : '7',\n",
    "             'U' : 'U', 'V' : 'V', 'W' : 'W', 'X' : 'X', 'Y' : 'Y',\n",
    "             'Z' : '2'}\n",
    "\n",
    "def to_leet_speak(words):\n",
    "    leet_words = ''\n",
    "    words = words.upper()\n",
    "    print(words)\n",
    "    for char in words:\n",
    "        leet_words = leet_words + LEET_DICT.get(char, ' ')\n",
    "    return leet_words\n",
    "\n",
    "to_leet_speak('i am elite')"
   ]
  },
  {
   "cell_type": "code",
   "execution_count": null,
   "metadata": {},
   "outputs": [],
   "source": []
  },
  {
   "cell_type": "markdown",
   "metadata": {},
   "source": [
    "87) Write an `is_prime` function that takes in a number and returns a boolean of whether or not that number was prime. (_Hint:_ You already did this in a previous section.)\n",
    "\n",
    "* _Example:_ `is_prime(5) == True`\n",
    "* _Example:_ `is_prime(6) == False`"
   ]
  },
  {
   "cell_type": "code",
   "execution_count": 1,
   "metadata": {},
   "outputs": [
    {
     "name": "stdout",
     "output_type": "stream",
     "text": [
      "True\n",
      "False\n"
     ]
    }
   ],
   "source": [
    "def is_prime(check_num):\n",
    "    num_list = [num for num in range(2, check_num)]\n",
    "    prime_bool = True\n",
    "    for num in num_list:\n",
    "        if check_num % num == 0:\n",
    "            prime_bool = False\n",
    "            break\n",
    "    return prime_bool\n",
    "\n",
    "print(is_prime(5))\n",
    "print(is_prime(6))"
   ]
  },
  {
   "cell_type": "markdown",
   "metadata": {},
   "source": [
    "88) Write a function that takes in a number and returns the sum of all primes less than or equal to that number. You'll need your answer to the previous problem to answer this.\n",
    "* _Example:_ `sum_primes(11) == 2 + 3 + 5 + 7 + 11 == 28`\n",
    "* _Bonus:_ Can you do this in one line with a list comprehension?"
   ]
  },
  {
   "cell_type": "code",
   "execution_count": 15,
   "metadata": {},
   "outputs": [
    {
     "name": "stdout",
     "output_type": "stream",
     "text": [
      "28\n"
     ]
    }
   ],
   "source": [
    "def sum_primes(max_num):\n",
    "    return sum(num for num in range(2, max_num+1) if is_prime(num))\n",
    "\n",
    "print(sum_primes(11))"
   ]
  },
  {
   "cell_type": "markdown",
   "metadata": {},
   "source": [
    "\n",
    "# Section VIII: What's next?"
   ]
  },
  {
   "cell_type": "markdown",
   "metadata": {},
   "source": [
    "## Section VIIIa: Virtual Practice\n",
    "\n",
    "Now that we've got a handle on the basics (and a few problems much more difficult than \"basic\"), what do we do next? If you'd like some more difficult challenges, sign up for [Codewars](https://www.codewars.com)! Codewars is a website in which you are repeatedly given coding challenges that get progressively more difficult. You earn XP and level up, giving you harder and harder problems. Below is an ever-updating list of coding challenges that we recommend. Some of them are Codewars challenges, some from other resources:"
   ]
  },
  {
   "cell_type": "markdown",
   "metadata": {},
   "source": [
    "* [Run-length Encoding](https://www.codewars.com/kata/run-length-encoding-1) (Codewars)\n",
    "* [Permutations](https://leetcode.com/problems/permutations/) (Leetcode)\n",
    "* [\"1-Dimensional Candy Crush\"](https://leetcode.com/discuss/interview-question/380650/bloomberg-phone-screen-candy-crush-1d) (Leetcode)"
   ]
  },
  {
   "cell_type": "markdown",
   "metadata": {},
   "source": [
    "## Section VIIIb: Real Interview Challenges\n",
    "Below are interesting challenges stolen directly from real interviews! These challenges have been reported from both GA students and GA instructors. If you find a good one in your future interviews, please come back and tell us! This section of the ladder is ever-updating."
   ]
  },
  {
   "cell_type": "markdown",
   "metadata": {},
   "source": [
    "### File Permissions\n",
    "In UNIX-like systems (eg, Mac and Linux), the permissions on certain files are given by short 9-character codes. These characters represent the read (**r**), write (**w**), and execute (**x**) permissions of the owner, assigned group, and all users, respectively. For example, the code\n",
    "\n",
    "`rwx------`\n",
    "\n",
    "means the file owner has all 3 kinds of permissions, but no one else can do anything. Another common code is \n",
    "\n",
    "`rwxr-xr-x`\n",
    "\n",
    "which means that everyone can read and execute the file, but only the owner has permission to write to it (that is, to change it). You can see these permissions yourself by typing `ls -l` from your command line!\n",
    "\n",
    "In order to further save space, these codes are often saved as a 3-digit number, where each digit corresponds to the sum of the values of `r`, `w`, and `x`. `r` is worth 4, `w` is worth 2, `x` is worth 1, and `-` is worth 0. For example, `rwx------` is shortened to the code `700`, and `rwxr-xr-x` is `755`.\n",
    "\n",
    "Your challenge is to write a function that shortens the \"permission string\" to its corresponding \"permission code\" (properly known as its \"octal notation\"). Please note that the output of your function should be an integer, not a string! You can assume the \"permission string\" is always valid.\n",
    "\n",
    "* _Example:_ `permissions_to_octa(\"rwxr-xr-x\") = 755`"
   ]
  },
  {
   "cell_type": "code",
   "execution_count": 28,
   "metadata": {},
   "outputs": [
    {
     "data": {
      "text/plain": [
       "755"
      ]
     },
     "execution_count": 28,
     "metadata": {},
     "output_type": "execute_result"
    }
   ],
   "source": [
    "def permissions_to_octal(p):\n",
    "    perm_dict = {'r': 4, 'w': 2, 'x': 1, '-': 0}\n",
    "    perm_chunks = [p[i:i+3] for i in range(0, len(p), 3)]\n",
    "    int_str = ''\n",
    "    for chunk in perm_chunks:\n",
    "        int_sum = sum([perm_dict[char] for char in chunk])\n",
    "        int_str += str(int_sum)\n",
    "    return int(int_str)\n",
    "    \n",
    "permissions_to_octal(\"rwxr-xr-x\")\n"
   ]
  },
  {
   "cell_type": "markdown",
   "metadata": {},
   "source": [
    "### Grocery Bags\n",
    "A large grocery bag can hold 5 items, while a small grocery bag can hold only 1. The numbers of each size bag available may be limited. All items must be placed in a bag and each bag must be filled completely. For example, if we have 16 items, 2 large bags, and 10 small bags, 8 total bags are needed. 2 large bags + 6 small bags = 16 items in 8 bags.\n",
    "\n",
    "Write a function to calculate the **minimum** number of bags needed. If it's not possible to meet these conditions, return `-1`.\n",
    "\n",
    "* `min_bags(16, 2, 10) = 8`\n",
    "* `min_bags(20, 2, 2) = -1`"
   ]
  },
  {
   "cell_type": "code",
   "execution_count": 47,
   "metadata": {},
   "outputs": [
    {
     "name": "stdout",
     "output_type": "stream",
     "text": [
      "8\n"
     ]
    }
   ],
   "source": [
    "def min_bags(num_items, avail_large, avail_small):\n",
    "    lg_bag_max = num_items // 5\n",
    "    lg_bag = min(lg_bag_max, avail_large)\n",
    "    \n",
    "    sm_bag_max = (num_items - (lg_bag*5))\n",
    "    sm_bag = min(sm_bag_max, avail_small)\n",
    "    \n",
    "    if (lg_bag * 5) + sm_bag < num_items:\n",
    "        return -1\n",
    "    else:\n",
    "        return lg_bag + sm_bag\n",
    "    \n",
    "    \n",
    "print(min_bags(16,2,10))"
   ]
  },
  {
   "cell_type": "code",
   "execution_count": null,
   "metadata": {},
   "outputs": [],
   "source": []
  }
 ],
 "metadata": {
  "kernelspec": {
   "display_name": "Python 3",
   "language": "python",
   "name": "python3"
  },
  "language_info": {
   "codemirror_mode": {
    "name": "ipython",
    "version": 3
   },
   "file_extension": ".py",
   "mimetype": "text/x-python",
   "name": "python",
   "nbconvert_exporter": "python",
   "pygments_lexer": "ipython3",
   "version": "3.8.5"
  }
 },
 "nbformat": 4,
 "nbformat_minor": 4
}
